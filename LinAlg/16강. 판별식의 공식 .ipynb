{
 "cells": [
  {
   "cell_type": "markdown",
   "metadata": {},
   "source": [
    "# 제 16강. 판별식의 공식 \n",
    "\n",
    "## $det(A) =$ Product of all pivots from Gauss-Elimination ( = no pivoting )\n",
    "\n",
    "$det(A=LDU)$ L, U = 1로 나온다\n",
    "\n",
    "$PA=LDU$\n",
    "\n",
    "$det(P) = + or - 1$\n",
    "\n",
    "$det(A) = + or - \\prod_{i=1}^n Pivots_i$\n",
    "\n",
    "대각행렬 $A$에 대하여\n",
    "\n",
    "$det(A) = N+1 $ \n",
    "\n",
    "### 모든 행에 대하여 linearly independent하다. \n",
    "\n",
    "### Column Vector 1열이라도 모두 0으로 만들어주면됨.\n",
    "\n",
    "일반적으로 \n",
    "\n",
    "\n",
    "\\begin{equation*}\n",
    "\\begin{bmatrix}\n",
    "a_{11} & a_{12} & a_{13} \\\\\\\n",
    "a_{21} & {\\color{red}{a_{22}}} & {\\color{red}{a_{23}}} \\\\\\\n",
    "a_{31} & {\\color{red}{a_{32}}} & {\\color{red}{a_{33}}} \n",
    "\\end{bmatrix}\n",
    "\\end{equation*}\n",
    "\n",
    "\n",
    "$a_{11}a_{22}a_{33}(detP_1) + a_{11}a_{23}a_{32}(detP_2)$\n",
    "\n",
    "=$a_{11}(a_{22}a_{33}detP_1 +a_{23}a_{32}detP_2)$\n",
    "\n",
    "괄호 안을 Cofactor라고 부르고 $C$ 로 표기한다. \n",
    "\n",
    "빨간 부분을 Submatrix라고 부른다. 이들의 조합으로 Cofactor를 표현한다. \n",
    "\n",
    "일반적인 식으로 나타내면 아래와 같다.\n",
    "\n",
    "$det(A) = \\sum_{j=1}^n a_{ij}C_{ij}$\n",
    "\n",
    "$C_{ij} = (-1)^{i+j}detM_{ij}$\n",
    "\n",
    "$M$ 은 앞서 말한 Submatrix를 말한다. \n",
    "\n",
    "2x2 형태가 나올 때 까지 계속 나누다 보면 $det$를 구할 수 있다. \n",
    "\n",
    "### 따라서\n",
    "\n",
    "$det(A)≠0$, all pivots$≠0$\n",
    "\n",
    "$A_{-1}$는 존재하게 되고\n",
    "\n",
    "$A_{-1}b = x$ 가 Unique한 값을 가지게 된다.  ( 조합을 계산 )"
   ]
  },
  {
   "cell_type": "code",
   "execution_count": null,
   "metadata": {},
   "outputs": [],
   "source": []
  },
  {
   "cell_type": "code",
   "execution_count": null,
   "metadata": {},
   "outputs": [],
   "source": []
  },
  {
   "cell_type": "code",
   "execution_count": null,
   "metadata": {},
   "outputs": [],
   "source": []
  },
  {
   "cell_type": "code",
   "execution_count": null,
   "metadata": {},
   "outputs": [],
   "source": []
  },
  {
   "cell_type": "code",
   "execution_count": null,
   "metadata": {},
   "outputs": [],
   "source": []
  },
  {
   "cell_type": "code",
   "execution_count": null,
   "metadata": {},
   "outputs": [],
   "source": []
  }
 ],
 "metadata": {
  "kernelspec": {
   "display_name": "Python 3",
   "language": "python",
   "name": "python3"
  },
  "language_info": {
   "codemirror_mode": {
    "name": "ipython",
    "version": 3
   },
   "file_extension": ".py",
   "mimetype": "text/x-python",
   "name": "python",
   "nbconvert_exporter": "python",
   "pygments_lexer": "ipython3",
   "version": "3.6.4"
  }
 },
 "nbformat": 4,
 "nbformat_minor": 2
}
