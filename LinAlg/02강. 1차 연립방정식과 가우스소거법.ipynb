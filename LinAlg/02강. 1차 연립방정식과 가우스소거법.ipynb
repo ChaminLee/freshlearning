{
 "cells": [
  {
   "cell_type": "markdown",
   "metadata": {},
   "source": [
    "# 2강. 1차 연립방정식과 가우스소거법\n",
    "\n",
    "### 1.1 Introduction : How to solve linear equations with n unknowns?\n",
    "\n",
    "(1) : Elimination\n",
    "\n",
    "\\begin{equation*}\n",
    "\\begin{cases}\n",
    "x + 2y = 3\\\\\n",
    "4x + 5y = 6\n",
    "\\end{cases}\n",
    "\\end{equation*}\n",
    "\n",
    "\n",
    "$ (4x + 5y = 6 ) - 4 * (x + 2y = 3 ) => -3y=-6 => y=2, x=-1$\n",
    "\n",
    "\n",
    "(2) : Determinants\n",
    "\n",
    "\\begin{equation*}\n",
    "\\mathbf{y} =\\frac{\\begin{bmatrix}\n",
    "1 & 3 \\\\\n",
    "4 & 6 \\\\\n",
    "\\end{bmatrix}}{\\begin{bmatrix}\n",
    "1 & 2 \\\\\n",
    "4 & 5 \\\\\n",
    "\\end{bmatrix}}=\n",
    "2\n",
    "\\end{equation*}\n",
    "\n",
    "\\begin{equation*}\n",
    "\\mathbf{x} =\\frac{\\begin{bmatrix}\n",
    "3 & 2 \\\\\n",
    "6 & 5 \\\\\n",
    "\\end{bmatrix}}{\\begin{bmatrix}\n",
    "1 & 2 \\\\\n",
    "4 & 5 \\\\\n",
    "\\end{bmatrix}}=\n",
    "-1\n",
    "\\end{equation*}\n",
    "\n",
    "보통은 Elimination method가 Determinants 보다 자주 사용된다!\n",
    "\n",
    "\n"
   ]
  },
  {
   "cell_type": "markdown",
   "metadata": {},
   "source": [
    "### 1.2 Geometry of Linear Equations\n",
    "\n",
    "도형의 특성을 이용한 것 \n",
    "Lines ( 2 unknowns ), plans ( 3 or more unknowns )\n",
    "\n",
    "\\begin{equation*}\n",
    "\\begin{cases}\n",
    "2x - y = 1\\\\\n",
    "x + y = 5\\\\\n",
    "\\end{cases}\n",
    "\\end{equation*}\n",
    "\n",
    "\n",
    "(1) row equations : 교점 찾기\n",
    "\n",
    "2개의 선들을 통해 교점을 찾는 해결방법을 사용한다.\n",
    "\n"
   ]
  },
  {
   "cell_type": "code",
   "execution_count": 73,
   "metadata": {
    "scrolled": true
   },
   "outputs": [
    {
     "data": {
      "image/png": "[encoded data removed]",
      "text/plain": [
       "<matplotlib.figure.Figure at 0x1173e3128>"
      ]
     },
     "metadata": {},
     "output_type": "display_data"
    }
   ],
   "source": [
    "import matplotlib.pyplot as plt\n",
    "x = [a for a in range(11)]\n",
    "y = [2*b-1 for b in range(11)]\n",
    "plt.plot(x,y,'b-')\n",
    "x2 = [ a for a in range(11)]\n",
    "y2 = [-b+5 for b in range(11)]\n",
    "plt.plot(x2,y2,'r-')\n",
    "plt.axis([0,6,0,10])\n",
    "plt.show()"
   ]
  },
  {
   "cell_type": "markdown",
   "metadata": {},
   "source": [
    "교점이 (2,3)인 것을 알 수 있다. "
   ]
  },
  {
   "cell_type": "markdown",
   "metadata": {},
   "source": [
    "(2) Column form\n",
    "\n",
    "\\begin{equation*}\n",
    "\\mathbf{x} \\begin{bmatrix}\n",
    "2\\\\\n",
    "1\n",
    "\\end{bmatrix}\n",
    "+\n",
    "\\mathbf{y} \\begin{bmatrix}\n",
    "-1\\\\\n",
    "1\n",
    "\\end{bmatrix}=\n",
    "\\begin{bmatrix}\n",
    "1\\\\\n",
    "5\n",
    "\\end{bmatrix}\n",
    "\\end{equation*}\n",
    "\n",
    "\n",
    "열벡터의 combination을 찾기 위해 $[1,5]^T$를 만든다"
   ]
  },
  {
   "cell_type": "code",
   "execution_count": 74,
   "metadata": {},
   "outputs": [
    {
     "data": {
      "image/png": "[encoded data removed]",
      "text/plain": [
       "<matplotlib.figure.Figure at 0x11727f6a0>"
      ]
     },
     "metadata": {},
     "output_type": "display_data"
    }
   ],
   "source": [
    "soa = np.array([[0, 0, 2,1], [0, 0, -1, 1],[0,0,1,5],[-3,3,4,2],[4,2,-3,3]]) \n",
    "X, Y, U, V = zip(*soa) \n",
    "plt.figure() \n",
    "ax = plt.gca() \n",
    "ax.quiver(X, Y, U, V, angles='xy', scale_units='xy', scale=1,color=['g','g','r','b','b']) \n",
    "ax.set_xlim([-5, 5]) \n",
    "ax.set_ylim([0, 5]) \n",
    "plt.draw() \n",
    "\n",
    "x = [a for a in range(5)]\n",
    "y = [1/2 *b for b in range(5)]\n",
    "plt.plot(x,y,'b--')\n",
    "x2 = [a for a in [-1,-2,-3]]\n",
    "y2 = [-b for b in [-1,-2,-3]]\n",
    "\n",
    "plt.plot(x2,y2,'b--')\n",
    "plt.show() "
   ]
  },
  {
   "cell_type": "markdown",
   "metadata": {},
   "source": [
    "두 개의 벡터를 나타냈다. \n",
    "평행사변형의 원리를 이용해 x,y값을 구할 수 있다. \n",
    "x 방향으로 2만큼 y 방향으로 3만큼 움직여 구할 수 있다. "
   ]
  },
  {
   "cell_type": "markdown",
   "metadata": {},
   "source": [
    "*  n = 3일 때,\n",
    "\n",
    "\\begin{equation*}\n",
    "\\mathbf{3 planes} \\begin{cases}\n",
    "2u + v + w = 5\\\\\n",
    "4u -6v = -2\\\\\n",
    "-2u + 7v +2w = 9\n",
    "\\end{cases}\n",
    "\\end{equation*}\n",
    "\n",
    "(1) row equations \n",
    "교점찾기!\n",
    "\n",
    "(2) column form\n",
    "Linear Combination으로 값 찾기\n",
    "\n",
    "* Singular Cases -> no solution / infinite soluitons\n",
    "\n",
    "(1) row form\n",
    "- parallel ( 평행 )   => no solution\n",
    "- no intersection of 3 planes  => no solution\n",
    "- line of intersection     => infinite\n",
    "\n",
    "(2) column form\n",
    "3개의 열벡터가 평면에 있다.\n",
    "\n"
   ]
  },
  {
   "cell_type": "code",
   "execution_count": 75,
   "metadata": {},
   "outputs": [
    {
     "data": {
      "text/plain": [
       "<matplotlib.legend.Legend at 0x1174a2630>"
      ]
     },
     "execution_count": 75,
     "metadata": {},
     "output_type": "execute_result"
    },
    {
     "data": {
      "image/png": "[encoded data removed]",
      "text/plain": [
       "<matplotlib.figure.Figure at 0x117eebf28>"
      ]
     },
     "metadata": {},
     "output_type": "display_data"
    }
   ],
   "source": [
    "soa = np.array([[-3, 2, 6,1], [-3, 3.5, 6, -2],[-3,1,6,3]]) \n",
    "X, Y, U, V = zip(*soa) \n",
    "plt.figure() \n",
    "ax = plt.gca() \n",
    "ax.quiver(X, Y, U, V, angles='xy', scale_units='xy', scale=1,color=['g','g','r','b','b']) \n",
    "ax.set_xlim([-5, 5]) \n",
    "ax.set_ylim([0, 5]) \n",
    "plt.draw() \n",
    "\n",
    "plt.plot(-4.5,4.5,'r.',label='A')\n",
    "plt.plot(2,3,'b.',label=\"B\")\n",
    "plt.legend(loc='upper right')"
   ]
  },
  {
   "cell_type": "markdown",
   "metadata": {},
   "source": [
    " 평면 밖에 있는 점 A의 경우 \" No Solution \"이고\n",
    " \n",
    " 평면 안에 있는 점 B의 경우는 \"Infinite Solution\"이다.\n",
    " \n",
    " \"Pivot\"은 행렬의 대각선상 성분을 말한다 ( Pivot들은 0이면 안된다 )\n",
    " \n",
    " \\begin{equation*}\n",
    "\\begin{bmatrix}\n",
    "1st & 0 & \\cdots & 0\\\\\\\n",
    "0&  2nd & \\cdots & 0\\\\\\\n",
    "\\vdots & \\cdots & \\ddots  & \\vdots\\\\\\\n",
    "0 & 0 & \\cdots & N\n",
    "\\end{bmatrix}\n",
    "\\end{equation*}\n",
    "\n",
    "$$1st, 2nd \\cdots N ≠ 0$$\n"
   ]
  },
  {
   "cell_type": "markdown",
   "metadata": {},
   "source": [
    "### 1.3 Example of Gaussian Elimination\n",
    "\n",
    "* Forward Elimination Step\n",
    "\n",
    "\\begin{equation*}\n",
    "\\begin{cases}\n",
    "2u + v + w = 5   (:①) \\\\\\\n",
    "4u - 6v = -2   (:②)\\\\\\\n",
    "-2u + 7v +2w = 9  (:③)\t\n",
    "\\end{cases}\n",
    "\\end{equation*}\n",
    "\n",
    "\"첫 번째 Pivot\"은 $2u$의 2이다. ③번 수식에서 $u$를 제거하기 위해 ①+③을 한다. \n",
    "\n",
    "그리고 ②번식의 $u$를 없애기 위해 2*① - ②를 해준다. 결과는 아래와 같다.\n",
    "\n",
    "\\begin{equation*}\n",
    "\\begin{cases}\n",
    "{\\color{Red}2u} + v + w = 5 \\\\\\\n",
    "-8v-2w = -12\\\\\\\n",
    "8v+3w = 14\n",
    "\\end{cases}\n",
    "\\end{equation*}\n",
    "\n",
    "\"두 번째 Pivot\"는 $-8v$의 -8이다. ③번 수식에서 $v$를 제거하기 위해 ②+③을 한다.\n",
    "\n",
    "\\begin{equation*}\n",
    "\\begin{cases}\n",
    "2u + v + w = 5 \\\\\\\n",
    "{\\color{Red}-\\color{Red}8v} -2w = -12\\\\\\\n",
    "3w = 2\n",
    "\\end{cases}\n",
    "\\end{equation*}\n",
    "\n",
    "마지막에 나오는 모형이 변수별로 정렬하면 Triangular System이 나오게 된다. \n",
    "$w=2  ->  v=1  -> u=1  :  \"back-subtitution\"$\n",
    "\n",
    " \\begin{equation*}\n",
    "\\begin{bmatrix}\n",
    "2 & 1 & 1 & 5\\\\\n",
    "4 & -6 & 0 & -2\\\\\n",
    "-2 & 7 & 2  & 9\\\\\n",
    "\\end{bmatrix}->\n",
    "\\begin{bmatrix}\n",
    "2 & 1 & 1 & 5\\\\\n",
    "0 & -8 & -2 & -12\\\\\n",
    "0 & 8 & 3  & 14\\\\\n",
    "\\end{bmatrix}->\n",
    "\\begin{bmatrix}\n",
    "2 & 1 & 1 & 5\\\\\n",
    "0 & -8 & -2 & -12\\\\\n",
    "0 & 0 & 1  & 2\\\\\n",
    "\\end{bmatrix}\n",
    "\\end{equation*}\n",
    "\n",
    "Triangular System이 되었다. \n",
    "\n",
    "* Breakdown Elimination\n",
    "\n",
    "Pivot중의 하나가 0으로 나타난다면, Elimination은 중지되어야하고, 방정식간의 순서를 바꾸어야 한다.\n",
    "(Pivoting)\n",
    "\n",
    "\\begin{equation*}\n",
    "\\begin{cases}\n",
    "u + v + w = *    (:①)  \\\\\\\n",
    "2u +2v + 5w = *   (:②) \\\\\\\n",
    "4u + 6v +8w = *  (:③)\t\n",
    "\\end{cases}\n",
    "\\end{equation*}\n",
    "\n",
    "위의 식일 때 Gauss Elimination을 진행하면 아래와 같은 방정식이 도출된다.\n",
    "( ② - 2*①   /  ③ - 4 * ① )\n",
    "\n",
    "\\begin{equation*}\n",
    "\\begin{cases}\n",
    "u + v + w = *   \\\\\\\n",
    "3w = *   \\\\\\\n",
    "2v + 4w = *\n",
    "\\end{cases}\n",
    "\\end{equation*}\n",
    "\n",
    "위의 방정식은 2nd Pivot이 없어서 문제가 발생한다.  이럴경우엔 ②, ③의 순서를 바꾸어 진행한다.\n",
    "\\begin{equation*}\n",
    "\\begin{cases}\n",
    "u + v + w = *    \\\\\\\n",
    "2v +4w = * \\\\\\\n",
    "3w = *   \n",
    "\\end{cases}\n",
    "\\end{equation*}\n",
    "\n",
    "하지만 위와 같은 경우는 ③의 식이 2nd Pivot을 가져서 해결할 수 있는 Non-Singular 문제이다.\n",
    "\n",
    "아래의 예는 Singular한 문제를 보여준다. \n",
    "\n",
    "\\begin{equation*}\n",
    "\\begin{cases}\n",
    "u + v + w = a    (:①)  \\\\\\\n",
    "2u +2v + 5w = b   (:②) \\\\\\\n",
    "4u + 4v +8w = c  (:③)\t\n",
    "\\end{cases}\n",
    "\\end{equation*}\n",
    "\n",
    "위의 식일 때 Gauss Elimination을 진행하면 아래와 같은 방정식이 도출된다.\n",
    "( ② - 2*①   /  ③ - 4 * ① )\n",
    "\n",
    "\\begin{equation*}\n",
    "\\begin{cases}\n",
    "u + v + w = a   \\\\\\\n",
    "3w = b-2a   \\\\\\\n",
    "4w = c-4a\n",
    "\\end{cases}\n",
    "\\end{equation*}\n",
    "\n",
    "Zero-Pivot을 위해 바꿔줄 것이 없다.\n",
    "\n",
    "이 때는 만약에 $\\frac{b-2a}{3} = \\frac{c-4a}{4}$ 일 경우 Infinite-Solution이다.\n",
    "반대로 아닐경우는 No-Solution이다. "
   ]
  },
  {
   "cell_type": "code",
   "execution_count": null,
   "metadata": {},
   "outputs": [],
   "source": []
  }
 ],
 "metadata": {
  "kernelspec": {
   "display_name": "Python 3",
   "language": "python",
   "name": "python3"
  },
  "language_info": {
   "codemirror_mode": {
    "name": "ipython",
    "version": 3
   },
   "file_extension": ".py",
   "mimetype": "text/x-python",
   "name": "python",
   "nbconvert_exporter": "python",
   "pygments_lexer": "ipython3",
   "version": "3.6.4"
  }
 },
 "nbformat": 4,
 "nbformat_minor": 2
}
