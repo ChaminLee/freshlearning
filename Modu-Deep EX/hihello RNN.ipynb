{
 "cells": [
  {
   "cell_type": "code",
   "execution_count": 60,
   "metadata": {},
   "outputs": [],
   "source": [
    "import tensorflow as tf\n",
    "import numpy as np\n",
    "tf.set_random_seed(777)"
   ]
  },
  {
   "cell_type": "code",
   "execution_count": 80,
   "metadata": {},
   "outputs": [],
   "source": [
    "tf.reset_default_graph()"
   ]
  },
  {
   "cell_type": "code",
   "execution_count": 81,
   "metadata": {},
   "outputs": [],
   "source": [
    "idx2char = ['h','i','e','l','o']"
   ]
  },
  {
   "cell_type": "code",
   "execution_count": 82,
   "metadata": {},
   "outputs": [],
   "source": [
    "x_data = [[0,1,0,2,3,3]]\n",
    "x_one_hot = [[[1,0,0,0,0],\n",
    "            [0,1,0,0,0],\n",
    "            [1,0,0,0,0],\n",
    "            [0,0,1,0,0],\n",
    "            [0,0,0,1,0],\n",
    "            [0,0,0,1,0]]]\n",
    "y_data = [[1,0,2,3,3,4]]"
   ]
  },
  {
   "cell_type": "code",
   "execution_count": 83,
   "metadata": {},
   "outputs": [],
   "source": [
    "num_classes = 5\n",
    "input_dim = 5\n",
    "hidden_size = 5\n",
    "sequence_length = 6\n",
    "batch_size = 1\n",
    "learning_rate = 0.1"
   ]
  },
  {
   "cell_type": "code",
   "execution_count": 84,
   "metadata": {},
   "outputs": [],
   "source": [
    "X = tf.placeholder(tf.float32, [None,sequence_length,input_dim])\n",
    "Y = tf.placeholder(tf.int32, [None,sequence_length])"
   ]
  },
  {
   "cell_type": "code",
   "execution_count": 85,
   "metadata": {},
   "outputs": [],
   "source": [
    "cell = tf.nn.rnn_cell.LSTMCell(num_units=num_classes,state_is_tuple=True)\n",
    "initial_state = cell.zero_state(batch_size,tf.float32)\n",
    "outputs,states = tf.nn.dynamic_rnn(cell,X,initial_state=initial_state,dtype=tf.float32)\n"
   ]
  },
  {
   "cell_type": "code",
   "execution_count": 86,
   "metadata": {},
   "outputs": [],
   "source": [
    "X_for_fc = tf.reshape(outputs,[-1,hidden_size])\n",
    "outputs = tf.contrib.layers.fully_connected(inputs=X_for_fc,\n",
    "                                            num_outputs=num_classes,\n",
    "                                           activation_fn = None)"
   ]
  },
  {
   "cell_type": "code",
   "execution_count": 87,
   "metadata": {},
   "outputs": [],
   "source": [
    "outputs = tf.reshape(outputs,[batch_size,sequence_length,num_classes])\n"
   ]
  },
  {
   "cell_type": "code",
   "execution_count": 88,
   "metadata": {},
   "outputs": [],
   "source": [
    "weights = tf.ones([batch_size,sequence_length])\n",
    "sequence_loss = tf.contrib.seq2seq.sequence_loss(\n",
    "    logits=outputs, targets=Y, weights=weights)"
   ]
  },
  {
   "cell_type": "code",
   "execution_count": 89,
   "metadata": {},
   "outputs": [],
   "source": [
    "loss = tf.reduce_mean(sequence_loss)\n",
    "train = tf.train.AdamOptimizer(learning_rate=learning_rate).minimize(loss)"
   ]
  },
  {
   "cell_type": "code",
   "execution_count": 90,
   "metadata": {},
   "outputs": [],
   "source": [
    "prediction = tf.argmax(outputs,2)"
   ]
  },
  {
   "cell_type": "code",
   "execution_count": 91,
   "metadata": {},
   "outputs": [
    {
     "name": "stdout",
     "output_type": "stream",
     "text": [
      "0 loss: 1.618783 preddiction: [[3 3 3 3 3 3]] true Y : [[1, 0, 2, 3, 3, 4]]\n",
      "\tPrediction str: llllll\n",
      "1 loss: 1.5241802 preddiction: [[3 3 3 3 3 3]] true Y : [[1, 0, 2, 3, 3, 4]]\n",
      "\tPrediction str: llllll\n",
      "2 loss: 1.4487245 preddiction: [[3 3 3 3 3 3]] true Y : [[1, 0, 2, 3, 3, 4]]\n",
      "\tPrediction str: llllll\n",
      "3 loss: 1.3786256 preddiction: [[3 3 3 3 3 4]] true Y : [[1, 0, 2, 3, 3, 4]]\n",
      "\tPrediction str: lllllo\n",
      "4 loss: 1.3039057 preddiction: [[3 3 3 3 3 4]] true Y : [[1, 0, 2, 3, 3, 4]]\n",
      "\tPrediction str: lllllo\n",
      "5 loss: 1.2080361 preddiction: [[3 3 3 3 3 4]] true Y : [[1, 0, 2, 3, 3, 4]]\n",
      "\tPrediction str: lllllo\n",
      "6 loss: 1.0869827 preddiction: [[3 3 3 3 3 4]] true Y : [[1, 0, 2, 3, 3, 4]]\n",
      "\tPrediction str: lllllo\n",
      "7 loss: 0.9499594 preddiction: [[2 0 3 3 3 4]] true Y : [[1, 0, 2, 3, 3, 4]]\n",
      "\tPrediction str: ehlllo\n",
      "8 loss: 0.80723655 preddiction: [[2 0 2 3 3 4]] true Y : [[1, 0, 2, 3, 3, 4]]\n",
      "\tPrediction str: ehello\n",
      "9 loss: 0.67289656 preddiction: [[2 0 2 3 3 4]] true Y : [[1, 0, 2, 3, 3, 4]]\n",
      "\tPrediction str: ehello\n",
      "10 loss: 0.5570698 preddiction: [[2 0 2 3 3 4]] true Y : [[1, 0, 2, 3, 3, 4]]\n",
      "\tPrediction str: ehello\n",
      "11 loss: 0.45967183 preddiction: [[1 0 2 3 3 4]] true Y : [[1, 0, 2, 3, 3, 4]]\n",
      "\tPrediction str: ihello\n",
      "12 loss: 0.38436183 preddiction: [[1 0 2 3 3 4]] true Y : [[1, 0, 2, 3, 3, 4]]\n",
      "\tPrediction str: ihello\n",
      "13 loss: 0.32716873 preddiction: [[1 0 2 3 3 4]] true Y : [[1, 0, 2, 3, 3, 4]]\n",
      "\tPrediction str: ihello\n",
      "14 loss: 0.28501707 preddiction: [[1 0 2 3 3 4]] true Y : [[1, 0, 2, 3, 3, 4]]\n",
      "\tPrediction str: ihello\n",
      "15 loss: 0.25174886 preddiction: [[1 0 2 3 3 4]] true Y : [[1, 0, 2, 3, 3, 4]]\n",
      "\tPrediction str: ihello\n",
      "16 loss: 0.22267905 preddiction: [[1 0 2 3 3 4]] true Y : [[1, 0, 2, 3, 3, 4]]\n",
      "\tPrediction str: ihello\n",
      "17 loss: 0.19503579 preddiction: [[1 0 2 3 3 4]] true Y : [[1, 0, 2, 3, 3, 4]]\n",
      "\tPrediction str: ihello\n",
      "18 loss: 0.16642343 preddiction: [[1 0 2 3 3 4]] true Y : [[1, 0, 2, 3, 3, 4]]\n",
      "\tPrediction str: ihello\n",
      "19 loss: 0.13679868 preddiction: [[1 0 2 3 3 4]] true Y : [[1, 0, 2, 3, 3, 4]]\n",
      "\tPrediction str: ihello\n",
      "20 loss: 0.108326346 preddiction: [[1 0 2 3 3 4]] true Y : [[1, 0, 2, 3, 3, 4]]\n",
      "\tPrediction str: ihello\n",
      "21 loss: 0.08339386 preddiction: [[1 0 2 3 3 4]] true Y : [[1, 0, 2, 3, 3, 4]]\n",
      "\tPrediction str: ihello\n",
      "22 loss: 0.06315933 preddiction: [[1 0 2 3 3 4]] true Y : [[1, 0, 2, 3, 3, 4]]\n",
      "\tPrediction str: ihello\n",
      "23 loss: 0.047605976 preddiction: [[1 0 2 3 3 4]] true Y : [[1, 0, 2, 3, 3, 4]]\n",
      "\tPrediction str: ihello\n",
      "24 loss: 0.036123227 preddiction: [[1 0 2 3 3 4]] true Y : [[1, 0, 2, 3, 3, 4]]\n",
      "\tPrediction str: ihello\n",
      "25 loss: 0.027920038 preddiction: [[1 0 2 3 3 4]] true Y : [[1, 0, 2, 3, 3, 4]]\n",
      "\tPrediction str: ihello\n",
      "26 loss: 0.022141365 preddiction: [[1 0 2 3 3 4]] true Y : [[1, 0, 2, 3, 3, 4]]\n",
      "\tPrediction str: ihello\n",
      "27 loss: 0.017954452 preddiction: [[1 0 2 3 3 4]] true Y : [[1, 0, 2, 3, 3, 4]]\n",
      "\tPrediction str: ihello\n",
      "28 loss: 0.014818203 preddiction: [[1 0 2 3 3 4]] true Y : [[1, 0, 2, 3, 3, 4]]\n",
      "\tPrediction str: ihello\n",
      "29 loss: 0.012474507 preddiction: [[1 0 2 3 3 4]] true Y : [[1, 0, 2, 3, 3, 4]]\n",
      "\tPrediction str: ihello\n",
      "30 loss: 0.010696547 preddiction: [[1 0 2 3 3 4]] true Y : [[1, 0, 2, 3, 3, 4]]\n",
      "\tPrediction str: ihello\n",
      "31 loss: 0.009267001 preddiction: [[1 0 2 3 3 4]] true Y : [[1, 0, 2, 3, 3, 4]]\n",
      "\tPrediction str: ihello\n",
      "32 loss: 0.008090042 preddiction: [[1 0 2 3 3 4]] true Y : [[1, 0, 2, 3, 3, 4]]\n",
      "\tPrediction str: ihello\n",
      "33 loss: 0.0071542035 preddiction: [[1 0 2 3 3 4]] true Y : [[1, 0, 2, 3, 3, 4]]\n",
      "\tPrediction str: ihello\n",
      "34 loss: 0.0064378195 preddiction: [[1 0 2 3 3 4]] true Y : [[1, 0, 2, 3, 3, 4]]\n",
      "\tPrediction str: ihello\n",
      "35 loss: 0.005889645 preddiction: [[1 0 2 3 3 4]] true Y : [[1, 0, 2, 3, 3, 4]]\n",
      "\tPrediction str: ihello\n",
      "36 loss: 0.005446689 preddiction: [[1 0 2 3 3 4]] true Y : [[1, 0, 2, 3, 3, 4]]\n",
      "\tPrediction str: ihello\n",
      "37 loss: 0.0050581237 preddiction: [[1 0 2 3 3 4]] true Y : [[1, 0, 2, 3, 3, 4]]\n",
      "\tPrediction str: ihello\n",
      "38 loss: 0.0047011576 preddiction: [[1 0 2 3 3 4]] true Y : [[1, 0, 2, 3, 3, 4]]\n",
      "\tPrediction str: ihello\n",
      "39 loss: 0.004373708 preddiction: [[1 0 2 3 3 4]] true Y : [[1, 0, 2, 3, 3, 4]]\n",
      "\tPrediction str: ihello\n",
      "40 loss: 0.004077278 preddiction: [[1 0 2 3 3 4]] true Y : [[1, 0, 2, 3, 3, 4]]\n",
      "\tPrediction str: ihello\n",
      "41 loss: 0.0038096083 preddiction: [[1 0 2 3 3 4]] true Y : [[1, 0, 2, 3, 3, 4]]\n",
      "\tPrediction str: ihello\n",
      "42 loss: 0.003565982 preddiction: [[1 0 2 3 3 4]] true Y : [[1, 0, 2, 3, 3, 4]]\n",
      "\tPrediction str: ihello\n",
      "43 loss: 0.0033418338 preddiction: [[1 0 2 3 3 4]] true Y : [[1, 0, 2, 3, 3, 4]]\n",
      "\tPrediction str: ihello\n",
      "44 loss: 0.0031335708 preddiction: [[1 0 2 3 3 4]] true Y : [[1, 0, 2, 3, 3, 4]]\n",
      "\tPrediction str: ihello\n",
      "45 loss: 0.002939192 preddiction: [[1 0 2 3 3 4]] true Y : [[1, 0, 2, 3, 3, 4]]\n",
      "\tPrediction str: ihello\n",
      "46 loss: 0.002757835 preddiction: [[1 0 2 3 3 4]] true Y : [[1, 0, 2, 3, 3, 4]]\n",
      "\tPrediction str: ihello\n",
      "47 loss: 0.0025894367 preddiction: [[1 0 2 3 3 4]] true Y : [[1, 0, 2, 3, 3, 4]]\n",
      "\tPrediction str: ihello\n",
      "48 loss: 0.0024343166 preddiction: [[1 0 2 3 3 4]] true Y : [[1, 0, 2, 3, 3, 4]]\n",
      "\tPrediction str: ihello\n",
      "49 loss: 0.0022925595 preddiction: [[1 0 2 3 3 4]] true Y : [[1, 0, 2, 3, 3, 4]]\n",
      "\tPrediction str: ihello\n"
     ]
    }
   ],
   "source": [
    "with tf.Session() as sess:\n",
    "    sess.run(tf.global_variables_initializer())\n",
    "    \n",
    "    for i in range(50):\n",
    "        L,_ = sess.run([loss,train],feed_dict={X:x_one_hot,Y:y_data})\n",
    "        result = sess.run(prediction,feed_dict={X:x_one_hot})\n",
    "        print(i,\"loss:\",L,\"preddiction:\",result,\"true Y :\",y_data)\n",
    "        \n",
    "        result_str = [idx2char[c] for c in np.squeeze(result)]\n",
    "        print(\"\\tPrediction str:\",''.join(result_str))"
   ]
  },
  {
   "cell_type": "code",
   "execution_count": null,
   "metadata": {},
   "outputs": [],
   "source": []
  },
  {
   "cell_type": "code",
   "execution_count": null,
   "metadata": {},
   "outputs": [],
   "source": []
  }
 ],
 "metadata": {
  "kernelspec": {
   "display_name": "Python 3",
   "language": "python",
   "name": "python3"
  },
  "language_info": {
   "codemirror_mode": {
    "name": "ipython",
    "version": 3
   },
   "file_extension": ".py",
   "mimetype": "text/x-python",
   "name": "python",
   "nbconvert_exporter": "python",
   "pygments_lexer": "ipython3",
   "version": "3.6.4"
  }
 },
 "nbformat": 4,
 "nbformat_minor": 2
}
