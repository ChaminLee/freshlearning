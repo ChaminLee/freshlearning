{
 "cells": [
  {
   "cell_type": "code",
   "execution_count": 73,
   "metadata": {},
   "outputs": [],
   "source": [
    "import tensorflow as tf\n",
    "import numpy as np\n",
    "tf.set_random_seed(777)"
   ]
  },
  {
   "cell_type": "code",
   "execution_count": 109,
   "metadata": {},
   "outputs": [],
   "source": [
    "tf.reset_default_graph()"
   ]
  },
  {
   "cell_type": "code",
   "execution_count": 110,
   "metadata": {},
   "outputs": [
    {
     "data": {
      "text/plain": [
       "130"
      ]
     },
     "execution_count": 110,
     "metadata": {},
     "output_type": "execute_result"
    }
   ],
   "source": [
    "sample = ' This is work in progress, and may have bugs. However, we call for your comments and pull requests. Check out our style guide line'\n",
    "len(sample)"
   ]
  },
  {
   "cell_type": "code",
   "execution_count": 111,
   "metadata": {},
   "outputs": [
    {
     "data": {
      "text/plain": [
       "['d',\n",
       " 'i',\n",
       " '.',\n",
       " 'a',\n",
       " 'm',\n",
       " 'T',\n",
       " 't',\n",
       " 'p',\n",
       " ' ',\n",
       " 'u',\n",
       " 'q',\n",
       " 's',\n",
       " 'e',\n",
       " 'n',\n",
       " 'f',\n",
       " 'w',\n",
       " ',',\n",
       " 'o',\n",
       " 'c',\n",
       " 'l',\n",
       " 'C',\n",
       " 'k',\n",
       " 'y',\n",
       " 'r',\n",
       " 'h',\n",
       " 'H',\n",
       " 'b',\n",
       " 'v',\n",
       " 'g']"
      ]
     },
     "execution_count": 111,
     "metadata": {},
     "output_type": "execute_result"
    }
   ],
   "source": [
    "idx2char = list(set(sample))\n",
    "idx2char"
   ]
  },
  {
   "cell_type": "code",
   "execution_count": 112,
   "metadata": {},
   "outputs": [
    {
     "data": {
      "text/plain": [
       "{' ': 8,\n",
       " ',': 16,\n",
       " '.': 2,\n",
       " 'C': 20,\n",
       " 'H': 25,\n",
       " 'T': 5,\n",
       " 'a': 3,\n",
       " 'b': 26,\n",
       " 'c': 18,\n",
       " 'd': 0,\n",
       " 'e': 12,\n",
       " 'f': 14,\n",
       " 'g': 28,\n",
       " 'h': 24,\n",
       " 'i': 1,\n",
       " 'k': 21,\n",
       " 'l': 19,\n",
       " 'm': 4,\n",
       " 'n': 13,\n",
       " 'o': 17,\n",
       " 'p': 7,\n",
       " 'q': 10,\n",
       " 'r': 23,\n",
       " 's': 11,\n",
       " 't': 6,\n",
       " 'u': 9,\n",
       " 'v': 27,\n",
       " 'w': 15,\n",
       " 'y': 22}"
      ]
     },
     "execution_count": 112,
     "metadata": {},
     "output_type": "execute_result"
    }
   ],
   "source": [
    "char2idx = {c: i for i, c in enumerate(idx2char)}\n",
    "char2idx"
   ]
  },
  {
   "cell_type": "code",
   "execution_count": 113,
   "metadata": {},
   "outputs": [],
   "source": [
    "dic_size = len(char2idx)\n",
    "hidden_size = len(char2idx)\n",
    "num_classes = len(char2idx)\n",
    "batch_size = 1\n",
    "sequence_length = len(sample) - 1\n",
    "learning_rate = 0.1"
   ]
  },
  {
   "cell_type": "code",
   "execution_count": 114,
   "metadata": {},
   "outputs": [
    {
     "data": {
      "text/plain": [
       "[8,\n",
       " 5,\n",
       " 24,\n",
       " 1,\n",
       " 11,\n",
       " 8,\n",
       " 1,\n",
       " 11,\n",
       " 8,\n",
       " 15,\n",
       " 17,\n",
       " 23,\n",
       " 21,\n",
       " 8,\n",
       " 1,\n",
       " 13,\n",
       " 8,\n",
       " 7,\n",
       " 23,\n",
       " 17,\n",
       " 28,\n",
       " 23,\n",
       " 12,\n",
       " 11,\n",
       " 11,\n",
       " 16,\n",
       " 8,\n",
       " 3,\n",
       " 13,\n",
       " 0,\n",
       " 8,\n",
       " 4,\n",
       " 3,\n",
       " 22,\n",
       " 8,\n",
       " 24,\n",
       " 3,\n",
       " 27,\n",
       " 12,\n",
       " 8,\n",
       " 26,\n",
       " 9,\n",
       " 28,\n",
       " 11,\n",
       " 2,\n",
       " 8,\n",
       " 25,\n",
       " 17,\n",
       " 15,\n",
       " 12,\n",
       " 27,\n",
       " 12,\n",
       " 23,\n",
       " 16,\n",
       " 8,\n",
       " 15,\n",
       " 12,\n",
       " 8,\n",
       " 18,\n",
       " 3,\n",
       " 19,\n",
       " 19,\n",
       " 8,\n",
       " 14,\n",
       " 17,\n",
       " 23,\n",
       " 8,\n",
       " 22,\n",
       " 17,\n",
       " 9,\n",
       " 23,\n",
       " 8,\n",
       " 18,\n",
       " 17,\n",
       " 4,\n",
       " 4,\n",
       " 12,\n",
       " 13,\n",
       " 6,\n",
       " 11,\n",
       " 8,\n",
       " 3,\n",
       " 13,\n",
       " 0,\n",
       " 8,\n",
       " 7,\n",
       " 9,\n",
       " 19,\n",
       " 19,\n",
       " 8,\n",
       " 23,\n",
       " 12,\n",
       " 10,\n",
       " 9,\n",
       " 12,\n",
       " 11,\n",
       " 6,\n",
       " 11,\n",
       " 2,\n",
       " 8,\n",
       " 20,\n",
       " 24,\n",
       " 12,\n",
       " 18,\n",
       " 21,\n",
       " 8,\n",
       " 17,\n",
       " 9,\n",
       " 6,\n",
       " 8,\n",
       " 17,\n",
       " 9,\n",
       " 23,\n",
       " 8,\n",
       " 11,\n",
       " 6,\n",
       " 22,\n",
       " 19,\n",
       " 12,\n",
       " 8,\n",
       " 28,\n",
       " 9,\n",
       " 1,\n",
       " 0,\n",
       " 12,\n",
       " 8,\n",
       " 19,\n",
       " 1,\n",
       " 13,\n",
       " 12]"
      ]
     },
     "execution_count": 114,
     "metadata": {},
     "output_type": "execute_result"
    }
   ],
   "source": [
    "sample_idx = [char2idx[c] for c in sample]\n",
    "sample_idx"
   ]
  },
  {
   "cell_type": "code",
   "execution_count": 115,
   "metadata": {},
   "outputs": [
    {
     "data": {
      "text/plain": [
       "[[8,\n",
       "  5,\n",
       "  24,\n",
       "  1,\n",
       "  11,\n",
       "  8,\n",
       "  1,\n",
       "  11,\n",
       "  8,\n",
       "  15,\n",
       "  17,\n",
       "  23,\n",
       "  21,\n",
       "  8,\n",
       "  1,\n",
       "  13,\n",
       "  8,\n",
       "  7,\n",
       "  23,\n",
       "  17,\n",
       "  28,\n",
       "  23,\n",
       "  12,\n",
       "  11,\n",
       "  11,\n",
       "  16,\n",
       "  8,\n",
       "  3,\n",
       "  13,\n",
       "  0,\n",
       "  8,\n",
       "  4,\n",
       "  3,\n",
       "  22,\n",
       "  8,\n",
       "  24,\n",
       "  3,\n",
       "  27,\n",
       "  12,\n",
       "  8,\n",
       "  26,\n",
       "  9,\n",
       "  28,\n",
       "  11,\n",
       "  2,\n",
       "  8,\n",
       "  25,\n",
       "  17,\n",
       "  15,\n",
       "  12,\n",
       "  27,\n",
       "  12,\n",
       "  23,\n",
       "  16,\n",
       "  8,\n",
       "  15,\n",
       "  12,\n",
       "  8,\n",
       "  18,\n",
       "  3,\n",
       "  19,\n",
       "  19,\n",
       "  8,\n",
       "  14,\n",
       "  17,\n",
       "  23,\n",
       "  8,\n",
       "  22,\n",
       "  17,\n",
       "  9,\n",
       "  23,\n",
       "  8,\n",
       "  18,\n",
       "  17,\n",
       "  4,\n",
       "  4,\n",
       "  12,\n",
       "  13,\n",
       "  6,\n",
       "  11,\n",
       "  8,\n",
       "  3,\n",
       "  13,\n",
       "  0,\n",
       "  8,\n",
       "  7,\n",
       "  9,\n",
       "  19,\n",
       "  19,\n",
       "  8,\n",
       "  23,\n",
       "  12,\n",
       "  10,\n",
       "  9,\n",
       "  12,\n",
       "  11,\n",
       "  6,\n",
       "  11,\n",
       "  2,\n",
       "  8,\n",
       "  20,\n",
       "  24,\n",
       "  12,\n",
       "  18,\n",
       "  21,\n",
       "  8,\n",
       "  17,\n",
       "  9,\n",
       "  6,\n",
       "  8,\n",
       "  17,\n",
       "  9,\n",
       "  23,\n",
       "  8,\n",
       "  11,\n",
       "  6,\n",
       "  22,\n",
       "  19,\n",
       "  12,\n",
       "  8,\n",
       "  28,\n",
       "  9,\n",
       "  1,\n",
       "  0,\n",
       "  12,\n",
       "  8,\n",
       "  19,\n",
       "  1,\n",
       "  13]]"
      ]
     },
     "execution_count": 115,
     "metadata": {},
     "output_type": "execute_result"
    }
   ],
   "source": [
    "x_data = [sample_idx[:-1]]\n",
    "y_data = [sample_idx[1:]]\n",
    "x_data"
   ]
  },
  {
   "cell_type": "code",
   "execution_count": 116,
   "metadata": {},
   "outputs": [],
   "source": [
    "X = tf.placeholder(tf.int32,[None,sequence_length])\n",
    "Y = tf.placeholder(tf.int32,[None,sequence_length])"
   ]
  },
  {
   "cell_type": "code",
   "execution_count": 117,
   "metadata": {},
   "outputs": [],
   "source": [
    "x_one_hot = tf.one_hot(X,num_classes)"
   ]
  },
  {
   "cell_type": "code",
   "execution_count": 118,
   "metadata": {},
   "outputs": [],
   "source": [
    "cell = tf.nn.rnn_cell.BasicLSTMCell(num_units=hidden_size,state_is_tuple=True)\n",
    "initial_state = cell.zero_state(batch_size,tf.float32)"
   ]
  },
  {
   "cell_type": "code",
   "execution_count": 119,
   "metadata": {},
   "outputs": [],
   "source": [
    "outputs, states = tf.nn.dynamic_rnn(cell,x_one_hot,initial_state=initial_state\n",
    "                                   , dtype=tf.float32)"
   ]
  },
  {
   "cell_type": "code",
   "execution_count": 120,
   "metadata": {},
   "outputs": [],
   "source": [
    "X_for_fc = tf.reshape(outputs,[-1,hidden_size])\n",
    "outputs = tf.contrib.layers.fully_connected(X_for_fc,num_classes,activation_fn=None)"
   ]
  },
  {
   "cell_type": "code",
   "execution_count": 121,
   "metadata": {},
   "outputs": [],
   "source": [
    "outputs = tf.reshape(outputs,[batch_size,sequence_length,num_classes])\n",
    "weights = tf.ones([batch_size,sequence_length])"
   ]
  },
  {
   "cell_type": "code",
   "execution_count": 122,
   "metadata": {},
   "outputs": [],
   "source": [
    "sequence_loss = tf.contrib.seq2seq.sequence_loss(logits=outputs,\n",
    "                                                targets=Y,weights=weights)\n",
    "loss = tf.reduce_mean(sequence_loss)\n",
    "train = tf.train.AdamOptimizer(learning_rate=learning_rate).minimize(loss)"
   ]
  },
  {
   "cell_type": "code",
   "execution_count": 123,
   "metadata": {},
   "outputs": [],
   "source": [
    "prediction = tf.argmax(outputs,axis=2)"
   ]
  },
  {
   "cell_type": "code",
   "execution_count": 125,
   "metadata": {},
   "outputs": [
    {
     "name": "stdout",
     "output_type": "stream",
     "text": [
      "0 loss : 3.3785503 prediction:                    rr                                                                                                            \n",
      "1 loss : 3.2060938 prediction:                                                                                                                                  \n",
      "2 loss : 3.0413232 prediction: s    ssssssssssssssssssssssssssssssssssssssssssssssssssssssssssssssssssssssssssssssssssssssssssssssssssssssssssssssssssssssssssss\n",
      "3 loss : 3.0544946 prediction: oii                                                            o  oo   o                 o   o                   o               \n",
      "4 loss : 2.8949838 prediction: eee                                  e            e                        a                e                                    \n",
      "5 loss : 2.8170676 prediction: ehe                                e e            e                  e    ea                u       e                            \n",
      "6 loss : 2.684759 prediction: uhe       u      u uu          e  ue e uueu    ue e             u ueue u uea         ue     ue      ee    u  eue u               \n",
      "7 loss : 2.5380735 prediction: uhi       u      u uu      n    n ueee uuuu    ue e             u ueur urumm     n   ue  u  ue       e    ue uur u               \n",
      "8 loss : 2.3724616 prediction: uhi       r      u ur      n  aan hele uurr  a ue e   a  a n  u u uour rmummn   ann aue  u  ur     ahe   uureuur u  l  uue       \n",
      "9 loss : 2.153759 prediction: uhi  i    r      u rr     and aanlhele uurr    ue e   a  aan   ou uour r rman  nand aull i  ue     ahe   uue rrr r  l  uue       \n",
      "10 loss : 1.9099652 prediction: hhin i  uer  u  uueursst. and aallhele uugss boueeete be bhll uou gour goummnttnand auel u euests. hhe o uursuur gouol uued  gl  \n",
      "11 loss : 1.7803916 prediction: hhin in  er   n  u rr  ,, and aanlhene gues. aoue es  ae aann  or goue gommand  and auel i  uest.  ahe    ue yue g yo  gutd  ain \n",
      "12 loss : 1.5248588 prediction: hhin in ier  in  uorr  ,, and aanlaale gurs. Houe es  ae gal  gor oorr gorman   and auel i  uests  ahe   iri iue g  o  guin  iin \n",
      "13 loss : 1.3537049 prediction: hhin in wor  wn puorr s., and aaylhave uugs. youeses  me cmll for your gomment  and aull ue ues... yhe k oursyue c.yll gued  aln \n",
      "14 loss : 1.1560903 prediction: hhis is wor  wn puoruess, and paylhave gugs. Hooesess ce call for your comme ts and aull feruest.. Che k oursyue csyle gulde llne\n",
      "15 loss : 1.0111481 prediction: hhissis ior  wn puorress, and paylhave bugs. Hooesers we gayl for your comment  and pull fe uests. Che k oursyur c.yle guise line\n",
      "16 loss : 0.8221946 prediction: hhis is iork in puorress, and pay have bugs. Houevers we call for yorr comments and pull fequests. Che k orrscur ctyle guise pine\n",
      "17 loss : 0.6788142 prediction: hhis is work in puorress, and pay have bugs. Howevers we call for yorr comments and pull fequests. Check our cur ctyle guide iine\n",
      "18 loss : 0.5439155 prediction: hhis is work in puogress, and pay have bugs. Houever, we call for your comments and pull fequests. Check our yur ctyle guide line\n",
      "19 loss : 0.42707866 prediction: hhis is work in puogress, and may have bugs. However, we call for your comments and pull requests. Check out our ctyle guide line\n",
      "20 loss : 0.34770182 prediction: hhis is work in progress, and may have bugs. However, we call for your comments and pull requests. Check out out ctyle guide line\n",
      "21 loss : 0.26492593 prediction: hhis is work in progress, and may have bugs. However, we call for your comments and pull requests. Check out out ctyle guide line\n",
      "22 loss : 0.20341998 prediction: This is work in progress, and may have bugs. However, we call for your comments and pull requests. Check out our style guide line\n",
      "23 loss : 0.15106477 prediction: This is work in progress, and may have bugs. However, we call for your comments and pull requests. Check out our style guide line\n",
      "24 loss : 0.113306 prediction: This is work in progress, and may have bugs. However, we call for your comments and pull requests. Check out our style guide line\n",
      "25 loss : 0.0850257 prediction: This is work in progress, and may have bugs. However, we call for your comments and pull requests. Check out our style guide line\n",
      "26 loss : 0.06542669 prediction: This is work in progress, and may have bugs. However, we call for your comments and pull requests. Check out our style guide line\n",
      "27 loss : 0.04783396 prediction: This is work in progress, and may have bugs. However, we call for your comments and pull requests. Check out our style guide line\n",
      "28 loss : 0.03855721 prediction: This is work in progress, and may have bugs. However, we call for your comments and pull requests. Check out our style guide line\n",
      "29 loss : 0.030797716 prediction: This is work in progress, and may have bugs. However, we call for your comments and pull requests. Check out our style guide line\n",
      "30 loss : 0.023385543 prediction: This is work in progress, and may have bugs. However, we call for your comments and pull requests. Check out our style guide line\n",
      "31 loss : 0.018802173 prediction: This is work in progress, and may have bugs. However, we call for your comments and pull requests. Check out our style guide line\n",
      "32 loss : 0.016407637 prediction: This is work in progress, and may have bugs. However, we call for your comments and pull requests. Check out our style guide line\n",
      "33 loss : 0.013242505 prediction: This is work in progress, and may have bugs. However, we call for your comments and pull requests. Check out our style guide line\n",
      "34 loss : 0.011028086 prediction: This is work in progress, and may have bugs. However, we call for your comments and pull requests. Check out our style guide line\n",
      "35 loss : 0.009453618 prediction: This is work in progress, and may have bugs. However, we call for your comments and pull requests. Check out our style guide line\n",
      "36 loss : 0.00801701 prediction: This is work in progress, and may have bugs. However, we call for your comments and pull requests. Check out our style guide line\n",
      "37 loss : 0.006877745 prediction: This is work in progress, and may have bugs. However, we call for your comments and pull requests. Check out our style guide line\n",
      "38 loss : 0.005945126 prediction: This is work in progress, and may have bugs. However, we call for your comments and pull requests. Check out our style guide line\n",
      "39 loss : 0.005087929 prediction: This is work in progress, and may have bugs. However, we call for your comments and pull requests. Check out our style guide line\n",
      "40 loss : 0.004365582 prediction: This is work in progress, and may have bugs. However, we call for your comments and pull requests. Check out our style guide line\n",
      "41 loss : 0.0038408937 prediction: This is work in progress, and may have bugs. However, we call for your comments and pull requests. Check out our style guide line\n",
      "42 loss : 0.0034612278 prediction: This is work in progress, and may have bugs. However, we call for your comments and pull requests. Check out our style guide line\n",
      "43 loss : 0.0031157488 prediction: This is work in progress, and may have bugs. However, we call for your comments and pull requests. Check out our style guide line\n",
      "44 loss : 0.0027851707 prediction: This is work in progress, and may have bugs. However, we call for your comments and pull requests. Check out our style guide line\n",
      "45 loss : 0.0025128894 prediction: This is work in progress, and may have bugs. However, we call for your comments and pull requests. Check out our style guide line\n",
      "46 loss : 0.0023012452 prediction: This is work in progress, and may have bugs. However, we call for your comments and pull requests. Check out our style guide line\n",
      "47 loss : 0.002126844 prediction: This is work in progress, and may have bugs. However, we call for your comments and pull requests. Check out our style guide line\n",
      "48 loss : 0.0019746271 prediction: This is work in progress, and may have bugs. However, we call for your comments and pull requests. Check out our style guide line\n",
      "49 loss : 0.0018362462 prediction: This is work in progress, and may have bugs. However, we call for your comments and pull requests. Check out our style guide line\n"
     ]
    }
   ],
   "source": [
    "with tf.Session() as sess:\n",
    "    sess.run(tf.global_variables_initializer())\n",
    "    \n",
    "    for i in range(50):\n",
    "        l,_ = sess.run([loss,train],feed_dict={X:x_data,Y:y_data})\n",
    "        result = sess.run(prediction,feed_dict={X:x_data})\n",
    "        result_str = [idx2char[c] for c in np.squeeze(result)]\n",
    "        print(i,\"loss :\",l,\"prediction:\",''.join(result_str))"
   ]
  },
  {
   "cell_type": "code",
   "execution_count": null,
   "metadata": {},
   "outputs": [],
   "source": []
  }
 ],
 "metadata": {
  "kernelspec": {
   "display_name": "Python 3",
   "language": "python",
   "name": "python3"
  },
  "language_info": {
   "codemirror_mode": {
    "name": "ipython",
    "version": 3
   },
   "file_extension": ".py",
   "mimetype": "text/x-python",
   "name": "python",
   "nbconvert_exporter": "python",
   "pygments_lexer": "ipython3",
   "version": "3.6.4"
  }
 },
 "nbformat": 4,
 "nbformat_minor": 2
}
