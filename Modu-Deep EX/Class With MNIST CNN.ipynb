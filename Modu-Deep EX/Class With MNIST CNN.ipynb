{
 "cells": [
  {
   "cell_type": "code",
   "execution_count": 1,
   "metadata": {},
   "outputs": [
    {
     "name": "stderr",
     "output_type": "stream",
     "text": [
      "/Users/charming/anaconda3/lib/python3.6/site-packages/h5py/__init__.py:36: FutureWarning: Conversion of the second argument of issubdtype from `float` to `np.floating` is deprecated. In future, it will be treated as `np.float64 == np.dtype(float).type`.\n",
      "  from ._conv import register_converters as _register_converters\n"
     ]
    }
   ],
   "source": [
    "import tensorflow as tf\n",
    "import numpy as np\n",
    "from tensorflow.examples.tutorials.mnist import input_data\n"
   ]
  },
  {
   "cell_type": "code",
   "execution_count": 25,
   "metadata": {
    "scrolled": true
   },
   "outputs": [
    {
     "name": "stdout",
     "output_type": "stream",
     "text": [
      "Extracting MNIST_data/train-images-idx3-ubyte.gz\n",
      "Extracting MNIST_data/train-labels-idx1-ubyte.gz\n",
      "Extracting MNIST_data/t10k-images-idx3-ubyte.gz\n",
      "Extracting MNIST_data/t10k-labels-idx1-ubyte.gz\n"
     ]
    }
   ],
   "source": [
    "mnist = input_data.read_data_sets(\"MNIST_data/\",one_hot=True)"
   ]
  },
  {
   "cell_type": "code",
   "execution_count": 45,
   "metadata": {},
   "outputs": [],
   "source": [
    "tf.reset_default_graph()"
   ]
  },
  {
   "cell_type": "code",
   "execution_count": 91,
   "metadata": {},
   "outputs": [],
   "source": [
    "learning_rate = 0.001\n",
    "training_epoch = 15\n",
    "batch_size = 100"
   ]
  },
  {
   "cell_type": "code",
   "execution_count": 92,
   "metadata": {},
   "outputs": [],
   "source": [
    "tf.set_random_seed(777)\n"
   ]
  },
  {
   "cell_type": "code",
   "execution_count": 48,
   "metadata": {},
   "outputs": [],
   "source": [
    "class Model:\n",
    "    \n",
    "    def __init__(self, sess, name):\n",
    "        self.sess = sess\n",
    "        self.name = name\n",
    "        self._build_net()\n",
    "    \n",
    "    def _build_net(self):\n",
    "        with tf.variable_scope(self.name):\n",
    "            self.keep_prob = tf.placeholder(tf.float32)\n",
    "            \n",
    "            self.X = tf.placeholder(tf.float32,shape=[None,784])\n",
    "            X_img = tf.reshape(self.X,[-1,28,28,1])\n",
    "            self.Y = tf.placeholder(tf.float32,shape=[None,10])\n",
    "            \n",
    "            W1 = tf.Variable(tf.random_normal([3,3,1,32],stddev=0.01))\n",
    "            L1 = tf.nn.conv2d(X_img,W1,strides=[1,1,1,1],padding=\"SAME\")\n",
    "            L1 = tf.nn.relu(L1)\n",
    "            L1 = tf.nn.max_pool(L1,ksize=[1,2,2,1],strides=[1,2,2,1],padding=\"SAME\")\n",
    "            L1 = tf.nn.dropout(L1,keep_prob=self.keep_prob)\n",
    "            \n",
    "            W2 = tf.Variable(tf.random_normal([3,3,32,64],stddev=0.01))\n",
    "            L2 = tf.nn.conv2d(L1,W2,strides=[1,1,1,1],padding=\"SAME\")\n",
    "            L2 = tf.nn.relu(L2)\n",
    "            L2 = tf.nn.max_pool(L2,ksize=[1,2,2,1],strides=[1,2,2,1],padding=\"SAME\")\n",
    "            L2 = tf.nn.dropout(L2, keep_prob=self.keep_prob)\n",
    "            \n",
    "            W3 = tf.Variable(tf.random_normal([3,3,64,128],stddev=0.01))\n",
    "            L3 = tf.nn.conv2d(L2,W3,strides=[1,1,1,1],padding=\"SAME\")\n",
    "            L3 = tf.nn.relu(L3)\n",
    "            L3 = tf.nn.max_pool(L3,ksize=[1,2,2,1],strides=[1,2,2,1],padding=\"SAME\")\n",
    "            L3 = tf.nn.dropout(L3,keep_prob=self.keep_prob)\n",
    "            L3_flat = tf.reshape(L3,[-1,4*4*128])\n",
    "            \n",
    "            W4 = tf.get_variable(\"W4\",shape=[4*4*128,625],\n",
    "                                initializer=tf.contrib.layers.xavier_initializer())\n",
    "            b4 = tf.Variable(tf.random_normal([625]))\n",
    "            L4 = tf.nn.relu(tf.matmul(L3_flat,W4)+b4)\n",
    "            L4 = tf.nn.dropout(L4, keep_prob=self.keep_prob)\n",
    "            \n",
    "            W5 = tf.get_variable(\"W5\",shape=[625,10],\n",
    "                                initializer = tf.contrib.layers.xavier_initializer())\n",
    "            b5 = tf.Variable(tf.random_normal([10]))\n",
    "            self.logits = tf.matmul(L4,W5) + b5\n",
    "            \n",
    "            self.cost = tf.reduce_mean(tf.nn.softmax_cross_entropy_with_logits_v2(logits=self.logits,labels=self.Y))\n",
    "            self.optimizer = tf.train.AdamOptimizer(learning_rate=learning_rate).minimize(self.cost)\n",
    "            \n",
    "            pred = tf.equal(tf.argmax(self.logits,1),tf.argmax(self.Y,1))\n",
    "            self.accuracy = tf.reduce_mean(tf.cast(pred,tf.float32))\n",
    "            \n",
    "    def predict(self,x_test,keep_prob=1.0):\n",
    "        return self.sess.run(self.accuracy,feed_dict={self.X:x_test,self.keep_prob:keep_prob})\n",
    "    \n",
    "    def get_accuracy(self,x_test,y_test,keep_prob=1.0):\n",
    "        return self.sess.run(self.accuracy, feed_dict={self.X:x_test,self.Y:y_test,self.keep_prob:keep_prob})\n",
    "    def train(self,x_data,y_data,keep_prob=0.7):\n",
    "        return self.sess.run([self.cost,self.optimizer],feed_dict={self.X:x_data,self.Y:y_data,self.keep_prob:keep_prob})\n",
    "            "
   ]
  },
  {
   "cell_type": "code",
   "execution_count": 49,
   "metadata": {},
   "outputs": [],
   "source": [
    "sess = tf.Session()\n",
    "m1 = Model(sess,\"m1\")"
   ]
  },
  {
   "cell_type": "code",
   "execution_count": 50,
   "metadata": {},
   "outputs": [],
   "source": [
    "sess.run(tf.global_variables_initializer())"
   ]
  },
  {
   "cell_type": "code",
   "execution_count": 51,
   "metadata": {},
   "outputs": [
    {
     "name": "stdout",
     "output_type": "stream",
     "text": [
      "학습시작\n",
      "Epoch : 0001 cost = 0.370469792\n",
      "Epoch : 0002 cost = 0.099917548\n",
      "Epoch : 0003 cost = 0.074749889\n",
      "Epoch : 0004 cost = 0.060318654\n",
      "Epoch : 0005 cost = 0.055316245\n",
      "Epoch : 0006 cost = 0.048131594\n",
      "Epoch : 0007 cost = 0.043621943\n",
      "Epoch : 0008 cost = 0.041317780\n",
      "Epoch : 0009 cost = 0.036686370\n",
      "Epoch : 0010 cost = 0.036495511\n",
      "Epoch : 0011 cost = 0.032111021\n",
      "Epoch : 0012 cost = 0.032669552\n",
      "Epoch : 0013 cost = 0.029420214\n",
      "Epoch : 0014 cost = 0.025752983\n",
      "Epoch : 0015 cost = 0.026324516\n",
      "학습 끝!\n"
     ]
    }
   ],
   "source": [
    "print(\"학습시작\")\n",
    "\n",
    "for epoch in range(training_epoch):\n",
    "    avg_cost = 0\n",
    "    total_batch = int(mnist.train.num_examples / batch_size)\n",
    "    \n",
    "    for i in range(total_batch):\n",
    "        batch_xs,batch_ys = mnist.train.next_batch(batch_size)\n",
    "        c,_ = m1.train(batch_xs,batch_ys)\n",
    "        avg_cost += c / total_batch\n",
    "    print(\"Epoch :\",\"%04d\" % (epoch+1),\"cost =\",'{:.9f}'.format(avg_cost))\n",
    "    \n",
    "print(\"학습 끝!\")"
   ]
  },
  {
   "cell_type": "code",
   "execution_count": 52,
   "metadata": {},
   "outputs": [
    {
     "name": "stdout",
     "output_type": "stream",
     "text": [
      "Accuracy : 0.9934\n"
     ]
    }
   ],
   "source": [
    "print(\"Accuracy :\",m1.get_accuracy(mnist.test.images,mnist.test.labels) )"
   ]
  },
  {
   "cell_type": "code",
   "execution_count": 99,
   "metadata": {},
   "outputs": [],
   "source": [
    "tf.reset_default_graph()"
   ]
  },
  {
   "cell_type": "code",
   "execution_count": 100,
   "metadata": {},
   "outputs": [],
   "source": [
    "class Model:\n",
    "    \n",
    "    def __init__(self,sess,name):\n",
    "        self.sess = sess\n",
    "        self.name = name\n",
    "        self._build_net()\n",
    "        \n",
    "    def _build_net(self):\n",
    "        with tf.variable_scope(self.name):\n",
    "        \n",
    "            self.training = tf.placeholder(tf.bool)\n",
    "        \n",
    "            self.X = tf.placeholder(tf.float32,shape=[None,784])\n",
    "            X_img = tf.reshape(self.X,[-1,28,28,1])\n",
    "            self.Y = tf.placeholder(tf.float32,shape=[None,10])\n",
    "        \n",
    "            conv1 = tf.layers.conv2d(inputs=X_img,filters=32,kernel_size=[3,3],padding='SAME',activation=tf.nn.relu)\n",
    "            pool1 = tf.layers.max_pooling2d(inputs=conv1,pool_size=[2,2], padding=\"SAME\",strides=2)\n",
    "            dropout1 = tf.layers.dropout(inputs=pool1,rate=0.3,training=self.training)\n",
    "        \n",
    "            conv2 = tf.layers.conv2d(inputs=dropout1, filters=64,kernel_size=[3,3],padding=\"SAME\",activation=tf.nn.relu)\n",
    "            pool2 = tf.layers.max_pooling2d(inputs=conv2, pool_size=[2,2],padding=\"SAME\",strides=2)\n",
    "            dropout2 = tf.layers.dropout(inputs=pool2,rate=0.3,training=self.training)\n",
    "        \n",
    "            conv3 = tf.layers.conv2d(inputs=dropout2,filters=128,kernel_size=[3,3],padding=\"SAME\",activation=tf.nn.relu)\n",
    "            pool3 = tf.layers.max_pooling2d(inputs=conv3,pool_size=[2,2],padding=\"SAME\",strides=2)\n",
    "            dropout3 = tf.layers.dropout(pool3,rate=0.3,training=self.training)\n",
    "        \n",
    "            flat = tf.reshape(dropout3,[-1,4*4*128])\n",
    "            dense4 = tf.layers.dense(inputs=flat,units=625,activation=tf.nn.relu)\n",
    "            dropout4 = tf.layers.dropout(dense4,rate=0.5,training=self.training)\n",
    "        \n",
    "            self.logits = tf.layers.dense(inputs=dropout4,units=10)\n",
    "        \n",
    "            self.cost = tf.reduce_mean(tf.nn.softmax_cross_entropy_with_logits_v2(logits=self.logits,labels=self.Y))\n",
    "            self.optimizer = tf.train.AdamOptimizer(learning_rate=learning_rate).minimize(self.cost)\n",
    "        \n",
    "            self.prediction = tf.equal(tf.argmax(self.logits,1),tf.argmax(self.Y,1))\n",
    "            self.accuracy = tf.reduce_mean(tf.cast(self.prediction,tf.float32))\n",
    "        \n",
    "    def predict(self,x_test,training=False):\n",
    "        return self.sess.run(self.logits,feed_dict={self.X:x_test,self.training:training})\n",
    "    \n",
    "    def get_accuracy(self,x_test,y_test,training=False):\n",
    "        return self.sess.run(self.accuracy,feed_dict={self.X:x_test,self.Y:y_test,self.training:training})\n",
    "    \n",
    "    def train(self,x_data,y_data,training=True):\n",
    "        return self.sess.run([self.cost,self.optimizer],feed_dict={self.X:x_data,self.Y:y_data,self.training:training})"
   ]
  },
  {
   "cell_type": "code",
   "execution_count": 94,
   "metadata": {},
   "outputs": [],
   "source": [
    "sess = tf.Session()\n",
    "m1 = Model(sess,\"m1\")\n",
    "sess.run(tf.global_variables_initializer())"
   ]
  },
  {
   "cell_type": "code",
   "execution_count": 95,
   "metadata": {},
   "outputs": [
    {
     "name": "stdout",
     "output_type": "stream",
     "text": [
      "학습시작\n",
      "Epoch : 0001 cost =  0.279700\n",
      "Epoch : 0002 cost =  0.087130\n",
      "Epoch : 0003 cost =  0.067808\n",
      "Epoch : 0004 cost =  0.055849\n",
      "Epoch : 0005 cost =  0.048996\n",
      "Epoch : 0006 cost =  0.043687\n",
      "Epoch : 0007 cost =  0.040355\n",
      "Epoch : 0008 cost =  0.037427\n",
      "Epoch : 0009 cost =  0.034828\n",
      "Epoch : 0010 cost =  0.032536\n",
      "Epoch : 0011 cost =  0.031610\n",
      "Epoch : 0012 cost =  0.030099\n",
      "Epoch : 0013 cost =  0.030560\n",
      "Epoch : 0014 cost =  0.028340\n",
      "Epoch : 0015 cost =  0.026711\n",
      "learning finished\n"
     ]
    }
   ],
   "source": [
    "print(\"학습시작\")\n",
    "for epoch in range(training_epoch):\n",
    "    avg_cost = 0\n",
    "    total_batch = int(mnist.train.num_examples / batch_size)\n",
    "    \n",
    "    for i in range(total_batch):\n",
    "        batch_xs, batch_ys = mnist.train.next_batch(batch_size)\n",
    "        c,_ = m2.train(batch_xs,batch_ys)\n",
    "        avg_cost += c / total_batch\n",
    "        \n",
    "    print(\"Epoch :\",\"%04d\" % (epoch + 1),'cost =','{:9f}'.format(avg_cost))\n",
    "    \n",
    "print('learning finished')"
   ]
  },
  {
   "cell_type": "code",
   "execution_count": 96,
   "metadata": {},
   "outputs": [
    {
     "name": "stdout",
     "output_type": "stream",
     "text": [
      "Accuracy : 0.0817\n"
     ]
    }
   ],
   "source": [
    "print(\"Accuracy :\",m1.get_accuracy(mnist.test.images, mnist.test.labels))"
   ]
  },
  {
   "cell_type": "code",
   "execution_count": 101,
   "metadata": {},
   "outputs": [
    {
     "name": "stdout",
     "output_type": "stream",
     "text": [
      "Learning Started!\n",
      "Epoch: 0001 cost = [0.29412143 0.27615344]\n",
      "Epoch: 0002 cost = [0.08701184 0.08732817]\n",
      "Epoch: 0003 cost = [0.06594167 0.06543173]\n",
      "Epoch: 0004 cost = [0.05547602 0.05589784]\n",
      "Epoch: 0005 cost = [0.04907913 0.04861948]\n",
      "Epoch: 0006 cost = [0.04404677 0.04408106]\n",
      "Epoch: 0007 cost = [0.04039562 0.04109624]\n",
      "Epoch: 0008 cost = [0.03703851 0.03701658]\n",
      "Epoch: 0009 cost = [0.03506698 0.03750429]\n",
      "Epoch: 0010 cost = [0.03212092 0.03181282]\n",
      "Epoch: 0011 cost = [0.03149052 0.03145641]\n",
      "Epoch: 0012 cost = [0.03084529 0.03127009]\n",
      "Epoch: 0013 cost = [0.02920732 0.02892722]\n",
      "Epoch: 0014 cost = [0.02745595 0.02761675]\n",
      "Epoch: 0015 cost = [0.0264785  0.02737121]\n",
      "Learning Finished!\n",
      "0 Accuracy: 0.9938\n",
      "1 Accuracy: 0.9949\n",
      "Ensemble accuracy: 0.9956\n"
     ]
    }
   ],
   "source": [
    "sess = tf.Session()\n",
    "\n",
    "models = []\n",
    "num_models = 2\n",
    "for m in range(num_models):\n",
    "    models.append(Model(sess, \"model\" + str(m)))\n",
    "\n",
    "sess.run(tf.global_variables_initializer())\n",
    "\n",
    "print('Learning Started!')\n",
    "\n",
    "# train my model\n",
    "for epoch in range(training_epoch):\n",
    "    avg_cost_list = np.zeros(len(models))\n",
    "    total_batch = int(mnist.train.num_examples / batch_size)\n",
    "    for i in range(total_batch):\n",
    "        batch_xs, batch_ys = mnist.train.next_batch(batch_size)\n",
    "\n",
    "        # train each model\n",
    "        for m_idx, m in enumerate(models):\n",
    "            c, _ = m.train(batch_xs, batch_ys)\n",
    "            avg_cost_list[m_idx] += c / total_batch\n",
    "\n",
    "    print('Epoch:', '%04d' % (epoch + 1), 'cost =', avg_cost_list)\n",
    "\n",
    "print('Learning Finished!')\n",
    "\n",
    "# Test model and check accuracy\n",
    "test_size = len(mnist.test.labels)\n",
    "predictions = np.zeros([test_size, 10])\n",
    "for m_idx, m in enumerate(models):\n",
    "    print(m_idx, 'Accuracy:', m.get_accuracy(\n",
    "        mnist.test.images, mnist.test.labels))\n",
    "    p = m.predict(mnist.test.images)\n",
    "    predictions += p\n",
    "\n",
    "ensemble_correct_prediction = tf.equal(\n",
    "    tf.argmax(predictions, 1), tf.argmax(mnist.test.labels, 1))\n",
    "ensemble_accuracy = tf.reduce_mean(\n",
    "    tf.cast(ensemble_correct_prediction, tf.float32))\n",
    "print('Ensemble accuracy:', sess.run(ensemble_accuracy))"
   ]
  },
  {
   "cell_type": "code",
   "execution_count": 103,
   "metadata": {},
   "outputs": [],
   "source": [
    "sess = tf.Session()\n",
    "\n",
    "models1 = []\n",
    "num_models1 = 2\n",
    "for m in range(num_models):\n",
    "    models.append(Model(sess, \"model\" + str(m)))\n",
    "\n",
    "sess.run(tf.global_variables_initializer())\n",
    "\n",
    "print('Learning Started!')\n",
    "\n",
    "\n"
   ]
  },
  {
   "cell_type": "code",
   "execution_count": 112,
   "metadata": {},
   "outputs": [
    {
     "name": "stdout",
     "output_type": "stream",
     "text": [
      "10000\n",
      "[[0. 0. 0. ... 0. 0. 0.]\n",
      " [0. 0. 0. ... 0. 0. 0.]\n",
      " [0. 0. 0. ... 0. 0. 0.]\n",
      " ...\n",
      " [0. 0. 0. ... 0. 0. 0.]\n",
      " [0. 0. 0. ... 0. 0. 0.]\n",
      " [0. 0. 0. ... 0. 0. 0.]]\n"
     ]
    }
   ],
   "source": [
    "test_size = len(mnist.test.labels)\n",
    "print(test_size)\n",
    "predictions = np.zeros([test_size, 10])\n",
    "print(predictions)"
   ]
  },
  {
   "cell_type": "code",
   "execution_count": 113,
   "metadata": {},
   "outputs": [
    {
     "name": "stdout",
     "output_type": "stream",
     "text": [
      "0 Accuracy: 0.9938\n",
      "1 Accuracy: 0.9949\n"
     ]
    }
   ],
   "source": [
    "for m_idx, m in enumerate(models):\n",
    "    print(m_idx, 'Accuracy:', m.get_accuracy(\n",
    "        mnist.test.images, mnist.test.labels))\n",
    "    p = m.predict(mnist.test.images)\n",
    "    predictions += p"
   ]
  },
  {
   "cell_type": "code",
   "execution_count": 114,
   "metadata": {},
   "outputs": [
    {
     "name": "stdout",
     "output_type": "stream",
     "text": [
      "Ensemble accuracy: 0.9956\n"
     ]
    }
   ],
   "source": [
    "ensemble_correct_prediction = tf.equal(\n",
    "    tf.argmax(predictions, 1), tf.argmax(mnist.test.labels, 1))\n",
    "ensemble_accuracy = tf.reduce_mean(\n",
    "    tf.cast(ensemble_correct_prediction, tf.float32))\n",
    "print('Ensemble accuracy:', sess.run(ensemble_accuracy))"
   ]
  },
  {
   "cell_type": "code",
   "execution_count": null,
   "metadata": {},
   "outputs": [],
   "source": []
  }
 ],
 "metadata": {
  "kernelspec": {
   "display_name": "Python 3",
   "language": "python",
   "name": "python3"
  },
  "language_info": {
   "codemirror_mode": {
    "name": "ipython",
    "version": 3
   },
   "file_extension": ".py",
   "mimetype": "text/x-python",
   "name": "python",
   "nbconvert_exporter": "python",
   "pygments_lexer": "ipython3",
   "version": "3.6.4"
  }
 },
 "nbformat": 4,
 "nbformat_minor": 2
}
