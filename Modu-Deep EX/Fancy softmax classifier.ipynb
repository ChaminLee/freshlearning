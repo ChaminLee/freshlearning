{
 "cells": [
  {
   "cell_type": "code",
   "execution_count": 4,
   "metadata": {},
   "outputs": [
    {
     "name": "stderr",
     "output_type": "stream",
     "text": [
      "/Users/charming/anaconda3/lib/python3.6/site-packages/h5py/__init__.py:36: FutureWarning: Conversion of the second argument of issubdtype from `float` to `np.floating` is deprecated. In future, it will be treated as `np.float64 == np.dtype(float).type`.\n",
      "  from ._conv import register_converters as _register_converters\n"
     ]
    }
   ],
   "source": [
    "import tensorflow as tf\n",
    "xy = np.loadtxt('data-04-zoo.csv',delimiter=',',dtype=np.float32)"
   ]
  },
  {
   "cell_type": "code",
   "execution_count": 12,
   "metadata": {},
   "outputs": [],
   "source": [
    "x_data = xy[:,0:-1]\n",
    "y_data = xy[:,[-1]]\n",
    "nb_classes = 7"
   ]
  },
  {
   "cell_type": "code",
   "execution_count": 15,
   "metadata": {},
   "outputs": [],
   "source": [
    "X = tf.placeholder(tf.float32,shape=[None,16])\n",
    "Y = tf.placeholder(tf.int32,shape=[None,1])"
   ]
  },
  {
   "cell_type": "code",
   "execution_count": 18,
   "metadata": {},
   "outputs": [],
   "source": [
    "Y_one_hot = tf.one_hot(Y,nb_classes)\n",
    "Y_one_hot = tf.reshape(Y_one_hot,[-1,nb_classes])"
   ]
  },
  {
   "cell_type": "code",
   "execution_count": 19,
   "metadata": {},
   "outputs": [],
   "source": [
    "W = tf.Variable(tf.random_normal([16,nb_classes]),name=\"weight\")\n",
    "b = tf.Variable(tf.random_normal([nb_classes]),name='bias')"
   ]
  },
  {
   "cell_type": "code",
   "execution_count": 20,
   "metadata": {},
   "outputs": [],
   "source": [
    "logits = tf.matmul(X,W)+ b\n",
    "hypo = tf.nn.softmax(logits)"
   ]
  },
  {
   "cell_type": "code",
   "execution_count": 22,
   "metadata": {},
   "outputs": [],
   "source": [
    "cost_1 = tf.nn.softmax_cross_entropy_with_logits(logits=logits, labels=Y_one_hot)\n",
    "cost = tf.reduce_mean(cost_1)"
   ]
  },
  {
   "cell_type": "code",
   "execution_count": 23,
   "metadata": {},
   "outputs": [],
   "source": [
    "optimizer = tf.train.GradientDescentOptimizer(learning_rate=0.1).minimize(cost)"
   ]
  },
  {
   "cell_type": "code",
   "execution_count": 24,
   "metadata": {},
   "outputs": [],
   "source": [
    "prediction = tf.argmax(hypo,1)\n",
    "correct_prediction = tf.equal(prediction, tf.argmax(Y_one_hot,1))\n",
    "accuracy = tf.reduce_mean(tf.cast(correct_prediction,tf.float32))"
   ]
  },
  {
   "cell_type": "code",
   "execution_count": 30,
   "metadata": {},
   "outputs": [
    {
     "name": "stdout",
     "output_type": "stream",
     "text": [
      "Step:     0\tLoss: 5.585\tAcc: 11.88%\n",
      "Step:   100\tLoss: 0.452\tAcc: 89.11%\n",
      "Step:   200\tLoss: 0.289\tAcc: 92.08%\n",
      "Step:   300\tLoss: 0.217\tAcc: 95.05%\n",
      "Step:   400\tLoss: 0.177\tAcc: 96.04%\n",
      "Step:   500\tLoss: 0.150\tAcc: 96.04%\n",
      "Step:   600\tLoss: 0.131\tAcc: 97.03%\n",
      "Step:   700\tLoss: 0.116\tAcc: 99.01%\n",
      "Step:   800\tLoss: 0.105\tAcc: 99.01%\n",
      "Step:   900\tLoss: 0.095\tAcc: 100.00%\n",
      "Step:  1000\tLoss: 0.088\tAcc: 100.00%\n",
      "Step:  1100\tLoss: 0.081\tAcc: 100.00%\n",
      "Step:  1200\tLoss: 0.075\tAcc: 100.00%\n",
      "Step:  1300\tLoss: 0.071\tAcc: 100.00%\n",
      "Step:  1400\tLoss: 0.066\tAcc: 100.00%\n",
      "Step:  1500\tLoss: 0.063\tAcc: 100.00%\n",
      "Step:  1600\tLoss: 0.059\tAcc: 100.00%\n",
      "Step:  1700\tLoss: 0.056\tAcc: 100.00%\n",
      "Step:  1800\tLoss: 0.054\tAcc: 100.00%\n",
      "Step:  1900\tLoss: 0.051\tAcc: 100.00%\n",
      "[True]Prediction: 0 True Y 0\n",
      "[True]Prediction: 0 True Y 0\n",
      "[True]Prediction: 3 True Y 3\n",
      "[True]Prediction: 0 True Y 0\n",
      "[True]Prediction: 0 True Y 0\n",
      "[True]Prediction: 0 True Y 0\n",
      "[True]Prediction: 0 True Y 0\n",
      "[True]Prediction: 3 True Y 3\n",
      "[True]Prediction: 3 True Y 3\n",
      "[True]Prediction: 0 True Y 0\n",
      "[True]Prediction: 0 True Y 0\n",
      "[True]Prediction: 1 True Y 1\n",
      "[True]Prediction: 3 True Y 3\n",
      "[True]Prediction: 6 True Y 6\n",
      "[True]Prediction: 6 True Y 6\n",
      "[True]Prediction: 6 True Y 6\n",
      "[True]Prediction: 1 True Y 1\n",
      "[True]Prediction: 0 True Y 0\n",
      "[True]Prediction: 3 True Y 3\n",
      "[True]Prediction: 0 True Y 0\n",
      "[True]Prediction: 1 True Y 1\n",
      "[True]Prediction: 1 True Y 1\n",
      "[True]Prediction: 0 True Y 0\n",
      "[True]Prediction: 1 True Y 1\n",
      "[True]Prediction: 5 True Y 5\n",
      "[True]Prediction: 4 True Y 4\n",
      "[True]Prediction: 4 True Y 4\n",
      "[True]Prediction: 0 True Y 0\n",
      "[True]Prediction: 0 True Y 0\n",
      "[True]Prediction: 0 True Y 0\n",
      "[True]Prediction: 5 True Y 5\n",
      "[True]Prediction: 0 True Y 0\n",
      "[True]Prediction: 0 True Y 0\n",
      "[True]Prediction: 1 True Y 1\n",
      "[True]Prediction: 3 True Y 3\n",
      "[True]Prediction: 0 True Y 0\n",
      "[True]Prediction: 0 True Y 0\n",
      "[True]Prediction: 1 True Y 1\n",
      "[True]Prediction: 3 True Y 3\n",
      "[True]Prediction: 5 True Y 5\n",
      "[True]Prediction: 5 True Y 5\n",
      "[True]Prediction: 1 True Y 1\n",
      "[True]Prediction: 5 True Y 5\n",
      "[True]Prediction: 1 True Y 1\n",
      "[True]Prediction: 0 True Y 0\n",
      "[True]Prediction: 0 True Y 0\n",
      "[True]Prediction: 6 True Y 6\n",
      "[True]Prediction: 0 True Y 0\n",
      "[True]Prediction: 0 True Y 0\n",
      "[True]Prediction: 0 True Y 0\n",
      "[True]Prediction: 0 True Y 0\n",
      "[True]Prediction: 5 True Y 5\n",
      "[True]Prediction: 4 True Y 4\n",
      "[True]Prediction: 6 True Y 6\n",
      "[True]Prediction: 0 True Y 0\n",
      "[True]Prediction: 0 True Y 0\n",
      "[True]Prediction: 1 True Y 1\n",
      "[True]Prediction: 1 True Y 1\n",
      "[True]Prediction: 1 True Y 1\n",
      "[True]Prediction: 1 True Y 1\n",
      "[True]Prediction: 3 True Y 3\n",
      "[True]Prediction: 3 True Y 3\n",
      "[True]Prediction: 2 True Y 2\n",
      "[True]Prediction: 0 True Y 0\n",
      "[True]Prediction: 0 True Y 0\n",
      "[True]Prediction: 0 True Y 0\n",
      "[True]Prediction: 0 True Y 0\n",
      "[True]Prediction: 0 True Y 0\n",
      "[True]Prediction: 0 True Y 0\n",
      "[True]Prediction: 0 True Y 0\n",
      "[True]Prediction: 0 True Y 0\n",
      "[True]Prediction: 1 True Y 1\n",
      "[True]Prediction: 6 True Y 6\n",
      "[True]Prediction: 3 True Y 3\n",
      "[True]Prediction: 0 True Y 0\n",
      "[True]Prediction: 0 True Y 0\n",
      "[True]Prediction: 2 True Y 2\n",
      "[True]Prediction: 6 True Y 6\n",
      "[True]Prediction: 1 True Y 1\n",
      "[True]Prediction: 1 True Y 1\n",
      "[True]Prediction: 2 True Y 2\n",
      "[True]Prediction: 6 True Y 6\n",
      "[True]Prediction: 3 True Y 3\n",
      "[True]Prediction: 1 True Y 1\n",
      "[True]Prediction: 0 True Y 0\n",
      "[True]Prediction: 6 True Y 6\n",
      "[True]Prediction: 3 True Y 3\n",
      "[True]Prediction: 1 True Y 1\n",
      "[True]Prediction: 5 True Y 5\n",
      "[True]Prediction: 4 True Y 4\n",
      "[True]Prediction: 2 True Y 2\n",
      "[True]Prediction: 2 True Y 2\n",
      "[True]Prediction: 3 True Y 3\n",
      "[True]Prediction: 0 True Y 0\n",
      "[True]Prediction: 0 True Y 0\n",
      "[True]Prediction: 1 True Y 1\n",
      "[True]Prediction: 0 True Y 0\n",
      "[True]Prediction: 5 True Y 5\n",
      "[True]Prediction: 0 True Y 0\n",
      "[True]Prediction: 6 True Y 6\n",
      "[True]Prediction: 1 True Y 1\n"
     ]
    }
   ],
   "source": [
    "with tf.Session() as sess:\n",
    "    sess.run(tf.global_variables_initializer())\n",
    "    \n",
    "    for step in range(2000):\n",
    "        sess.run(optimizer,feed_dict={X : x_data, Y : y_data})\n",
    "        if step % 100 == 0:\n",
    "            loss, acc = sess.run([cost,accuracy],feed_dict={X : x_data, Y : y_data})\n",
    "            print(\"Step: {:5}\\tLoss: {:.3f}\\tAcc: {:.2%}\".format(\n",
    "               step, loss, acc))\n",
    "            \n",
    "    pred = sess.run(prediction, feed_dict={X:x_data})\n",
    "    for p,y in zip(pred,y_data.flatten()):\n",
    "        print(\"[{}]Prediction: {} True Y {}\".format(p==int(y),p,int(y)))\n"
   ]
  },
  {
   "cell_type": "code",
   "execution_count": null,
   "metadata": {},
   "outputs": [],
   "source": []
  }
 ],
 "metadata": {
  "kernelspec": {
   "display_name": "Python 3",
   "language": "python",
   "name": "python3"
  },
  "language_info": {
   "codemirror_mode": {
    "name": "ipython",
    "version": 3
   },
   "file_extension": ".py",
   "mimetype": "text/x-python",
   "name": "python",
   "nbconvert_exporter": "python",
   "pygments_lexer": "ipython3",
   "version": "3.6.4"
  }
 },
 "nbformat": 4,
 "nbformat_minor": 2
}
