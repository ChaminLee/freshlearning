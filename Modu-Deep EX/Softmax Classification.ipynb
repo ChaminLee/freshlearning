{
 "cells": [
  {
   "cell_type": "code",
   "execution_count": 1,
   "metadata": {},
   "outputs": [],
   "source": [
    "x_data = [[1, 2, 1, 1], [2, 1, 3, 2], [3, 1, 3, 4], [4, 1, 5, 5], [1, 7, 5, 5], \n",
    "                                                        [1, 2, 5, 6], [1, 6, 6, 6], [1, 7, 7, 7]]\n",
    "y_data = [[0, 0, 1], [0, 0, 1], [0, 0, 1], [0, 1, 0], [0, 1, 0], [0, 1, 0], [1, 0, 0], [1, 0, 0]]\n"
   ]
  },
  {
   "cell_type": "code",
   "execution_count": 3,
   "metadata": {},
   "outputs": [
    {
     "name": "stderr",
     "output_type": "stream",
     "text": [
      "/Users/charming/anaconda3/lib/python3.6/site-packages/h5py/__init__.py:36: FutureWarning: Conversion of the second argument of issubdtype from `float` to `np.floating` is deprecated. In future, it will be treated as `np.float64 == np.dtype(float).type`.\n",
      "  from ._conv import register_converters as _register_converters\n"
     ]
    }
   ],
   "source": [
    "import tensorflow as tf"
   ]
  },
  {
   "cell_type": "code",
   "execution_count": 4,
   "metadata": {},
   "outputs": [],
   "source": [
    "X = tf.placeholder(\"float\",shape=[None,4])\n",
    "Y = tf.placeholder(\"float\",shape=[None,3])"
   ]
  },
  {
   "cell_type": "code",
   "execution_count": 5,
   "metadata": {},
   "outputs": [],
   "source": [
    "W = tf.Variable(tf.random_normal([4,3]),name=\"weight\")\n",
    "b = tf.Variable(tf.random_normal([3]),name=\"bias\")"
   ]
  },
  {
   "cell_type": "code",
   "execution_count": 6,
   "metadata": {},
   "outputs": [],
   "source": [
    "hypo = tf.nn.softmax(tf.matmul(X,W) + b)"
   ]
  },
  {
   "cell_type": "code",
   "execution_count": 9,
   "metadata": {},
   "outputs": [],
   "source": [
    "cost = tf.reduce_mean(-tf.reduce_sum(Y * tf.log(hypo),axis=1))\n",
    "optimizer = tf.train.GradientDescentOptimizer(learning_rate=0.1).minimize(cost)"
   ]
  },
  {
   "cell_type": "code",
   "execution_count": 10,
   "metadata": {},
   "outputs": [
    {
     "name": "stdout",
     "output_type": "stream",
     "text": [
      "0 13.738641\n",
      "200 0.65037477\n",
      "400 0.5360996\n",
      "600 0.4419541\n",
      "800 0.35111195\n",
      "1000 0.26323527\n",
      "1200 0.2247126\n",
      "1400 0.20450354\n",
      "1600 0.18751332\n",
      "1800 0.17303646\n",
      "2000 0.16056177\n",
      "2200 0.14970814\n",
      "2400 0.14018431\n",
      "2600 0.13176462\n",
      "2800 0.124271035\n",
      "3000 0.1175612\n",
      "3200 0.11152023\n",
      "3400 0.106054455\n",
      "3600 0.10108684\n",
      "3800 0.09655312\n",
      "4000 0.09239966\n",
      "4200 0.08858136\n",
      "4400 0.08505939\n",
      "4600 0.081801355\n",
      "4800 0.07877876\n",
      "5000 0.07596736\n",
      "5200 0.073346145\n",
      "5400 0.070896596\n",
      "5600 0.06860228\n",
      "5800 0.06644949\n",
      "6000 0.06442543\n",
      "6200 0.06251919\n",
      "6400 0.06072069\n",
      "6600 0.059021104\n",
      "6800 0.057412658\n",
      "7000 0.055888377\n",
      "7200 0.05444172\n",
      "7400 0.053066872\n",
      "7600 0.051758945\n",
      "7800 0.050513063\n",
      "8000 0.049325064\n",
      "8200 0.048190683\n",
      "8400 0.04710685\n",
      "8600 0.04607002\n",
      "8800 0.045077246\n",
      "9000 0.044125907\n",
      "9200 0.043213446\n",
      "9400 0.042337507\n",
      "9600 0.041495893\n",
      "9800 0.040686768\n",
      "10000 0.03990823\n"
     ]
    }
   ],
   "source": [
    "with tf.Session() as sess:\n",
    "    sess.run(tf.global_variables_initializer())\n",
    "    \n",
    "    for step in range(10001):\n",
    "        sess.run(optimizer,feed_dict={X : x_data, Y : y_data})\n",
    "        if step % 200 == 0:\n",
    "            print(step, sess.run(cost,feed_dict={X : x_data, Y : y_data}))"
   ]
  },
  {
   "cell_type": "code",
   "execution_count": 14,
   "metadata": {},
   "outputs": [],
   "source": [
    "sess = tf.Session()"
   ]
  },
  {
   "cell_type": "code",
   "execution_count": 29,
   "metadata": {},
   "outputs": [
    {
     "name": "stdout",
     "output_type": "stream",
     "text": [
      "[[6.1618435e-01 3.8381562e-01 1.1699494e-13]\n",
      " [9.9900812e-01 9.9196611e-04 7.4418585e-13]] [0 0]\n"
     ]
    }
   ],
   "source": [
    "with tf.Session() as sess:\n",
    "    sess.run(tf.global_variables_initializer())\n",
    "    \n",
    "\n",
    "    a = sess.run(hypo, feed_dict={X : [[1,22,3,4],[3,11,4,8]]})\n",
    "    print(a, sess.run(tf.arg_max(a,1)))"
   ]
  },
  {
   "cell_type": "code",
   "execution_count": null,
   "metadata": {},
   "outputs": [],
   "source": []
  },
  {
   "cell_type": "code",
   "execution_count": null,
   "metadata": {},
   "outputs": [],
   "source": []
  },
  {
   "cell_type": "code",
   "execution_count": null,
   "metadata": {},
   "outputs": [],
   "source": []
  },
  {
   "cell_type": "code",
   "execution_count": null,
   "metadata": {},
   "outputs": [],
   "source": []
  },
  {
   "cell_type": "code",
   "execution_count": null,
   "metadata": {},
   "outputs": [],
   "source": []
  },
  {
   "cell_type": "code",
   "execution_count": null,
   "metadata": {},
   "outputs": [],
   "source": []
  },
  {
   "cell_type": "code",
   "execution_count": null,
   "metadata": {},
   "outputs": [],
   "source": []
  },
  {
   "cell_type": "code",
   "execution_count": null,
   "metadata": {},
   "outputs": [],
   "source": []
  },
  {
   "cell_type": "code",
   "execution_count": null,
   "metadata": {},
   "outputs": [],
   "source": []
  },
  {
   "cell_type": "code",
   "execution_count": null,
   "metadata": {},
   "outputs": [],
   "source": []
  }
 ],
 "metadata": {
  "kernelspec": {
   "display_name": "Python 3",
   "language": "python",
   "name": "python3"
  },
  "language_info": {
   "codemirror_mode": {
    "name": "ipython",
    "version": 3
   },
   "file_extension": ".py",
   "mimetype": "text/x-python",
   "name": "python",
   "nbconvert_exporter": "python",
   "pygments_lexer": "ipython3",
   "version": "3.6.4"
  }
 },
 "nbformat": 4,
 "nbformat_minor": 2
}
