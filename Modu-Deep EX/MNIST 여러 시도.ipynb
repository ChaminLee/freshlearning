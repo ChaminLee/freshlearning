{
 "cells": [
  {
   "cell_type": "code",
   "execution_count": 154,
   "metadata": {},
   "outputs": [],
   "source": [
    "import tensorflow as tf\n",
    "from tensorflow.examples.tutorials.mnist import input_data"
   ]
  },
  {
   "cell_type": "code",
   "execution_count": 3,
   "metadata": {
    "scrolled": true
   },
   "outputs": [
    {
     "name": "stdout",
     "output_type": "stream",
     "text": [
      "Extracting MNIST_data/train-images-idx3-ubyte.gz\n",
      "Extracting MNIST_data/train-labels-idx1-ubyte.gz\n",
      "Extracting MNIST_data/t10k-images-idx3-ubyte.gz\n",
      "Extracting MNIST_data/t10k-labels-idx1-ubyte.gz\n"
     ]
    }
   ],
   "source": [
    "mnist = input_data.read_data_sets(\"MNIST_data/\",one_hot=True)\n",
    "nb_classes = 10"
   ]
  },
  {
   "cell_type": "markdown",
   "metadata": {},
   "source": [
    "# softmax"
   ]
  },
  {
   "cell_type": "code",
   "execution_count": 79,
   "metadata": {},
   "outputs": [],
   "source": [
    "X = tf.placeholder(tf.float32, shape=[None,784])\n",
    "Y = tf.placeholder(tf.float32, shape=[None,nb_classes])"
   ]
  },
  {
   "cell_type": "code",
   "execution_count": 67,
   "metadata": {},
   "outputs": [],
   "source": [
    "W = tf.Variable(tf.random_normal([784,10]),name='weight')\n",
    "b = tf.Variable(tf.random_normal([10]),name='bias')"
   ]
  },
  {
   "cell_type": "code",
   "execution_count": 68,
   "metadata": {},
   "outputs": [],
   "source": [
    "hypo = tf.matmul(X, W) + b"
   ]
  },
  {
   "cell_type": "code",
   "execution_count": 69,
   "metadata": {},
   "outputs": [],
   "source": [
    "cost = tf.reduce_mean(tf.nn.softmax_cross_entropy_with_logits(logits=hypo,labels=Y))"
   ]
  },
  {
   "cell_type": "code",
   "execution_count": 70,
   "metadata": {},
   "outputs": [],
   "source": [
    "optimizer = tf.train.AdamOptimizer(learning_rate=0.001).minimize(cost)"
   ]
  },
  {
   "cell_type": "code",
   "execution_count": 71,
   "metadata": {},
   "outputs": [],
   "source": [
    "prediction = tf.equal(tf.argmax(hypo,1),tf.argmax(Y,1))\n",
    "accuracy = tf.reduce_mean(tf.cast(prediction, tf.float32))"
   ]
  },
  {
   "cell_type": "code",
   "execution_count": 43,
   "metadata": {
    "scrolled": true
   },
   "outputs": [
    {
     "name": "stdout",
     "output_type": "stream",
     "text": [
      "Epoch: 0001 cost = 5.552257171\n",
      "Epoch: 0002 cost = 1.778710603\n",
      "Epoch: 0003 cost = 1.181589390\n",
      "Epoch: 0004 cost = 0.917711515\n",
      "Epoch: 0005 cost = 0.783184900\n",
      "Epoch: 0006 cost = 0.692906576\n",
      "Epoch: 0007 cost = 0.635978555\n",
      "Epoch: 0008 cost = 0.577855979\n",
      "Epoch: 0009 cost = 0.547846520\n",
      "Epoch: 0010 cost = 0.518239431\n",
      "Epoch: 0011 cost = 0.494850548\n",
      "Epoch: 0012 cost = 0.471879352\n",
      "Epoch: 0013 cost = 0.455481232\n",
      "Epoch: 0014 cost = 0.435497100\n",
      "Epoch: 0015 cost = 0.423942569\n",
      "0.8972\n"
     ]
    }
   ],
   "source": [
    "training_epochs = 15\n",
    "batch_size = 100\n",
    "\n",
    "with tf.Session() as sess:\n",
    "    sess.run(tf.global_variables_initializer())\n",
    "    \n",
    "    for epoch in range(training_epochs):\n",
    "        avg_cost = 0\n",
    "        total_batch = int(mnist.train.num_examples / batch_size)\n",
    "        \n",
    "        for i in range(total_batch):\n",
    "            batch_xs, batch_ys = mnist.train.next_batch(batch_size)\n",
    "            c,_ = sess.run([cost,optimizer],feed_dict={X:batch_xs, Y:batch_ys})\n",
    "            avg_cost += c / total_batch\n",
    "        print('Epoch:', '%04d' % (epoch + 1), 'cost =', '{:.9f}'.format(avg_cost))\n",
    "    print(sess.run(accuracy,feed_dict={X:mnist.test.images, Y:mnist.test.labels}))\n",
    "        "
   ]
  },
  {
   "cell_type": "markdown",
   "metadata": {},
   "source": [
    "# ReLU 사용"
   ]
  },
  {
   "cell_type": "code",
   "execution_count": 116,
   "metadata": {},
   "outputs": [],
   "source": [
    "X = tf.placeholder(tf.float32, [None, 784])\n",
    "Y = tf.placeholder(tf.float32, [None, 10])"
   ]
  },
  {
   "cell_type": "code",
   "execution_count": 117,
   "metadata": {},
   "outputs": [],
   "source": [
    "W1 = tf.Variable(tf.random_normal([784,216]))\n",
    "b1 = tf.Variable(tf.random_normal([216]))\n",
    "layer1 = tf.nn.relu(tf.matmul(X,W1)+b1)"
   ]
  },
  {
   "cell_type": "code",
   "execution_count": 118,
   "metadata": {},
   "outputs": [],
   "source": [
    "W2 = tf.Variable(tf.random_normal([216,216]))\n",
    "b2 = tf.Variable(tf.random_normal([216]))\n",
    "layer2 = tf.nn.relu(tf.matmul(layer1,W2)+b2)"
   ]
  },
  {
   "cell_type": "code",
   "execution_count": 119,
   "metadata": {},
   "outputs": [],
   "source": [
    "W3 = tf.Variable(tf.random_normal([216,50]))\n",
    "b3 = tf.Variable(tf.random_normal([50]))\n",
    "L3 = tf.nn.relu(tf.matmul(layer2,W3)+b3)"
   ]
  },
  {
   "cell_type": "code",
   "execution_count": 120,
   "metadata": {},
   "outputs": [],
   "source": [
    "W4 = tf.Variable(tf.random_normal([50,10]))\n",
    "b4 = tf.Variable(tf.random_normal([10]))\n",
    "hypo = tf.matmul(L3,W4)+b4"
   ]
  },
  {
   "cell_type": "code",
   "execution_count": 136,
   "metadata": {},
   "outputs": [],
   "source": [
    "cost = tf.reduce_mean(tf.nn.softmax_cross_entropy_with_logits(logits=hypo,labels=Y))"
   ]
  },
  {
   "cell_type": "code",
   "execution_count": 142,
   "metadata": {},
   "outputs": [],
   "source": [
    "optimizer = tf.train.AdamOptimizer(learning_rate=0.001).minimize(cost)\n",
    "prediction = tf.equal(tf.argmax(hypo,1),tf.argmax(Y,1))\n",
    "accuracy = tf.reduce_mean(tf.cast(prediction, tf.float32))"
   ]
  },
  {
   "cell_type": "code",
   "execution_count": 143,
   "metadata": {},
   "outputs": [],
   "source": [
    "sess = tf.Session()\n",
    "sess.run(tf.global_variables_initializer())"
   ]
  },
  {
   "cell_type": "code",
   "execution_count": 146,
   "metadata": {},
   "outputs": [
    {
     "name": "stdout",
     "output_type": "stream",
     "text": [
      "Epoch : 1 cost: 0.27400220651066554\n",
      "Epoch : 2 cost: 0.24763738430794016\n",
      "Epoch : 3 cost: 0.28204657110104064\n",
      "Epoch : 4 cost: 0.1908712655243036\n",
      "Epoch : 5 cost: 0.17848011042812983\n",
      "Epoch : 6 cost: 0.21923056034243762\n",
      "Epoch : 7 cost: 0.18923251325271784\n",
      "Epoch : 8 cost: 0.2380080863613029\n",
      "Epoch : 9 cost: 0.21219047344254716\n",
      "Epoch : 10 cost: 0.15438918736098683\n",
      "Epoch : 11 cost: 0.18255099073135692\n",
      "Epoch : 12 cost: 0.18250311255543625\n",
      "Epoch : 13 cost: 0.2183819755169495\n",
      "Epoch : 14 cost: 0.21183496332601678\n",
      "Epoch : 15 cost: 0.15024887679056526\n",
      "learning_finished\n",
      "Accuracy: 0.9596\n"
     ]
    }
   ],
   "source": [
    "for epoch in range(training_epochs):\n",
    "    avg_cost = 0\n",
    "    total_batch = int(mnist.train.num_examples / batch_size)\n",
    "        \n",
    "    for i in range(total_batch):\n",
    "        batch_xs, batch_ys = mnist.train.next_batch(batch_size)\n",
    "        c,_ = sess.run([cost,optimizer],feed_dict={X:batch_xs,Y:batch_ys})\n",
    "        avg_cost += c / total_batch\n",
    "\n",
    "    print(\"Epoch :\", epoch+1,\"cost:\",avg_cost)\n",
    "print(\"learning_finished\")        \n",
    "\n",
    "# Test model and check accuracy\n",
    "correct_prediction = tf.equal(tf.argmax(hypothesis, 1), tf.argmax(Y, 1))\n",
    "accuracy = tf.reduce_mean(tf.cast(correct_prediction, tf.float32))\n",
    "print('Accuracy:', sess.run(accuracy, feed_dict={\n",
    "      X: mnist.test.images, Y: mnist.test.labels}))\n"
   ]
  },
  {
   "cell_type": "markdown",
   "metadata": {},
   "source": [
    "# Xavier initializer"
   ]
  },
  {
   "cell_type": "code",
   "execution_count": null,
   "metadata": {},
   "outputs": [],
   "source": []
  }
 ],
 "metadata": {
  "kernelspec": {
   "display_name": "Python 3",
   "language": "python",
   "name": "python3"
  },
  "language_info": {
   "codemirror_mode": {
    "name": "ipython",
    "version": 3
   },
   "file_extension": ".py",
   "mimetype": "text/x-python",
   "name": "python",
   "nbconvert_exporter": "python",
   "pygments_lexer": "ipython3",
   "version": "3.6.4"
  }
 },
 "nbformat": 4,
 "nbformat_minor": 2
}
