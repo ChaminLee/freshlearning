{
 "cells": [
  {
   "cell_type": "markdown",
   "metadata": {},
   "source": [
    "# Evaluation\n",
    "\n",
    "file:///Users/charming/Downloads/6.%20%ED%9B%88%EB%A0%A8,%20%EA%B2%80%EC%82%AC,%20%EA%B7%9C%EC%B9%99%ED%99%94[%EC%A0%95%EA%B7%9C%ED%99%94]%20(2%EA%B0%95%20%ED%8E%B8%ED%96%A5%EA%B3%BC%20%EB%B6%84%EC%82%B0).pdf\n",
    "\n",
    "\n",
    "## Error ( Bias and Variance ) \n",
    "\n",
    "분산 줄이는 법 : 데이터를 더 모으기\n",
    "\n",
    "편향 줄이는 법 : 모델을 더 복잡하게 훈련시키기 \n",
    "\n",
    "둘은 트레이드 오프 관계\n",
    "\n",
    "* Accuracy :\n",
    "\n",
    "데이터의 분포나 편향에 따라 정확도가 높아지기도 한다. 이를 그냥 믿으면 안된다. ( = Overfitting 일 수도 있다는 것 )\n",
    "\n",
    "\n",
    "## Performance\n",
    "\n",
    "cross-validation & confusion matrix\n",
    "\n",
    "cv는 보통 10-folds\n",
    "\n",
    "\n",
    "Precision(정확률) : TP / (TP+FP) : 내가 예측한 것들 중에서의 실제가 있을 확률  (FP가 낮아야 한다.) (ex. 스팸)\n",
    "\n",
    "Recall(재현률) : TP / (TP+FN) : 실제 값중에서 내가 제대로 예측했을 확률 (VIP선별하기 )\n",
    "\n",
    "단독적으로 사용하는 것 보다 둘을 이용한 F-Measure를 사용하는게 좋다.\n",
    "\n",
    "조화평균을 이용한다. \n",
    "\n",
    "$F = \\frac{(1+b^2)  ( P \\times R )}{(b^2 \\times P + R )}$\n",
    "\n",
    "b가 작으면 Precision을 중요시하는 것이고 / b를 높게하면 Recall을 더 중요하게 생각하는 것이다. \n",
    "\n",
    "데이터가 많아질 수록 Recall은 오르는 양상이지만, Precision은 갈 수록 낮아질 수 밖에 없다. ( 트레이드 오프가 성립한다 ) \n",
    "\n",
    "\n",
    "## Regularization \n",
    "\n",
    "\n"
   ]
  },
  {
   "cell_type": "code",
   "execution_count": 14,
   "metadata": {},
   "outputs": [],
   "source": [
    "# confusion matrix 보기\n",
    "from sklearn.metrics import confusion_matrix, classification_report\n",
    "\n",
    "# 0 : spam / 1 : ham\n",
    "# D = 6\n",
    "trueY = [1,0,1,1,0,1]\n",
    "predY = [0,0,1,1,0,1]\n",
    "\n",
    "result = confusion_matrix(trueY,predY)\n",
    "\n",
    "# 사실 케이스를 여러개 만들어야함\n",
    "# 클래스 별로 각각의 입장에 따라서 "
   ]
  },
  {
   "cell_type": "code",
   "execution_count": 15,
   "metadata": {},
   "outputs": [],
   "source": [
    "# 굳이 필요없음, 원하는 형태에 맞춘 것. \n",
    "result = result.transpose()"
   ]
  },
  {
   "cell_type": "code",
   "execution_count": 16,
   "metadata": {
    "scrolled": true
   },
   "outputs": [
    {
     "name": "stdout",
     "output_type": "stream",
     "text": [
      "Precision : 0.6666666666666666\n",
      "Recall : 1.0\n",
      "Precision : 1.0\n",
      "Recall : 0.75\n"
     ]
    }
   ],
   "source": [
    "for i in range(result.shape[0]):\n",
    "    print(\"Precision : {0}\".format(result[i,i] / result[i].sum()))\n",
    "    print(\"Recall : {0}\".format(result[i,i] / result[:,i].sum()))"
   ]
  },
  {
   "cell_type": "code",
   "execution_count": 28,
   "metadata": {},
   "outputs": [
    {
     "data": {
      "text/plain": [
       "array([[2, 0, 0],\n",
       "       [0, 0, 1],\n",
       "       [1, 0, 2]])"
      ]
     },
     "execution_count": 28,
     "metadata": {},
     "output_type": "execute_result"
    }
   ],
   "source": [
    "trueY = [2,0,2,2,0,1]\n",
    "predY = [0,0,2,2,0,2]\n",
    "\n",
    "result = confusion_matrix(trueY,predY)\n",
    "result\n"
   ]
  },
  {
   "cell_type": "code",
   "execution_count": 29,
   "metadata": {},
   "outputs": [
    {
     "name": "stdout",
     "output_type": "stream",
     "text": [
      "              precision    recall  f1-score   support\n",
      "\n",
      "           0       0.67      1.00      0.80         2\n",
      "           1       0.00      0.00      0.00         1\n",
      "           2       0.67      0.67      0.67         3\n",
      "\n",
      "   micro avg       0.67      0.67      0.67         6\n",
      "   macro avg       0.44      0.56      0.49         6\n",
      "weighted avg       0.56      0.67      0.60         6\n",
      "\n"
     ]
    }
   ],
   "source": [
    "print(classification_report(trueY,predY))\n",
    "# micro는 갯수로 생각 : TP들의 합 / 총 수\n",
    "# macro는 precision들의 합 / class의 개수 "
   ]
  },
  {
   "cell_type": "code",
   "execution_count": 39,
   "metadata": {},
   "outputs": [
    {
     "data": {
      "text/plain": [
       "0.6666666666666666"
      ]
     },
     "execution_count": 39,
     "metadata": {},
     "output_type": "execute_result"
    }
   ],
   "source": [
    "4/6"
   ]
  },
  {
   "cell_type": "code",
   "execution_count": 40,
   "metadata": {},
   "outputs": [
    {
     "data": {
      "text/plain": [
       "0.4444444444444444"
      ]
     },
     "execution_count": 40,
     "metadata": {},
     "output_type": "execute_result"
    }
   ],
   "source": [
    "(4/3)/3"
   ]
  }
 ],
 "metadata": {
  "kernelspec": {
   "display_name": "Python 3",
   "language": "python",
   "name": "python3"
  },
  "language_info": {
   "codemirror_mode": {
    "name": "ipython",
    "version": 3
   },
   "file_extension": ".py",
   "mimetype": "text/x-python",
   "name": "python",
   "nbconvert_exporter": "python",
   "pygments_lexer": "ipython3",
   "version": "3.7.2"
  }
 },
 "nbformat": 4,
 "nbformat_minor": 2
}
