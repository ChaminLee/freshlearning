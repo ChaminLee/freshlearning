{
 "cells": [
  {
   "cell_type": "markdown",
   "metadata": {},
   "source": [
    "# Opensource Software Development"
   ]
  },
  {
   "cell_type": "markdown",
   "metadata": {},
   "source": [
    "Git은 History를 저장하는 것이 중요하다. 이를 commit이라는 것을 저장한다. \n",
    "\n",
    "\n",
    "간단한 오픈소스 프로젝트 : github.com/namhyung/uftrace \n",
    "\n",
    "리뷰/디스커션이 있느냐가 오픈소8스(O) vs 소스오픈의 차이 \n",
    "\n",
    "Pull request : + 첨부파일 있는 정도 ( 커밋 : 소스 코드의 변화분 )\n",
    "\n",
    "issue : 홈페이지에 게시글 올리는 것과 같음"
   ]
  },
  {
   "cell_type": "code",
   "execution_count": null,
   "metadata": {},
   "outputs": [],
   "source": []
  },
  {
   "cell_type": "code",
   "execution_count": null,
   "metadata": {},
   "outputs": [],
   "source": []
  }
 ],
 "metadata": {
  "kernelspec": {
   "display_name": "Python 3",
   "language": "python",
   "name": "python3"
  },
  "language_info": {
   "codemirror_mode": {
    "name": "ipython",
    "version": 3
   },
   "file_extension": ".py",
   "mimetype": "text/x-python",
   "name": "python",
   "nbconvert_exporter": "python",
   "pygments_lexer": "ipython3",
   "version": "3.6.4"
  }
 },
 "nbformat": 4,
 "nbformat_minor": 2
}
