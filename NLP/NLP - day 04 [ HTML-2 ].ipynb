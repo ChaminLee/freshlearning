{
 "cells": [
  {
   "cell_type": "markdown",
   "metadata": {},
   "source": [
    "# HTTP 이어서 ~"
   ]
  },
  {
   "cell_type": "code",
   "execution_count": 22,
   "metadata": {},
   "outputs": [],
   "source": [
    "# get ( = Read ) 가장 일반적인 경우 사용\n",
    "\n",
    "import requests\n",
    "url = 'http://httpbin.org/'\n",
    "resp = requests.get(url+'get',params={'key':'value','key1':'value'})\n",
    "resp = requests.head(url+'get')\n",
    "# head만 가져오는 것  / body는 비어있어야 함.\n",
    "\n",
    "\n",
    "# dictionary 형태로 들어감"
   ]
  },
  {
   "cell_type": "code",
   "execution_count": 12,
   "metadata": {},
   "outputs": [],
   "source": [
    "# post ( = Create )\n",
    "\n",
    "import requests\n",
    "url = 'http://httpbin.org/'\n",
    "resp = requests.post(url+'post',data={'key':'value','key1':'value'})\n",
    "# parameter 가 아니라 data임 (dictionary인건 마찬가지)"
   ]
  },
  {
   "cell_type": "code",
   "execution_count": 17,
   "metadata": {},
   "outputs": [],
   "source": [
    "# put ( = Update )\n",
    "\n",
    "import requests\n",
    "url = 'http://httpbin.org/'\n",
    "resp = requests.put(url+'put',data={'key':'value','key1':'value'})\n",
    "# parameter 가 아니라 data임 (dictionary인건 마찬가지)"
   ]
  },
  {
   "cell_type": "code",
   "execution_count": 12,
   "metadata": {},
   "outputs": [],
   "source": [
    "# del ( = delete )\n",
    "\n",
    "import requests\n",
    "url = 'http://httpbin.org/'\n",
    "resp = requests.post(url+'post',data={'key':'value','key1':'value'})\n",
    "# parameter 가 아니라 data임 (dictionary인건 마찬가지)"
   ]
  },
  {
   "cell_type": "markdown",
   "metadata": {},
   "source": [
    "# 결과 확인"
   ]
  },
  {
   "cell_type": "code",
   "execution_count": 28,
   "metadata": {},
   "outputs": [],
   "source": [
    "type(resp)\n",
    "resp.status_code # 200인지 확인하고 ( 내 잘못 아님)\n",
    "resp.headers\n",
    "resp.request.headers\n",
    "resp.request.body  # 잘 날아갔는지 확인\n",
    "resp.content # byte type 그대로\n",
    "resp.text # string으로 바꾼 것인지\n",
    "resp.encoding = 'utf-8'"
   ]
  },
  {
   "cell_type": "code",
   "execution_count": 23,
   "metadata": {},
   "outputs": [
    {
     "data": {
      "text/plain": [
       "b''"
      ]
     },
     "execution_count": 23,
     "metadata": {},
     "output_type": "execute_result"
    }
   ],
   "source": [
    "resp.content"
   ]
  },
  {
   "cell_type": "code",
   "execution_count": 24,
   "metadata": {
    "scrolled": true
   },
   "outputs": [
    {
     "name": "stdout",
     "output_type": "stream",
     "text": [
      "{'User-Agent': 'python-requests/2.18.4', 'Accept-Encoding': 'gzip, deflate', 'Accept': '*/*', 'Connection': 'keep-alive'}\n",
      "\n"
     ]
    }
   ],
   "source": [
    "print(resp.request.headers) # or body\n",
    "print(resp.text) # 응답 부분\n",
    "# arg에 Key value쌍이 들어감\n",
    "# post 할 때는 header가 아니라 'body'에 들어감 "
   ]
  },
  {
   "cell_type": "code",
   "execution_count": 25,
   "metadata": {},
   "outputs": [
    {
     "data": {
      "text/plain": [
       "''"
      ]
     },
     "execution_count": 25,
     "metadata": {},
     "output_type": "execute_result"
    }
   ],
   "source": [
    "resp.text"
   ]
  },
  {
   "cell_type": "markdown",
   "metadata": {},
   "source": [
    "# Print Names"
   ]
  },
  {
   "cell_type": "code",
   "execution_count": 37,
   "metadata": {},
   "outputs": [],
   "source": [
    "# http://www.crawler-test.com/status_codes/status_403 \n",
    "# _ 다음에 숫자 임의로 붙여서 에러 확인\n",
    "\n",
    "import requests\n",
    "\n",
    "url = \"https://www.google.com/search\"\n",
    "headers = {'user-agent' :'Mozilla/5.0 (Macintosh; Intel Mac OS X 10_14_2) AppleWebKit/537.36 (KHTML, like Gecko) Chrome/72.0.3626.119 Safari/537.36'}\n",
    "# headers 에 mozila부분만 들어가도 가능함\n",
    "# headers에 각자의 user-agent값을 key-value로 입력하면 된다.\n",
    "\n",
    "def download(url, param=None,retries=3):     # 에러가 났을 때, 3번 정도 더 시도해 보는 것.\n",
    "    resp = None\n",
    "    \n",
    "    try:\n",
    "        resp = requests.get(url,params=param,headers=headers)\n",
    "        resp.raise_for_status()\n",
    "    except requests.exceptions.HTTPError as e:\n",
    "        if 500 <= resp.status_code < 600 and retries > 0:    # 500대 에러이면 한 번 더 시도하는 것\n",
    "            print('Retries: {0}'.format(retries))\n",
    "            return download(url,param,retries-1)    # 여기서는 딱 3번 돔 (재귀적으로)\n",
    "        else:\n",
    "            print(resp.status_code)\n",
    "            print(resp.reason)\n",
    "            print(resp.request.headers)\n",
    "            \n",
    "    return resp\n",
    "\n",
    "#html = download(url)\n",
    "#html.read().decode('utf-8')\n",
    "\n",
    "## 파이썬 검색해서 하면 안뜸 searchMozilla/5.0 (Macintosh; Intel Mac OS X 10_14_2) AppleWebKit/537.36 (KHTML, like Gecko) Chrome/72.0.3626.119 Safari/537.36가 disallowed 이기 때문에 ( forbidden )\n",
    "## 파라미터는 항상 바이트 타입으로 보내야함. \n",
    "## 한글로 그대로 대신 적어주면 에러 뜸 \n",
    "\n",
    "### header 추가하면 403 에러 뜨지 않음  \n",
    "### 에러 400 : 내 잘못 / 500 : 서버 잘못, 다시 시도해봐야함 "
   ]
  },
  {
   "cell_type": "code",
   "execution_count": 39,
   "metadata": {},
   "outputs": [
    {
     "name": "stdout",
     "output_type": "stream",
     "text": [
      "Retries: 3\n",
      "Retries: 2\n",
      "Retries: 1\n",
      "500\n",
      "Internal Server Error\n",
      "{'user-agent': 'Mozilla/5.0 (Macintosh; Intel Mac OS X 10_14_2) AppleWebKit/537.36 (KHTML, like Gecko) Chrome/72.0.3626.119 Safari/537.36', 'Accept-Encoding': 'gzip, deflate', 'Accept': '*/*', 'Connection': 'keep-alive'}\n"
     ]
    },
    {
     "data": {
      "text/plain": [
       "<Response [500]>"
      ]
     },
     "execution_count": 39,
     "metadata": {},
     "output_type": "execute_result"
    }
   ],
   "source": [
    "download('http://www.crawler-test.com/status_codes/status_500')\n",
    "\n",
    "# try except에 의해서 범위에 벗어나기에 403으로 나와야한다. "
   ]
  },
  {
   "cell_type": "code",
   "execution_count": 57,
   "metadata": {},
   "outputs": [],
   "source": [
    "# http://pythonscraping.com/pages/files/form.html\n"
   ]
  },
  {
   "cell_type": "code",
   "execution_count": 120,
   "metadata": {},
   "outputs": [],
   "source": [
    "# 이건 Post함수\n",
    "# http://www.crawler-test.com/status_codes/status_403 \n",
    "# _ 다음에 숫자 임의로 붙여서 에러 확인\n",
    "\n",
    "import requests\n",
    "\n",
    "url = \"https://www.google.com/search\"\n",
    "headers = {'user-agent' :'Mozilla/5.0 (Macintosh; Intel Mac OS X 10_14_2) AppleWebKit/537.36 (KHTML, like Gecko) Chrome/72.0.3626.119 Safari/537.36'}\n",
    "# headers 에 mozila부분만 들어가도 가능함\n",
    "# headers에 각자의 user-agent값을 key-value로 입력하면 된다.\n",
    "\n",
    "def postDownload(url, data=None,cookie=None,retries=3):     # 에러가 났을 때, 3번 정도 더 시도해 보는 것.\n",
    "    resp = None\n",
    "    \n",
    "    try:\n",
    "        resp = requests.post(url,data=data,headers=headers,cookies=cookie)   # auto login할 때 cookie 필요함\n",
    "        resp.raise_for_status()\n",
    "    except requests.exceptions.HTTPError as e:\n",
    "        if 500 <= resp.status_code < 600 and retries > 0:    # 500대 에러이면 한 번 더 시도하는 것\n",
    "            print('Retries: {0}'.format(retries))\n",
    "            return download(url,data,cookie,retries-1)    # 여기서는 딱 3번 돔 (재귀적으로)\n",
    "        else:\n",
    "            print(resp.status_code)\n",
    "            print(resp.reason)\n",
    "            print(resp.request.headers)\n",
    "            \n",
    "    return resp\n",
    "\n",
    "#html = download(url)\n",
    "#html.read().decode('utf-8')\n",
    "\n",
    "## 파이썬 검색해서 하면 안뜸 searchMozilla/5.0 (Macintosh; Intel Mac OS X 10_14_2) AppleWebKit/537.36 (KHTML, like Gecko) Chrome/72.0.3626.119 Safari/537.36가 disallowed 이기 때문에 ( forbidden )\n",
    "## 파라미터는 항상 바이트 타입으로 보내야함. \n",
    "## 한글로 그대로 대신 적어주면 에러 뜸 \n",
    "\n",
    "### header 추가하면 403 에러 뜨지 않음  \n",
    "### 에러 400 : 내 잘못 / 500 : 서버 잘못, 다시 시도해봐야함 "
   ]
  },
  {
   "cell_type": "code",
   "execution_count": 121,
   "metadata": {},
   "outputs": [
    {
     "name": "stdout",
     "output_type": "stream",
     "text": [
      "200\n",
      "OK\n",
      "firstname=Lee&lastname=Chamin\n",
      "{'user-agent': 'Mozilla/5.0 (Macintosh; Intel Mac OS X 10_14_2) AppleWebKit/537.36 (KHTML, like Gecko) Chrome/72.0.3626.119 Safari/537.36', 'Accept-Encoding': 'gzip, deflate', 'Accept': '*/*', 'Connection': 'keep-alive', 'Content-Length': '29', 'Content-Type': 'application/x-www-form-urlencoded'}\n"
     ]
    },
    {
     "data": {
      "text/plain": [
       "'Hello there, Lee Chamin!'"
      ]
     },
     "execution_count": 121,
     "metadata": {},
     "output_type": "execute_result"
    }
   ],
   "source": [
    "url = 'http://pythonscraping.com/pages/files/processing.php'\n",
    "html = postDownload(url,{'firstname':'Lee','lastname':'Chamin'})\n",
    "\n",
    "print(html.status_code)\n",
    "print(html.reason)\n",
    "print(html.request.body)\n",
    "print(html.request.headers)\n",
    "\n",
    "html.text"
   ]
  },
  {
   "cell_type": "code",
   "execution_count": 122,
   "metadata": {},
   "outputs": [
    {
     "name": "stdout",
     "output_type": "stream",
     "text": [
      "200\n",
      "{'Date': 'Thu, 07 Mar 2019 07:13:52 GMT', 'Server': 'Apache', 'Keep-Alive': 'timeout=5, max=100', 'Connection': 'Keep-Alive', 'Transfer-Encoding': 'chunked', 'Content-Type': 'text/html; charset=UTF-8'}\n",
      "None\n",
      "{'user-agent': 'Mozilla/5.0 (Macintosh; Intel Mac OS X 10_14_2) AppleWebKit/537.36 (KHTML, like Gecko) Chrome/72.0.3626.119 Safari/537.36', 'Accept-Encoding': 'gzip, deflate', 'Accept': '*/*', 'Connection': 'keep-alive'}\n"
     ]
    },
    {
     "data": {
      "text/plain": [
       "'Hello there,  !'"
      ]
     },
     "execution_count": 122,
     "metadata": {},
     "output_type": "execute_result"
    }
   ],
   "source": [
    "# get으로 위에랑 똑같이\n",
    "\n",
    "html2 = download(url,{'firstname':'이','lastname':1})\n",
    "\n",
    "print(html2.status_code)\n",
    "print(html2.headers)\n",
    "print(html2.request.body)\n",
    "print(html2.request.headers)\n",
    "\n",
    "# None으로 나온다. \n",
    "html2.text\n",
    "# 결과가 안뜨는 것을 보면 이 페이지는 get이 아닌 post만 받는다는 것을 알 수 있다."
   ]
  },
  {
   "cell_type": "markdown",
   "metadata": {},
   "source": [
    "# Auto Login - Using Cookie"
   ]
  },
  {
   "cell_type": "code",
   "execution_count": 141,
   "metadata": {},
   "outputs": [],
   "source": [
    "# http://pythonscraping.com/pages/cookies/login.html\n",
    "# post로 넘겨 자동로그인 하기\n",
    "\n",
    "cookie = html.cookies.get_dict()\n",
    "\n",
    "url = 'http://pythonscraping.com/pages/cookies/welcome.php'\n",
    "html = postDownload(url,{}, cookie)\n"
   ]
  },
  {
   "cell_type": "code",
   "execution_count": 142,
   "metadata": {},
   "outputs": [
    {
     "data": {
      "text/plain": [
       "'\\n<h2>Welcome to the Website!</h2>\\nYou have logged in successfully! <br><a href=\"profile.php\">Check out your profile!</a>'"
      ]
     },
     "execution_count": 142,
     "metadata": {},
     "output_type": "execute_result"
    }
   ],
   "source": [
    "html.text\n",
    "\n",
    "# 쿠키를 이용해서 로그인이 완료된 모습을 볼 수 있다 "
   ]
  },
  {
   "cell_type": "code",
   "execution_count": 143,
   "metadata": {},
   "outputs": [],
   "source": [
    "# parameter는 정상적으로 전해짐\n",
    "html.request.body"
   ]
  },
  {
   "cell_type": "code",
   "execution_count": 144,
   "metadata": {},
   "outputs": [
    {
     "data": {
      "text/plain": [
       "{}"
      ]
     },
     "execution_count": 144,
     "metadata": {},
     "output_type": "execute_result"
    }
   ],
   "source": [
    "# cookie를 받아와야함 ( response내의 )\n",
    "html.cookies\n",
    "\n",
    "# 딕셔너리 정보를 가져오기 위해 get_dict() 붙임\n",
    "html.cookies.get_dict()\n"
   ]
  },
  {
   "cell_type": "markdown",
   "metadata": {},
   "source": [
    "# Session"
   ]
  },
  {
   "cell_type": "code",
   "execution_count": 149,
   "metadata": {},
   "outputs": [],
   "source": [
    "session = requests.Session()\n",
    "\n",
    "resp = session.post(url,data={'username':'lee','password':'password'})"
   ]
  },
  {
   "cell_type": "code",
   "execution_count": 150,
   "metadata": {},
   "outputs": [
    {
     "data": {
      "text/plain": [
       "'\\n<h2>Welcome to the Website!</h2>\\nWhoops! You logged in wrong. Try again with any username, and the password \"password\"<br><a href=\"login.html\">Log in here</a>'"
      ]
     },
     "execution_count": 150,
     "metadata": {},
     "output_type": "execute_result"
    }
   ],
   "source": [
    "resp.text\n",
    "# login이 안된 모습. "
   ]
  },
  {
   "cell_type": "code",
   "execution_count": 154,
   "metadata": {},
   "outputs": [
    {
     "data": {
      "text/plain": [
       "'\\n<h2>Welcome to the Website!</h2>\\nYou have logged in successfully! <br><a href=\"profile.php\">Check out your profile!</a>'"
      ]
     },
     "execution_count": 154,
     "metadata": {},
     "output_type": "execute_result"
    }
   ],
   "source": [
    "# cookie값을 들고와야 로그인 할 수 있음 \n",
    "cookie = resp.cookies.get_dict()\n",
    "resp = session.post(url,{},cookie)\n",
    "resp.text"
   ]
  },
  {
   "cell_type": "markdown",
   "metadata": {},
   "source": [
    "# 공공데이터포털 "
   ]
  },
  {
   "cell_type": "code",
   "execution_count": 177,
   "metadata": {},
   "outputs": [],
   "source": [
    "# getDownload\n",
    "import requests\n",
    "\n",
    "def getDownload(url, param = None, retries = 3):\n",
    "    resp = None\n",
    "    try:\n",
    "        resp = requests.get(url, params = param, headers = headers)\n",
    "        resp.raise_for_status()\n",
    "    except requests.exceptions.HTTPError as e:\n",
    "        if 500 <= resp.status_code < 600 and retries > 0:\n",
    "            print('Retries : {0}'.format(retries))\n",
    "            return getDownload(url, param, retries -1)\n",
    "        else:\n",
    "            print(resp.status_code)\n",
    "            print(resp.reason)\n",
    "            print(resp.request.headers)\n",
    "            \n",
    "    return resp"
   ]
  },
  {
   "cell_type": "code",
   "execution_count": 180,
   "metadata": {},
   "outputs": [
    {
     "data": {
      "text/plain": [
       "'<?xml version=\"1.0\" encoding=\"UTF-8\"?>\\r\\n\\r\\n\\r\\n\\r\\n\\r\\n<response>\\r\\n\\t<header>\\r\\n\\t\\t<resultCode>30</resultCode>\\r\\n\\t\\t<resultMsg>SERVICE KEY IS NOT REGISTERED ERROR.</resultMsg>\\r\\n\\t</header>\\r\\n</response>\\r\\n'"
      ]
     },
     "execution_count": 180,
     "metadata": {},
     "output_type": "execute_result"
    }
   ],
   "source": [
    "# _returnType=json 끝에 붙이기 ( 변환 )\n",
    "# 하나하나 다 뜯어야함\n",
    "\n",
    "#url = ''  # 뒤에거 뜯어서 param으로\n",
    "url = 'http://openapi.airkorea.or.kr/openapi/services/rest/ArpltnInforInqireSvc/getCtprvnRltmMesureDnsty?'\n",
    "param={\n",
    "    \"serviceKey\":\"sh3rYw7QjwAhsCW88FOOcPwFQ9%2F4E3uFZX6rDHwjtkpu9yFwvVX1fMb%2Bz%2B2n4CSdn50fmS0AbD7IqNL8O4qcAA%3D%3D\",\n",
    "    \"numOfRows\": 10,\n",
    "    \"pageNo\":1,\n",
    "    \"sidoName\":\"서울\",\n",
    "    \"ver\":1.3,\n",
    "    \"_returnType\":\"json\"}\n",
    "\n",
    "html = getDownload(url,param)\n",
    "html.text\n",
    "\n"
   ]
  },
  {
   "cell_type": "code",
   "execution_count": 181,
   "metadata": {},
   "outputs": [
    {
     "name": "stdout",
     "output_type": "stream",
     "text": [
      "sh3rYw7QjwAhsCW88FOOcPwFQ9%2F4E3uFZX6rDHwjtkpu9yFwvVX1fMb%2Bz%2B2n4CSdn50fmS0AbD7IqNL8O4qcAA%3D%3D\n",
      "sh3rYw7QjwAhsCW88FOOcPwFQ9/4E3uFZX6rDHwjtkpu9yFwvVX1fMb+z+2n4CSdn50fmS0AbD7IqNL8O4qcAA==\n",
      "sh3rYw7QjwAhsCW88FOOcPwFQ9/4E3uFZX6rDHwjtkpu9yFwvVX1fMb%2Bz%2B2n4CSdn50fmS0AbD7IqNL8O4qcAA%3D%3D\n"
     ]
    },
    {
     "data": {
      "text/plain": [
       "'{\"list\":[{\"_returnType\":\"json\",\"coGrade\":\"1\",\"coValue\":\"0.5\",\"dataTerm\":\"\",\"dataTime\":\"2019-03-08 14:00\",\"khaiGrade\":\"2\",\"khaiValue\":\"74\",\"mangName\":\"도시대기\",\"no2Grade\":\"2\",\"no2Value\":\"0.036\",\"numOfRows\":\"10\",\"o3Grade\":\"2\",\"o3Value\":\"0.042\",\"pageNo\":\"1\",\"pm10Grade\":\"2\",\"pm10Grade1h\":\"2\",\"pm10Value\":\"49\",\"pm10Value24\":\"48\",\"pm25Grade\":\"2\",\"pm25Grade1h\":\"2\",\"pm25Value\":\"30\",\"pm25Value24\":\"25\",\"resultCode\":\"\",\"resultMsg\":\"\",\"rnum\":0,\"serviceKey\":\"\",\"sidoName\":\"\",\"so2Grade\":\"1\",\"so2Value\":\"0.004\",\"stationCode\":\"\",\"stationName\":\"중구\",\"totalCount\":\"\",\"ver\":\"\"},{\"_returnType\":\"json\",\"coGrade\":\"1\",\"coValue\":\"0.5\",\"dataTerm\":\"\",\"dataTime\":\"2019-03-08 14:00\",\"khaiGrade\":\"2\",\"khaiValue\":\"83\",\"mangName\":\"도로변대기\",\"no2Grade\":\"2\",\"no2Value\":\"0.050\",\"numOfRows\":\"10\",\"o3Grade\":\"1\",\"o3Value\":\"0.028\",\"pageNo\":\"1\",\"pm10Grade\":\"2\",\"pm10Grade1h\":\"2\",\"pm10Value\":\"74\",\"pm10Value24\":\"62\",\"pm25Grade\":\"2\",\"pm25Grade1h\":\"3\",\"pm25Value\":\"41\",\"pm25Value24\":\"31\",\"resultCode\":\"\",\"resultMsg\":\"\",\"rnum\":0,\"serviceKey\":\"\",\"sidoName\":\"\",\"so2Grade\":\"1\",\"so2Value\":\"0.005\",\"stationCode\":\"\",\"stationName\":\"한강대로\",\"totalCount\":\"\",\"ver\":\"\"},{\"_returnType\":\"json\",\"coGrade\":\"1\",\"coValue\":\"0.5\",\"dataTerm\":\"\",\"dataTime\":\"2019-03-08 14:00\",\"khaiGrade\":\"2\",\"khaiValue\":\"77\",\"mangName\":\"도시대기\",\"no2Grade\":\"2\",\"no2Value\":\"0.037\",\"numOfRows\":\"10\",\"o3Grade\":\"2\",\"o3Value\":\"0.037\",\"pageNo\":\"1\",\"pm10Grade\":\"2\",\"pm10Grade1h\":\"2\",\"pm10Value\":\"52\",\"pm10Value24\":\"48\",\"pm25Grade\":\"2\",\"pm25Grade1h\":\"2\",\"pm25Value\":\"28\",\"pm25Value24\":\"26\",\"resultCode\":\"\",\"resultMsg\":\"\",\"rnum\":0,\"serviceKey\":\"\",\"sidoName\":\"\",\"so2Grade\":\"1\",\"so2Value\":\"0.005\",\"stationCode\":\"\",\"stationName\":\"종로구\",\"totalCount\":\"\",\"ver\":\"\"},{\"_returnType\":\"json\",\"coGrade\":\"1\",\"coValue\":\"0.7\",\"dataTerm\":\"\",\"dataTime\":\"2019-03-08 14:00\",\"khaiGrade\":\"2\",\"khaiValue\":\"82\",\"mangName\":\"도로변대기\",\"no2Grade\":\"2\",\"no2Value\":\"0.042\",\"numOfRows\":\"10\",\"o3Grade\":\"2\",\"o3Value\":\"0.033\",\"pageNo\":\"1\",\"pm10Grade\":\"2\",\"pm10Grade1h\":\"2\",\"pm10Value\":\"46\",\"pm10Value24\":\"51\",\"pm25Grade\":\"2\",\"pm25Grade1h\":\"2\",\"pm25Value\":\"31\",\"pm25Value24\":\"28\",\"resultCode\":\"\",\"resultMsg\":\"\",\"rnum\":0,\"serviceKey\":\"\",\"sidoName\":\"\",\"so2Grade\":\"1\",\"so2Value\":\"0.005\",\"stationCode\":\"\",\"stationName\":\"청계천로\",\"totalCount\":\"\",\"ver\":\"\"},{\"_returnType\":\"json\",\"coGrade\":\"1\",\"coValue\":\"0.6\",\"dataTerm\":\"\",\"dataTime\":\"2019-03-08 14:00\",\"khaiGrade\":\"2\",\"khaiValue\":\"74\",\"mangName\":\"도로변대기\",\"no2Grade\":\"2\",\"no2Value\":\"0.044\",\"numOfRows\":\"10\",\"o3Grade\":\"2\",\"o3Value\":\"0.032\",\"pageNo\":\"1\",\"pm10Grade\":\"2\",\"pm10Grade1h\":\"2\",\"pm10Value\":\"52\",\"pm10Value24\":\"54\",\"pm25Grade\":\"2\",\"pm25Grade1h\":\"2\",\"pm25Value\":\"27\",\"pm25Value24\":\"25\",\"resultCode\":\"\",\"resultMsg\":\"\",\"rnum\":0,\"serviceKey\":\"\",\"sidoName\":\"\",\"so2Grade\":\"1\",\"so2Value\":\"0.004\",\"stationCode\":\"\",\"stationName\":\"종로\",\"totalCount\":\"\",\"ver\":\"\"},{\"_returnType\":\"json\",\"coGrade\":\"1\",\"coValue\":\"0.4\",\"dataTerm\":\"\",\"dataTime\":\"2019-03-08 14:00\",\"khaiGrade\":\"2\",\"khaiValue\":\"79\",\"mangName\":\"도시대기\",\"no2Grade\":\"2\",\"no2Value\":\"0.036\",\"numOfRows\":\"10\",\"o3Grade\":\"2\",\"o3Value\":\"0.034\",\"pageNo\":\"1\",\"pm10Grade\":\"2\",\"pm10Grade1h\":\"2\",\"pm10Value\":\"42\",\"pm10Value24\":\"44\",\"pm25Grade\":\"2\",\"pm25Grade1h\":\"2\",\"pm25Value\":\"29\",\"pm25Value24\":\"27\",\"resultCode\":\"\",\"resultMsg\":\"\",\"rnum\":0,\"serviceKey\":\"\",\"sidoName\":\"\",\"so2Grade\":\"1\",\"so2Value\":\"0.004\",\"stationCode\":\"\",\"stationName\":\"용산구\",\"totalCount\":\"\",\"ver\":\"\"},{\"_returnType\":\"json\",\"coGrade\":\"1\",\"coValue\":\"0.8\",\"dataTerm\":\"\",\"dataTime\":\"2019-03-08 14:00\",\"khaiGrade\":\"2\",\"khaiValue\":\"90\",\"mangName\":\"도시대기\",\"no2Grade\":\"2\",\"no2Value\":\"0.032\",\"numOfRows\":\"10\",\"o3Grade\":\"1\",\"o3Value\":\"0.029\",\"pageNo\":\"1\",\"pm10Grade\":\"2\",\"pm10Grade1h\":\"2\",\"pm10Value\":\"48\",\"pm10Value24\":\"57\",\"pm25Grade\":\"2\",\"pm25Grade1h\":\"2\",\"pm25Value\":\"29\",\"pm25Value24\":\"31\",\"resultCode\":\"\",\"resultMsg\":\"\",\"rnum\":0,\"serviceKey\":\"\",\"sidoName\":\"\",\"so2Grade\":\"1\",\"so2Value\":\"0.006\",\"stationCode\":\"\",\"stationName\":\"광진구\",\"totalCount\":\"\",\"ver\":\"\"},{\"_returnType\":\"json\",\"coGrade\":\"1\",\"coValue\":\"0.4\",\"dataTerm\":\"\",\"dataTime\":\"2019-03-08 14:00\",\"khaiGrade\":\"2\",\"khaiValue\":\"97\",\"mangName\":\"도시대기\",\"no2Grade\":\"2\",\"no2Value\":\"0.042\",\"numOfRows\":\"10\",\"o3Grade\":\"1\",\"o3Value\":\"0.030\",\"pageNo\":\"1\",\"pm10Grade\":\"2\",\"pm10Grade1h\":\"2\",\"pm10Value\":\"67\",\"pm10Value24\":\"65\",\"pm25Grade\":\"2\",\"pm25Grade1h\":\"2\",\"pm25Value\":\"34\",\"pm25Value24\":\"34\",\"resultCode\":\"\",\"resultMsg\":\"\",\"rnum\":0,\"serviceKey\":\"\",\"sidoName\":\"\",\"so2Grade\":\"1\",\"so2Value\":\"0.004\",\"stationCode\":\"\",\"stationName\":\"성동구\",\"totalCount\":\"\",\"ver\":\"\"},{\"_returnType\":\"json\",\"coGrade\":\"1\",\"coValue\":\"0.4\",\"dataTerm\":\"\",\"dataTime\":\"2019-03-08 14:00\",\"khaiGrade\":\"3\",\"khaiValue\":\"103\",\"mangName\":\"도로변대기\",\"no2Grade\":\"3\",\"no2Value\":\"0.063\",\"numOfRows\":\"10\",\"o3Grade\":\"1\",\"o3Value\":\"0.017\",\"pageNo\":\"1\",\"pm10Grade\":\"2\",\"pm10Grade1h\":\"2\",\"pm10Value\":\"62\",\"pm10Value24\":\"61\",\"pm25Grade\":\"2\",\"pm25Grade1h\":\"2\",\"pm25Value\":\"34\",\"pm25Value24\":\"33\",\"resultCode\":\"\",\"resultMsg\":\"\",\"rnum\":0,\"serviceKey\":\"\",\"sidoName\":\"\",\"so2Grade\":\"1\",\"so2Value\":\"0.005\",\"stationCode\":\"\",\"stationName\":\"강변북로\",\"totalCount\":\"\",\"ver\":\"\"},{\"_returnType\":\"json\",\"coGrade\":\"1\",\"coValue\":\"0.5\",\"dataTerm\":\"\",\"dataTime\":\"2019-03-08 14:00\",\"khaiGrade\":\"2\",\"khaiValue\":\"85\",\"mangName\":\"도시대기\",\"no2Grade\":\"1\",\"no2Value\":\"0.029\",\"numOfRows\":\"10\",\"o3Grade\":\"1\",\"o3Value\":\"0.028\",\"pageNo\":\"1\",\"pm10Grade\":\"2\",\"pm10Grade1h\":\"2\",\"pm10Value\":\"43\",\"pm10Value24\":\"52\",\"pm25Grade\":\"2\",\"pm25Grade1h\":\"2\",\"pm25Value\":\"27\",\"pm25Value24\":\"29\",\"resultCode\":\"\",\"resultMsg\":\"\",\"rnum\":0,\"serviceKey\":\"\",\"sidoName\":\"\",\"so2Grade\":\"1\",\"so2Value\":\"0.007\",\"stationCode\":\"\",\"stationName\":\"중랑구\",\"totalCount\":\"\",\"ver\":\"\"}],\"parm\":{\"_returnType\":\"json\",\"coGrade\":\"\",\"coValue\":\"\",\"dataTerm\":\"\",\"dataTime\":\"\",\"khaiGrade\":\"\",\"khaiValue\":\"\",\"mangName\":\"\",\"no2Grade\":\"\",\"no2Value\":\"\",\"numOfRows\":\"10\",\"o3Grade\":\"\",\"o3Value\":\"\",\"pageNo\":\"1\",\"pm10Grade\":\"\",\"pm10Grade1h\":\"\",\"pm10Value\":\"\",\"pm10Value24\":\"\",\"pm25Grade\":\"\",\"pm25Grade1h\":\"\",\"pm25Value\":\"\",\"pm25Value24\":\"\",\"resultCode\":\"\",\"resultMsg\":\"\",\"rnum\":0,\"serviceKey\":\"sh3rYw7QjwAhsCW88FOOcPwFQ9/4E3uFZX6rDHwjtkpu9yFwvVX1fMb+z+2n4CSdn50fmS0AbD7IqNL8O4qcAA==\",\"sidoName\":\"서울\",\"so2Grade\":\"\",\"so2Value\":\"\",\"stationCode\":\"\",\"stationName\":\"\",\"totalCount\":\"\",\"ver\":\"1.3\"},\"ArpltnInforInqireSvcVo\":{\"_returnType\":\"json\",\"coGrade\":\"\",\"coValue\":\"\",\"dataTerm\":\"\",\"dataTime\":\"\",\"khaiGrade\":\"\",\"khaiValue\":\"\",\"mangName\":\"\",\"no2Grade\":\"\",\"no2Value\":\"\",\"numOfRows\":\"10\",\"o3Grade\":\"\",\"o3Value\":\"\",\"pageNo\":\"1\",\"pm10Grade\":\"\",\"pm10Grade1h\":\"\",\"pm10Value\":\"\",\"pm10Value24\":\"\",\"pm25Grade\":\"\",\"pm25Grade1h\":\"\",\"pm25Value\":\"\",\"pm25Value24\":\"\",\"resultCode\":\"\",\"resultMsg\":\"\",\"rnum\":0,\"serviceKey\":\"sh3rYw7QjwAhsCW88FOOcPwFQ9/4E3uFZX6rDHwjtkpu9yFwvVX1fMb+z+2n4CSdn50fmS0AbD7IqNL8O4qcAA==\",\"sidoName\":\"서울\",\"so2Grade\":\"\",\"so2Value\":\"\",\"stationCode\":\"\",\"stationName\":\"\",\"totalCount\":\"\",\"ver\":\"1.3\"},\"totalCount\":40}'"
      ]
     },
     "execution_count": 181,
     "metadata": {},
     "output_type": "execute_result"
    }
   ],
   "source": [
    "requests.utils.urlparse(html.request.url)\n",
    "\n",
    "org = requests.utils.unquote(param['serviceKey'])\n",
    "print(param['serviceKey'])\n",
    "print(org)\n",
    "print(requests.utils.quote(org))\n",
    "param['serviceKey'] = org\n",
    "html = getDownload(url, param)\n",
    "html.text\n",
    "\n",
    "# requests.utils.quote()   # quote로 해야 바뀐 servicekey와 같아짐 \n",
    "# requests.utils.unquote() # unquote 해줘야함\n",
    "# requests.utils.urlparse(html.request.url)  "
   ]
  },
  {
   "cell_type": "code",
   "execution_count": 182,
   "metadata": {},
   "outputs": [],
   "source": [
    "import json"
   ]
  },
  {
   "cell_type": "code",
   "execution_count": 183,
   "metadata": {},
   "outputs": [
    {
     "data": {
      "text/plain": [
       "{'ArpltnInforInqireSvcVo': {'_returnType': 'json',\n",
       "  'coGrade': '',\n",
       "  'coValue': '',\n",
       "  'dataTerm': '',\n",
       "  'dataTime': '',\n",
       "  'khaiGrade': '',\n",
       "  'khaiValue': '',\n",
       "  'mangName': '',\n",
       "  'no2Grade': '',\n",
       "  'no2Value': '',\n",
       "  'numOfRows': '10',\n",
       "  'o3Grade': '',\n",
       "  'o3Value': '',\n",
       "  'pageNo': '1',\n",
       "  'pm10Grade': '',\n",
       "  'pm10Grade1h': '',\n",
       "  'pm10Value': '',\n",
       "  'pm10Value24': '',\n",
       "  'pm25Grade': '',\n",
       "  'pm25Grade1h': '',\n",
       "  'pm25Value': '',\n",
       "  'pm25Value24': '',\n",
       "  'resultCode': '',\n",
       "  'resultMsg': '',\n",
       "  'rnum': 0,\n",
       "  'serviceKey': 'sh3rYw7QjwAhsCW88FOOcPwFQ9/4E3uFZX6rDHwjtkpu9yFwvVX1fMb+z+2n4CSdn50fmS0AbD7IqNL8O4qcAA==',\n",
       "  'sidoName': '서울',\n",
       "  'so2Grade': '',\n",
       "  'so2Value': '',\n",
       "  'stationCode': '',\n",
       "  'stationName': '',\n",
       "  'totalCount': '',\n",
       "  'ver': '1.3'},\n",
       " 'list': [{'_returnType': 'json',\n",
       "   'coGrade': '1',\n",
       "   'coValue': '0.5',\n",
       "   'dataTerm': '',\n",
       "   'dataTime': '2019-03-08 14:00',\n",
       "   'khaiGrade': '2',\n",
       "   'khaiValue': '74',\n",
       "   'mangName': '도시대기',\n",
       "   'no2Grade': '2',\n",
       "   'no2Value': '0.036',\n",
       "   'numOfRows': '10',\n",
       "   'o3Grade': '2',\n",
       "   'o3Value': '0.042',\n",
       "   'pageNo': '1',\n",
       "   'pm10Grade': '2',\n",
       "   'pm10Grade1h': '2',\n",
       "   'pm10Value': '49',\n",
       "   'pm10Value24': '48',\n",
       "   'pm25Grade': '2',\n",
       "   'pm25Grade1h': '2',\n",
       "   'pm25Value': '30',\n",
       "   'pm25Value24': '25',\n",
       "   'resultCode': '',\n",
       "   'resultMsg': '',\n",
       "   'rnum': 0,\n",
       "   'serviceKey': '',\n",
       "   'sidoName': '',\n",
       "   'so2Grade': '1',\n",
       "   'so2Value': '0.004',\n",
       "   'stationCode': '',\n",
       "   'stationName': '중구',\n",
       "   'totalCount': '',\n",
       "   'ver': ''},\n",
       "  {'_returnType': 'json',\n",
       "   'coGrade': '1',\n",
       "   'coValue': '0.5',\n",
       "   'dataTerm': '',\n",
       "   'dataTime': '2019-03-08 14:00',\n",
       "   'khaiGrade': '2',\n",
       "   'khaiValue': '83',\n",
       "   'mangName': '도로변대기',\n",
       "   'no2Grade': '2',\n",
       "   'no2Value': '0.050',\n",
       "   'numOfRows': '10',\n",
       "   'o3Grade': '1',\n",
       "   'o3Value': '0.028',\n",
       "   'pageNo': '1',\n",
       "   'pm10Grade': '2',\n",
       "   'pm10Grade1h': '2',\n",
       "   'pm10Value': '74',\n",
       "   'pm10Value24': '62',\n",
       "   'pm25Grade': '2',\n",
       "   'pm25Grade1h': '3',\n",
       "   'pm25Value': '41',\n",
       "   'pm25Value24': '31',\n",
       "   'resultCode': '',\n",
       "   'resultMsg': '',\n",
       "   'rnum': 0,\n",
       "   'serviceKey': '',\n",
       "   'sidoName': '',\n",
       "   'so2Grade': '1',\n",
       "   'so2Value': '0.005',\n",
       "   'stationCode': '',\n",
       "   'stationName': '한강대로',\n",
       "   'totalCount': '',\n",
       "   'ver': ''},\n",
       "  {'_returnType': 'json',\n",
       "   'coGrade': '1',\n",
       "   'coValue': '0.5',\n",
       "   'dataTerm': '',\n",
       "   'dataTime': '2019-03-08 14:00',\n",
       "   'khaiGrade': '2',\n",
       "   'khaiValue': '77',\n",
       "   'mangName': '도시대기',\n",
       "   'no2Grade': '2',\n",
       "   'no2Value': '0.037',\n",
       "   'numOfRows': '10',\n",
       "   'o3Grade': '2',\n",
       "   'o3Value': '0.037',\n",
       "   'pageNo': '1',\n",
       "   'pm10Grade': '2',\n",
       "   'pm10Grade1h': '2',\n",
       "   'pm10Value': '52',\n",
       "   'pm10Value24': '48',\n",
       "   'pm25Grade': '2',\n",
       "   'pm25Grade1h': '2',\n",
       "   'pm25Value': '28',\n",
       "   'pm25Value24': '26',\n",
       "   'resultCode': '',\n",
       "   'resultMsg': '',\n",
       "   'rnum': 0,\n",
       "   'serviceKey': '',\n",
       "   'sidoName': '',\n",
       "   'so2Grade': '1',\n",
       "   'so2Value': '0.005',\n",
       "   'stationCode': '',\n",
       "   'stationName': '종로구',\n",
       "   'totalCount': '',\n",
       "   'ver': ''},\n",
       "  {'_returnType': 'json',\n",
       "   'coGrade': '1',\n",
       "   'coValue': '0.7',\n",
       "   'dataTerm': '',\n",
       "   'dataTime': '2019-03-08 14:00',\n",
       "   'khaiGrade': '2',\n",
       "   'khaiValue': '82',\n",
       "   'mangName': '도로변대기',\n",
       "   'no2Grade': '2',\n",
       "   'no2Value': '0.042',\n",
       "   'numOfRows': '10',\n",
       "   'o3Grade': '2',\n",
       "   'o3Value': '0.033',\n",
       "   'pageNo': '1',\n",
       "   'pm10Grade': '2',\n",
       "   'pm10Grade1h': '2',\n",
       "   'pm10Value': '46',\n",
       "   'pm10Value24': '51',\n",
       "   'pm25Grade': '2',\n",
       "   'pm25Grade1h': '2',\n",
       "   'pm25Value': '31',\n",
       "   'pm25Value24': '28',\n",
       "   'resultCode': '',\n",
       "   'resultMsg': '',\n",
       "   'rnum': 0,\n",
       "   'serviceKey': '',\n",
       "   'sidoName': '',\n",
       "   'so2Grade': '1',\n",
       "   'so2Value': '0.005',\n",
       "   'stationCode': '',\n",
       "   'stationName': '청계천로',\n",
       "   'totalCount': '',\n",
       "   'ver': ''},\n",
       "  {'_returnType': 'json',\n",
       "   'coGrade': '1',\n",
       "   'coValue': '0.6',\n",
       "   'dataTerm': '',\n",
       "   'dataTime': '2019-03-08 14:00',\n",
       "   'khaiGrade': '2',\n",
       "   'khaiValue': '74',\n",
       "   'mangName': '도로변대기',\n",
       "   'no2Grade': '2',\n",
       "   'no2Value': '0.044',\n",
       "   'numOfRows': '10',\n",
       "   'o3Grade': '2',\n",
       "   'o3Value': '0.032',\n",
       "   'pageNo': '1',\n",
       "   'pm10Grade': '2',\n",
       "   'pm10Grade1h': '2',\n",
       "   'pm10Value': '52',\n",
       "   'pm10Value24': '54',\n",
       "   'pm25Grade': '2',\n",
       "   'pm25Grade1h': '2',\n",
       "   'pm25Value': '27',\n",
       "   'pm25Value24': '25',\n",
       "   'resultCode': '',\n",
       "   'resultMsg': '',\n",
       "   'rnum': 0,\n",
       "   'serviceKey': '',\n",
       "   'sidoName': '',\n",
       "   'so2Grade': '1',\n",
       "   'so2Value': '0.004',\n",
       "   'stationCode': '',\n",
       "   'stationName': '종로',\n",
       "   'totalCount': '',\n",
       "   'ver': ''},\n",
       "  {'_returnType': 'json',\n",
       "   'coGrade': '1',\n",
       "   'coValue': '0.4',\n",
       "   'dataTerm': '',\n",
       "   'dataTime': '2019-03-08 14:00',\n",
       "   'khaiGrade': '2',\n",
       "   'khaiValue': '79',\n",
       "   'mangName': '도시대기',\n",
       "   'no2Grade': '2',\n",
       "   'no2Value': '0.036',\n",
       "   'numOfRows': '10',\n",
       "   'o3Grade': '2',\n",
       "   'o3Value': '0.034',\n",
       "   'pageNo': '1',\n",
       "   'pm10Grade': '2',\n",
       "   'pm10Grade1h': '2',\n",
       "   'pm10Value': '42',\n",
       "   'pm10Value24': '44',\n",
       "   'pm25Grade': '2',\n",
       "   'pm25Grade1h': '2',\n",
       "   'pm25Value': '29',\n",
       "   'pm25Value24': '27',\n",
       "   'resultCode': '',\n",
       "   'resultMsg': '',\n",
       "   'rnum': 0,\n",
       "   'serviceKey': '',\n",
       "   'sidoName': '',\n",
       "   'so2Grade': '1',\n",
       "   'so2Value': '0.004',\n",
       "   'stationCode': '',\n",
       "   'stationName': '용산구',\n",
       "   'totalCount': '',\n",
       "   'ver': ''},\n",
       "  {'_returnType': 'json',\n",
       "   'coGrade': '1',\n",
       "   'coValue': '0.8',\n",
       "   'dataTerm': '',\n",
       "   'dataTime': '2019-03-08 14:00',\n",
       "   'khaiGrade': '2',\n",
       "   'khaiValue': '90',\n",
       "   'mangName': '도시대기',\n",
       "   'no2Grade': '2',\n",
       "   'no2Value': '0.032',\n",
       "   'numOfRows': '10',\n",
       "   'o3Grade': '1',\n",
       "   'o3Value': '0.029',\n",
       "   'pageNo': '1',\n",
       "   'pm10Grade': '2',\n",
       "   'pm10Grade1h': '2',\n",
       "   'pm10Value': '48',\n",
       "   'pm10Value24': '57',\n",
       "   'pm25Grade': '2',\n",
       "   'pm25Grade1h': '2',\n",
       "   'pm25Value': '29',\n",
       "   'pm25Value24': '31',\n",
       "   'resultCode': '',\n",
       "   'resultMsg': '',\n",
       "   'rnum': 0,\n",
       "   'serviceKey': '',\n",
       "   'sidoName': '',\n",
       "   'so2Grade': '1',\n",
       "   'so2Value': '0.006',\n",
       "   'stationCode': '',\n",
       "   'stationName': '광진구',\n",
       "   'totalCount': '',\n",
       "   'ver': ''},\n",
       "  {'_returnType': 'json',\n",
       "   'coGrade': '1',\n",
       "   'coValue': '0.4',\n",
       "   'dataTerm': '',\n",
       "   'dataTime': '2019-03-08 14:00',\n",
       "   'khaiGrade': '2',\n",
       "   'khaiValue': '97',\n",
       "   'mangName': '도시대기',\n",
       "   'no2Grade': '2',\n",
       "   'no2Value': '0.042',\n",
       "   'numOfRows': '10',\n",
       "   'o3Grade': '1',\n",
       "   'o3Value': '0.030',\n",
       "   'pageNo': '1',\n",
       "   'pm10Grade': '2',\n",
       "   'pm10Grade1h': '2',\n",
       "   'pm10Value': '67',\n",
       "   'pm10Value24': '65',\n",
       "   'pm25Grade': '2',\n",
       "   'pm25Grade1h': '2',\n",
       "   'pm25Value': '34',\n",
       "   'pm25Value24': '34',\n",
       "   'resultCode': '',\n",
       "   'resultMsg': '',\n",
       "   'rnum': 0,\n",
       "   'serviceKey': '',\n",
       "   'sidoName': '',\n",
       "   'so2Grade': '1',\n",
       "   'so2Value': '0.004',\n",
       "   'stationCode': '',\n",
       "   'stationName': '성동구',\n",
       "   'totalCount': '',\n",
       "   'ver': ''},\n",
       "  {'_returnType': 'json',\n",
       "   'coGrade': '1',\n",
       "   'coValue': '0.4',\n",
       "   'dataTerm': '',\n",
       "   'dataTime': '2019-03-08 14:00',\n",
       "   'khaiGrade': '3',\n",
       "   'khaiValue': '103',\n",
       "   'mangName': '도로변대기',\n",
       "   'no2Grade': '3',\n",
       "   'no2Value': '0.063',\n",
       "   'numOfRows': '10',\n",
       "   'o3Grade': '1',\n",
       "   'o3Value': '0.017',\n",
       "   'pageNo': '1',\n",
       "   'pm10Grade': '2',\n",
       "   'pm10Grade1h': '2',\n",
       "   'pm10Value': '62',\n",
       "   'pm10Value24': '61',\n",
       "   'pm25Grade': '2',\n",
       "   'pm25Grade1h': '2',\n",
       "   'pm25Value': '34',\n",
       "   'pm25Value24': '33',\n",
       "   'resultCode': '',\n",
       "   'resultMsg': '',\n",
       "   'rnum': 0,\n",
       "   'serviceKey': '',\n",
       "   'sidoName': '',\n",
       "   'so2Grade': '1',\n",
       "   'so2Value': '0.005',\n",
       "   'stationCode': '',\n",
       "   'stationName': '강변북로',\n",
       "   'totalCount': '',\n",
       "   'ver': ''},\n",
       "  {'_returnType': 'json',\n",
       "   'coGrade': '1',\n",
       "   'coValue': '0.5',\n",
       "   'dataTerm': '',\n",
       "   'dataTime': '2019-03-08 14:00',\n",
       "   'khaiGrade': '2',\n",
       "   'khaiValue': '85',\n",
       "   'mangName': '도시대기',\n",
       "   'no2Grade': '1',\n",
       "   'no2Value': '0.029',\n",
       "   'numOfRows': '10',\n",
       "   'o3Grade': '1',\n",
       "   'o3Value': '0.028',\n",
       "   'pageNo': '1',\n",
       "   'pm10Grade': '2',\n",
       "   'pm10Grade1h': '2',\n",
       "   'pm10Value': '43',\n",
       "   'pm10Value24': '52',\n",
       "   'pm25Grade': '2',\n",
       "   'pm25Grade1h': '2',\n",
       "   'pm25Value': '27',\n",
       "   'pm25Value24': '29',\n",
       "   'resultCode': '',\n",
       "   'resultMsg': '',\n",
       "   'rnum': 0,\n",
       "   'serviceKey': '',\n",
       "   'sidoName': '',\n",
       "   'so2Grade': '1',\n",
       "   'so2Value': '0.007',\n",
       "   'stationCode': '',\n",
       "   'stationName': '중랑구',\n",
       "   'totalCount': '',\n",
       "   'ver': ''}],\n",
       " 'parm': {'_returnType': 'json',\n",
       "  'coGrade': '',\n",
       "  'coValue': '',\n",
       "  'dataTerm': '',\n",
       "  'dataTime': '',\n",
       "  'khaiGrade': '',\n",
       "  'khaiValue': '',\n",
       "  'mangName': '',\n",
       "  'no2Grade': '',\n",
       "  'no2Value': '',\n",
       "  'numOfRows': '10',\n",
       "  'o3Grade': '',\n",
       "  'o3Value': '',\n",
       "  'pageNo': '1',\n",
       "  'pm10Grade': '',\n",
       "  'pm10Grade1h': '',\n",
       "  'pm10Value': '',\n",
       "  'pm10Value24': '',\n",
       "  'pm25Grade': '',\n",
       "  'pm25Grade1h': '',\n",
       "  'pm25Value': '',\n",
       "  'pm25Value24': '',\n",
       "  'resultCode': '',\n",
       "  'resultMsg': '',\n",
       "  'rnum': 0,\n",
       "  'serviceKey': 'sh3rYw7QjwAhsCW88FOOcPwFQ9/4E3uFZX6rDHwjtkpu9yFwvVX1fMb+z+2n4CSdn50fmS0AbD7IqNL8O4qcAA==',\n",
       "  'sidoName': '서울',\n",
       "  'so2Grade': '',\n",
       "  'so2Value': '',\n",
       "  'stationCode': '',\n",
       "  'stationName': '',\n",
       "  'totalCount': '',\n",
       "  'ver': '1.3'},\n",
       " 'totalCount': 40}"
      ]
     },
     "execution_count": 183,
     "metadata": {},
     "output_type": "execute_result"
    }
   ],
   "source": [
    "result = json.loads(html.text) # 메모리 부터 읽는 것 \n",
    "result"
   ]
  },
  {
   "cell_type": "code",
   "execution_count": 190,
   "metadata": {},
   "outputs": [
    {
     "name": "stdout",
     "output_type": "stream",
     "text": [
      "중구 30\n",
      "한강대로 41\n",
      "종로구 28\n",
      "청계천로 31\n",
      "종로 27\n",
      "용산구 29\n",
      "광진구 29\n",
      "성동구 34\n",
      "강변북로 34\n",
      "중랑구 27\n"
     ]
    }
   ],
   "source": [
    "\n",
    "for row in result['list']:  # result['list']는 10개임 \n",
    "    print(row['stationName'],row['pm25Value'])"
   ]
  },
  {
   "cell_type": "code",
   "execution_count": null,
   "metadata": {},
   "outputs": [],
   "source": [
    "대기오염정보 조회 서비스 "
   ]
  }
 ],
 "metadata": {
  "kernelspec": {
   "display_name": "Python 3",
   "language": "python",
   "name": "python3"
  },
  "language_info": {
   "codemirror_mode": {
    "name": "ipython",
    "version": 3
   },
   "file_extension": ".py",
   "mimetype": "text/x-python",
   "name": "python",
   "nbconvert_exporter": "python",
   "pygments_lexer": "ipython3",
   "version": "3.6.4"
  }
 },
 "nbformat": 4,
 "nbformat_minor": 2
}
