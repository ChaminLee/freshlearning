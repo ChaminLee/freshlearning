{
 "cells": [
  {
   "cell_type": "markdown",
   "metadata": {},
   "source": [
    "# 자연어 프로젝트 특강 \n",
    "\n",
    "5개 정도의 프로젝트 과정을 볼 것이다. \n",
    "\n",
    "## 1. 4차 산업혁명 키워드 도출\n",
    "\n",
    "(1) 크롤링등으로 데이터를 수집\n",
    "\n",
    "(2) 사전 데이터 구축 ( 정보통신용어사전, 국립국어원 ) \n",
    "\n",
    "## 2. 항공산업 미래기술 예측\n",
    "\n",
    "미국 특허 사이트 벌크 다운로드 가능 (USPTO 특허 데이터)\n",
    "\n",
    "특허와 상표도 있음 \n",
    "\n",
    "Technology Opportunity Discovery\n",
    "\n"
   ]
  }
 ],
 "metadata": {
  "kernelspec": {
   "display_name": "Python 3",
   "language": "python",
   "name": "python3"
  },
  "language_info": {
   "codemirror_mode": {
    "name": "ipython",
    "version": 3
   },
   "file_extension": ".py",
   "mimetype": "text/x-python",
   "name": "python",
   "nbconvert_exporter": "python",
   "pygments_lexer": "ipython3",
   "version": "3.7.2"
  }
 },
 "nbformat": 4,
 "nbformat_minor": 2
}
