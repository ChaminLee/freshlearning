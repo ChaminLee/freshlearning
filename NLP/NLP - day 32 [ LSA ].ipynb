{
 "cells": [
  {
   "cell_type": "markdown",
   "metadata": {},
   "source": [
    "# LSA ( = LSI )\n",
    "\n",
    "https://nlp.stanford.edu/IR-book/newslides.html\n",
    "\n",
    "위 링크의 18번 ppt.2의 내용이다. \n",
    "\n",
    "\n",
    "SVD를 이용해서 차원을 축소한다. \n",
    "\n",
    "MxN을 MxK / K / KxN 으로 분해해서 표현한다. \n",
    "\n",
    "K의 값을 아무리 바꿔도 MxN의 형태는 유지가 된다. 그래서 이를 이용해서 K를 Topic으로 보고 K를 조정해가며 설정할 수 있다. \n",
    "\n",
    "decompose하고 다시 원형으로 바꾸면서 similarity 보다 더 나은 measure을 찾아낸다. \n",
    "\n",
    "M : 단어 / K : latent semantic / N : 문서\n",
    "\n",
    "U : row는 단어\n",
    "\n",
    "$V^T$ : 각각의 문서\n",
    "\n",
    "$\\Sigma$ : 어떤 컨셉이 얼마나 중요한지\n",
    "\n",
    "이러한 과정을 Latent Semantic Indexing(LSI,LSA)라고 한다. \n",
    "\n",
    "Noise와 유사해보이지만 유사하지 않은 정보를 버리면서 더 좋은 결과를 낼 수 있게 된다. \n",
    "\n",
    "\n"
   ]
  },
  {
   "cell_type": "code",
   "execution_count": 1,
   "metadata": {},
   "outputs": [],
   "source": [
    "import numpy as np"
   ]
  },
  {
   "cell_type": "code",
   "execution_count": 6,
   "metadata": {},
   "outputs": [],
   "source": [
    "X = np.array([[1,1,0,0,0],\n",
    "                      [0,1,0,0,0],\n",
    "                      [0,0,1,0,0],\n",
    "                      [0,0,0,1,0],\n",
    "                      [0,0,0,0,1]])"
   ]
  },
  {
   "cell_type": "code",
   "execution_count": 14,
   "metadata": {},
   "outputs": [
    {
     "data": {
      "text/plain": [
       "(array([[1, 1, 0, 0, 0],\n",
       "        [0, 1, 0, 0, 0],\n",
       "        [0, 0, 1, 0, 0],\n",
       "        [0, 0, 0, 1, 0],\n",
       "        [0, 0, 0, 0, 1]]), (5, 5), 2)"
      ]
     },
     "execution_count": 14,
     "metadata": {},
     "output_type": "execute_result"
    }
   ],
   "source": [
    "# 데이터, shape, 차원 \n",
    "# Document Term matrix\n",
    "# Row: Documents(5)\n",
    "# Column: Term(5)\n",
    "X , X.shape, X.ndim"
   ]
  },
  {
   "cell_type": "code",
   "execution_count": 16,
   "metadata": {},
   "outputs": [
    {
     "data": {
      "text/plain": [
       "(array([1, 1, 0, 0, 0]), array([1, 0, 0, 0, 0]))"
      ]
     },
     "execution_count": 16,
     "metadata": {},
     "output_type": "execute_result"
    }
   ],
   "source": [
    "# 단어에 대해서 단어 레벨을 곱해주는 것 \n",
    "# 내적은 코사인 시밀러티의 기반이됨\n",
    "X[0],X.T[0]"
   ]
  },
  {
   "cell_type": "code",
   "execution_count": 18,
   "metadata": {},
   "outputs": [
    {
     "data": {
      "text/plain": [
       "array([[1, 0, 0, 0, 0],\n",
       "       [1, 1, 0, 0, 0],\n",
       "       [0, 0, 1, 0, 0],\n",
       "       [0, 0, 0, 1, 0],\n",
       "       [0, 0, 0, 0, 1]])"
      ]
     },
     "execution_count": 18,
     "metadata": {},
     "output_type": "execute_result"
    }
   ],
   "source": [
    "# TDM\n",
    "# 행이 단어\n",
    "X.T"
   ]
  },
  {
   "cell_type": "code",
   "execution_count": 33,
   "metadata": {},
   "outputs": [
    {
     "data": {
      "text/plain": [
       "array([[1, 2, 0, 0, 0],\n",
       "       [0, 1, 0, 0, 0],\n",
       "       [0, 0, 1, 0, 0],\n",
       "       [0, 0, 0, 1, 0],\n",
       "       [0, 0, 0, 0, 1]])"
      ]
     },
     "execution_count": 33,
     "metadata": {},
     "output_type": "execute_result"
    }
   ],
   "source": [
    "# 0~5번째 0~5번째 문서의 내적으로 만들어진 5X5행렬이 나오게 됨 \n",
    "# 대각을 기준으로 대칭적임 \n",
    "# 대각은 1이 됨 ( cosine similarity 이기 때문에 : 그냥 같은 문서라 똑같아서 1 )\n",
    "X.dot(X)"
   ]
  },
  {
   "cell_type": "code",
   "execution_count": 27,
   "metadata": {},
   "outputs": [
    {
     "data": {
      "text/plain": [
       "((1, 5), (5, 1))"
      ]
     },
     "execution_count": 27,
     "metadata": {},
     "output_type": "execute_result"
    }
   ],
   "source": [
    "X.T[0].reshape(1,5).shape, X[:,[0]].shape"
   ]
  },
  {
   "cell_type": "code",
   "execution_count": 28,
   "metadata": {},
   "outputs": [
    {
     "data": {
      "text/plain": [
       "array([1, 0, 0, 0, 0])"
      ]
     },
     "execution_count": 28,
     "metadata": {},
     "output_type": "execute_result"
    }
   ],
   "source": [
    "X.T[0] # 0번째 문서 "
   ]
  },
  {
   "cell_type": "code",
   "execution_count": 30,
   "metadata": {},
   "outputs": [
    {
     "data": {
      "text/plain": [
       "array([1, 1, 0, 0, 0])"
      ]
     },
     "execution_count": 30,
     "metadata": {},
     "output_type": "execute_result"
    }
   ],
   "source": [
    "X[:,0] # 0번째 문서 \n",
    "X[:,1] # 1번째 문서"
   ]
  },
  {
   "cell_type": "code",
   "execution_count": 35,
   "metadata": {},
   "outputs": [
    {
     "data": {
      "text/plain": [
       "1"
      ]
     },
     "execution_count": 35,
     "metadata": {},
     "output_type": "execute_result"
    }
   ],
   "source": [
    "X.T[0].dot(X[:,1] )"
   ]
  },
  {
   "cell_type": "code",
   "execution_count": 39,
   "metadata": {},
   "outputs": [],
   "source": [
    "# 자기 자신을 다 곱한것. \n",
    "# 0행 x 0행\n",
    "\n",
    "# cosine\n",
    "# cos(X,Y) = innerproduct(X,Y) / len(X)len(Y)\n",
    "_X = X.dot(X.T)"
   ]
  },
  {
   "cell_type": "code",
   "execution_count": 41,
   "metadata": {},
   "outputs": [
    {
     "data": {
      "text/plain": [
       "array([[1, 1, 0, 0, 0],\n",
       "       [0, 1, 0, 0, 0],\n",
       "       [0, 0, 1, 0, 0],\n",
       "       [0, 0, 0, 1, 0],\n",
       "       [0, 0, 0, 0, 1]])"
      ]
     },
     "execution_count": 41,
     "metadata": {},
     "output_type": "execute_result"
    }
   ],
   "source": [
    "X"
   ]
  },
  {
   "cell_type": "code",
   "execution_count": 42,
   "metadata": {},
   "outputs": [
    {
     "data": {
      "text/plain": [
       "1.4142135623730951"
      ]
     },
     "execution_count": 42,
     "metadata": {},
     "output_type": "execute_result"
    }
   ],
   "source": [
    "# 거리\n",
    "np.linalg.norm(X[0])\n",
    "\n",
    "# = sqrt(1^2+1^2) = sqrt(2)의 값"
   ]
  },
  {
   "cell_type": "code",
   "execution_count": 43,
   "metadata": {},
   "outputs": [
    {
     "data": {
      "text/plain": [
       "array([1.41421356, 1.        , 1.        , 1.        , 1.        ])"
      ]
     },
     "execution_count": 43,
     "metadata": {},
     "output_type": "execute_result"
    }
   ],
   "source": [
    "np.linalg.norm(X, axis=1) # 행별로 자기 자신의 곱 \n",
    "# 각각 문서에 대한 길이 \n",
    "# 위의 len(x)가 된 것. "
   ]
  },
  {
   "cell_type": "code",
   "execution_count": 44,
   "metadata": {},
   "outputs": [
    {
     "data": {
      "text/plain": [
       "array([1.41421356, 1.        , 1.        , 1.        , 1.        ])"
      ]
     },
     "execution_count": 44,
     "metadata": {},
     "output_type": "execute_result"
    }
   ],
   "source": [
    "np.linalg.norm(X.T, axis=0)  # transpose하고 열단위로 계산 , len(y)\n",
    "# 둘의 곱셈을 위해 (1,5)로 reshape"
   ]
  },
  {
   "cell_type": "code",
   "execution_count": 46,
   "metadata": {},
   "outputs": [
    {
     "data": {
      "text/plain": [
       "array([[2.        , 1.41421356, 1.41421356, 1.41421356, 1.41421356],\n",
       "       [1.41421356, 1.        , 1.        , 1.        , 1.        ],\n",
       "       [1.41421356, 1.        , 1.        , 1.        , 1.        ],\n",
       "       [1.41421356, 1.        , 1.        , 1.        , 1.        ],\n",
       "       [1.41421356, 1.        , 1.        , 1.        , 1.        ]])"
      ]
     },
     "execution_count": 46,
     "metadata": {},
     "output_type": "execute_result"
    }
   ],
   "source": [
    "np.linalg.norm(X, axis=1).reshape(5,1) * np.linalg.norm(X.T, axis=0).reshape(1,5)"
   ]
  },
  {
   "cell_type": "code",
   "execution_count": 48,
   "metadata": {},
   "outputs": [
    {
     "data": {
      "text/plain": [
       "array([[1.        , 0.70710678, 0.        , 0.        , 0.        ],\n",
       "       [0.70710678, 1.        , 0.        , 0.        , 0.        ],\n",
       "       [0.        , 0.        , 1.        , 0.        , 0.        ],\n",
       "       [0.        , 0.        , 0.        , 1.        , 0.        ],\n",
       "       [0.        , 0.        , 0.        , 0.        , 1.        ]])"
      ]
     },
     "execution_count": 48,
     "metadata": {},
     "output_type": "execute_result"
    }
   ],
   "source": [
    "_X / (np.linalg.norm(X, axis=1).reshape(5,1) * np.linalg.norm(X.T, axis=0).reshape(1,5))\n",
    "# 1번2번이 그나마 연관이 있는 것. \n",
    "# 나머지는 그냥 자기자신과 연관"
   ]
  },
  {
   "cell_type": "code",
   "execution_count": 49,
   "metadata": {},
   "outputs": [
    {
     "data": {
      "text/plain": [
       "array([[1, 1, 0, 0, 0],\n",
       "       [0, 1, 0, 0, 0],\n",
       "       [0, 0, 1, 0, 0],\n",
       "       [0, 0, 0, 1, 0],\n",
       "       [0, 0, 0, 0, 1]])"
      ]
     },
     "execution_count": 49,
     "metadata": {},
     "output_type": "execute_result"
    }
   ],
   "source": [
    "X"
   ]
  },
  {
   "cell_type": "code",
   "execution_count": 51,
   "metadata": {},
   "outputs": [
    {
     "data": {
      "text/plain": [
       "(array([[-0.85065081,  0.        ,  0.        ,  0.        , -0.52573111],\n",
       "        [-0.52573111,  0.        ,  0.        ,  0.        ,  0.85065081],\n",
       "        [ 0.        ,  0.        ,  1.        ,  0.        ,  0.        ],\n",
       "        [ 0.        ,  0.        ,  0.        ,  1.        ,  0.        ],\n",
       "        [ 0.        ,  1.        ,  0.        ,  0.        ,  0.        ]]),\n",
       " array([2.61803399, 1.        , 1.        , 1.        , 0.38196601]),\n",
       " array([[-0.85065081, -0.52573111, -0.        , -0.        , -0.        ],\n",
       "        [ 0.        ,  0.        ,  0.        ,  0.        ,  1.        ],\n",
       "        [ 0.        ,  0.        ,  1.        ,  0.        ,  0.        ],\n",
       "        [ 0.        ,  0.        ,  0.        ,  1.        ,  0.        ],\n",
       "        [-0.52573111,  0.85065081,  0.        ,  0.        ,  0.        ]]))"
      ]
     },
     "execution_count": 51,
     "metadata": {},
     "output_type": "execute_result"
    }
   ],
   "source": [
    "np.linalg.svd(_X)"
   ]
  },
  {
   "cell_type": "markdown",
   "metadata": {},
   "source": [
    "# 피피티 데이터"
   ]
  },
  {
   "cell_type": "code",
   "execution_count": 101,
   "metadata": {},
   "outputs": [],
   "source": [
    "C = np.array([[1,0,1,0,0,0],\n",
    "             [0,1,0,0,0,0],\n",
    "              [1,1,0,0,0,0],\n",
    "              [1,0,0,1,1,0],\n",
    "              [0,0,0,1,0,1]\n",
    "             ])"
   ]
  },
  {
   "cell_type": "code",
   "execution_count": 102,
   "metadata": {},
   "outputs": [
    {
     "data": {
      "text/plain": [
       "(5, 6)"
      ]
     },
     "execution_count": 102,
     "metadata": {},
     "output_type": "execute_result"
    }
   ],
   "source": [
    "C.shape"
   ]
  },
  {
   "cell_type": "code",
   "execution_count": 103,
   "metadata": {},
   "outputs": [],
   "source": [
    "# False로 해야 차원을 맞춤 \n",
    "U,sigma,Vt = np.linalg.svd(C,full_matrices=False)"
   ]
  },
  {
   "cell_type": "code",
   "execution_count": 104,
   "metadata": {},
   "outputs": [
    {
     "data": {
      "text/plain": [
       "((5, 5), (5,), (5, 6))"
      ]
     },
     "execution_count": 104,
     "metadata": {},
     "output_type": "execute_result"
    }
   ],
   "source": [
    "U.shape,sigma.shape,Vt.shape"
   ]
  },
  {
   "cell_type": "code",
   "execution_count": 105,
   "metadata": {},
   "outputs": [
    {
     "data": {
      "text/plain": [
       "array([[ 1.,  0.,  0.,  0.,  0.,  0.],\n",
       "       [-0., -1., -0.,  1.,  0.,  0.],\n",
       "       [-0.,  1., -0.,  0., -0.,  0.],\n",
       "       [-0.,  0.,  1.,  0., -1.,  1.],\n",
       "       [ 1., -0., -1., -0., -0.,  0.]])"
      ]
     },
     "execution_count": 105,
     "metadata": {},
     "output_type": "execute_result"
    }
   ],
   "source": [
    "np.round(Vt)"
   ]
  },
  {
   "cell_type": "code",
   "execution_count": 106,
   "metadata": {},
   "outputs": [
    {
     "data": {
      "text/plain": [
       "array([2.16250096, 1.59438237, 1.27529025, 1.        , 0.39391525])"
      ]
     },
     "execution_count": 106,
     "metadata": {},
     "output_type": "execute_result"
    }
   ],
   "source": [
    "# K*K 형태로 만들어줘야함 \n",
    "sigma"
   ]
  },
  {
   "cell_type": "code",
   "execution_count": 107,
   "metadata": {},
   "outputs": [
    {
     "data": {
      "text/plain": [
       "array([[2.16250096, 0.        , 0.        , 0.        , 0.        ],\n",
       "       [0.        , 1.59438237, 0.        , 0.        , 0.        ],\n",
       "       [0.        , 0.        , 1.27529025, 0.        , 0.        ],\n",
       "       [0.        , 0.        , 0.        , 1.        , 0.        ],\n",
       "       [0.        , 0.        , 0.        , 0.        , 0.39391525]])"
      ]
     },
     "execution_count": 107,
     "metadata": {},
     "output_type": "execute_result"
    }
   ],
   "source": [
    "_sigma = np.diag(sigma)\n",
    "_sigma"
   ]
  },
  {
   "cell_type": "code",
   "execution_count": 108,
   "metadata": {},
   "outputs": [],
   "source": [
    "_C = U.dot(_sigma).dot(Vt)"
   ]
  },
  {
   "cell_type": "code",
   "execution_count": 109,
   "metadata": {},
   "outputs": [
    {
     "data": {
      "text/plain": [
       "array([[ True,  True,  True,  True,  True,  True],\n",
       "       [ True,  True,  True,  True,  True,  True],\n",
       "       [ True,  True,  True,  True,  True,  True],\n",
       "       [ True,  True,  True,  True,  True,  True],\n",
       "       [ True,  True,  True,  True,  True,  True]])"
      ]
     },
     "execution_count": 109,
     "metadata": {},
     "output_type": "execute_result"
    }
   ],
   "source": [
    "# 원본과 같다.\n",
    "C == np.round(_C)"
   ]
  },
  {
   "cell_type": "code",
   "execution_count": 110,
   "metadata": {},
   "outputs": [
    {
     "data": {
      "text/plain": [
       "array([[ 1., -0., -1.,  1., -0.],\n",
       "       [ 0., -1.,  1.,  0., -0.],\n",
       "       [ 1., -1.,  0.,  0.,  0.],\n",
       "       [ 2.,  1., -0., -1., -0.],\n",
       "       [ 1.,  1.,  1.,  1.,  0.]])"
      ]
     },
     "execution_count": 110,
     "metadata": {},
     "output_type": "execute_result"
    }
   ],
   "source": [
    "np.round(U.dot(_sigma))\n",
    "# 열에서 1들로 묶어서 cluster에서 중요한지를 표현함 "
   ]
  },
  {
   "cell_type": "code",
   "execution_count": 111,
   "metadata": {},
   "outputs": [
    {
     "data": {
      "text/plain": [
       "array([[ 0., -0., -1.,  1., -0.],\n",
       "       [ 0., -0.,  1.,  0., -1.],\n",
       "       [ 0., -1.,  0.,  0.,  1.],\n",
       "       [ 1.,  0., -0., -1., -0.],\n",
       "       [ 0.,  1.,  0.,  1.,  0.]])"
      ]
     },
     "execution_count": 111,
     "metadata": {},
     "output_type": "execute_result"
    }
   ],
   "source": [
    "np.round(U)"
   ]
  },
  {
   "cell_type": "code",
   "execution_count": 112,
   "metadata": {},
   "outputs": [],
   "source": [
    "V = [\"ship\",\"boat\",\"ocean\",\"wood\",\"tree\"]"
   ]
  },
  {
   "cell_type": "code",
   "execution_count": 113,
   "metadata": {},
   "outputs": [],
   "source": [
    "import pandas as pd"
   ]
  },
  {
   "cell_type": "code",
   "execution_count": 114,
   "metadata": {
    "scrolled": true
   },
   "outputs": [
    {
     "data": {
      "text/html": [
       "<div>\n",
       "<style scoped>\n",
       "    .dataframe tbody tr th:only-of-type {\n",
       "        vertical-align: middle;\n",
       "    }\n",
       "\n",
       "    .dataframe tbody tr th {\n",
       "        vertical-align: top;\n",
       "    }\n",
       "\n",
       "    .dataframe thead th {\n",
       "        text-align: right;\n",
       "    }\n",
       "</style>\n",
       "<table border=\"1\" class=\"dataframe\">\n",
       "  <thead>\n",
       "    <tr style=\"text-align: right;\">\n",
       "      <th></th>\n",
       "      <th>0</th>\n",
       "      <th>1</th>\n",
       "      <th>2</th>\n",
       "      <th>3</th>\n",
       "      <th>4</th>\n",
       "    </tr>\n",
       "  </thead>\n",
       "  <tbody>\n",
       "    <tr>\n",
       "      <th>ship</th>\n",
       "      <td>0.952252</td>\n",
       "      <td>-0.472215</td>\n",
       "      <td>-0.726275</td>\n",
       "      <td>5.773503e-01</td>\n",
       "      <td>-0.097062</td>\n",
       "    </tr>\n",
       "    <tr>\n",
       "      <th>boat</th>\n",
       "      <td>0.279712</td>\n",
       "      <td>-0.528459</td>\n",
       "      <td>0.748623</td>\n",
       "      <td>1.110223e-16</td>\n",
       "      <td>-0.286454</td>\n",
       "    </tr>\n",
       "    <tr>\n",
       "      <th>ocean</th>\n",
       "      <td>1.028335</td>\n",
       "      <td>-0.814913</td>\n",
       "      <td>0.468911</td>\n",
       "      <td>1.110223e-16</td>\n",
       "      <td>0.242005</td>\n",
       "    </tr>\n",
       "    <tr>\n",
       "      <th>wood</th>\n",
       "      <td>1.520282</td>\n",
       "      <td>0.558946</td>\n",
       "      <td>-0.197550</td>\n",
       "      <td>-5.773503e-01</td>\n",
       "      <td>-0.062943</td>\n",
       "    </tr>\n",
       "    <tr>\n",
       "      <th>tree</th>\n",
       "      <td>0.568030</td>\n",
       "      <td>1.031162</td>\n",
       "      <td>0.528725</td>\n",
       "      <td>5.773503e-01</td>\n",
       "      <td>0.034119</td>\n",
       "    </tr>\n",
       "  </tbody>\n",
       "</table>\n",
       "</div>"
      ],
      "text/plain": [
       "              0         1         2             3         4\n",
       "ship   0.952252 -0.472215 -0.726275  5.773503e-01 -0.097062\n",
       "boat   0.279712 -0.528459  0.748623  1.110223e-16 -0.286454\n",
       "ocean  1.028335 -0.814913  0.468911  1.110223e-16  0.242005\n",
       "wood   1.520282  0.558946 -0.197550 -5.773503e-01 -0.062943\n",
       "tree   0.568030  1.031162  0.528725  5.773503e-01  0.034119"
      ]
     },
     "execution_count": 114,
     "metadata": {},
     "output_type": "execute_result"
    }
   ],
   "source": [
    "pd.DataFrame(U.dot(_sigma), index=V)"
   ]
  },
  {
   "cell_type": "code",
   "execution_count": 115,
   "metadata": {},
   "outputs": [
    {
     "data": {
      "text/plain": [
       "array([2.16250096, 1.59438237])"
      ]
     },
     "execution_count": 115,
     "metadata": {},
     "output_type": "execute_result"
    }
   ],
   "source": [
    "sigma[:2] # K = min(m,n)  /  클러스터의 수, 잠재의미의 수"
   ]
  },
  {
   "cell_type": "code",
   "execution_count": 116,
   "metadata": {},
   "outputs": [
    {
     "data": {
      "text/plain": [
       "array([[2.16250096, 0.        ],\n",
       "       [0.        , 1.59438237]])"
      ]
     },
     "execution_count": 116,
     "metadata": {},
     "output_type": "execute_result"
    }
   ],
   "source": [
    "_sigma = np.diag(sigma[:2])\n",
    "_sigma"
   ]
  },
  {
   "cell_type": "code",
   "execution_count": 117,
   "metadata": {},
   "outputs": [
    {
     "data": {
      "text/plain": [
       "array([[ 0.95225185, -0.47221518],\n",
       "       [ 0.2797116 , -0.52845914],\n",
       "       [ 1.02833465, -0.81491313],\n",
       "       [ 1.52028211,  0.55894647],\n",
       "       [ 0.56803026,  1.03116165]])"
      ]
     },
     "execution_count": 117,
     "metadata": {},
     "output_type": "execute_result"
    }
   ],
   "source": [
    "# shape 맞추려고 자름 \n",
    "U[:,:2].dot(_sigma)"
   ]
  },
  {
   "cell_type": "code",
   "execution_count": 118,
   "metadata": {},
   "outputs": [
    {
     "data": {
      "text/plain": [
       "(2, 6)"
      ]
     },
     "execution_count": 118,
     "metadata": {},
     "output_type": "execute_result"
    }
   ],
   "source": [
    "Vt[:2,:].shape"
   ]
  },
  {
   "cell_type": "code",
   "execution_count": 127,
   "metadata": {},
   "outputs": [
    {
     "data": {
      "text/html": [
       "<div>\n",
       "<style scoped>\n",
       "    .dataframe tbody tr th:only-of-type {\n",
       "        vertical-align: middle;\n",
       "    }\n",
       "\n",
       "    .dataframe tbody tr th {\n",
       "        vertical-align: top;\n",
       "    }\n",
       "\n",
       "    .dataframe thead th {\n",
       "        text-align: right;\n",
       "    }\n",
       "</style>\n",
       "<table border=\"1\" class=\"dataframe\">\n",
       "  <thead>\n",
       "    <tr style=\"text-align: right;\">\n",
       "      <th></th>\n",
       "      <th>0</th>\n",
       "      <th>1</th>\n",
       "      <th>2</th>\n",
       "      <th>3</th>\n",
       "      <th>4</th>\n",
       "      <th>5</th>\n",
       "    </tr>\n",
       "  </thead>\n",
       "  <tbody>\n",
       "    <tr>\n",
       "      <th>ship</th>\n",
       "      <td>0.848146</td>\n",
       "      <td>0.515902</td>\n",
       "      <td>0.281625</td>\n",
       "      <td>0.129860</td>\n",
       "      <td>0.205743</td>\n",
       "      <td>-0.075882</td>\n",
       "    </tr>\n",
       "    <tr>\n",
       "      <th>boat</th>\n",
       "      <td>0.360778</td>\n",
       "      <td>0.357508</td>\n",
       "      <td>0.155125</td>\n",
       "      <td>-0.205653</td>\n",
       "      <td>-0.025264</td>\n",
       "      <td>-0.180389</td>\n",
       "    </tr>\n",
       "    <tr>\n",
       "      <th>ocean</th>\n",
       "      <td>1.003270</td>\n",
       "      <td>0.718285</td>\n",
       "      <td>0.360778</td>\n",
       "      <td>-0.050529</td>\n",
       "      <td>0.155125</td>\n",
       "      <td>-0.205653</td>\n",
       "    </tr>\n",
       "    <tr>\n",
       "      <th>wood</th>\n",
       "      <td>0.978006</td>\n",
       "      <td>0.129860</td>\n",
       "      <td>0.205743</td>\n",
       "      <td>1.028534</td>\n",
       "      <td>0.617139</td>\n",
       "      <td>0.411396</td>\n",
       "    </tr>\n",
       "    <tr>\n",
       "      <th>tree</th>\n",
       "      <td>0.129860</td>\n",
       "      <td>-0.386042</td>\n",
       "      <td>-0.075882</td>\n",
       "      <td>0.898674</td>\n",
       "      <td>0.411396</td>\n",
       "      <td>0.487278</td>\n",
       "    </tr>\n",
       "  </tbody>\n",
       "</table>\n",
       "</div>"
      ],
      "text/plain": [
       "              0         1         2         3         4         5\n",
       "ship   0.848146  0.515902  0.281625  0.129860  0.205743 -0.075882\n",
       "boat   0.360778  0.357508  0.155125 -0.205653 -0.025264 -0.180389\n",
       "ocean  1.003270  0.718285  0.360778 -0.050529  0.155125 -0.205653\n",
       "wood   0.978006  0.129860  0.205743  1.028534  0.617139  0.411396\n",
       "tree   0.129860 -0.386042 -0.075882  0.898674  0.411396  0.487278"
      ]
     },
     "execution_count": 127,
     "metadata": {},
     "output_type": "execute_result"
    }
   ],
   "source": [
    "# 2차원으로 줄이고 복구한 것 \n",
    "# 원본 정보를 아주 조금 손실함 \n",
    "# 즉 차원을 줄여도 큰 영향이 없다는 것을 말한다. \n",
    "pd.DataFrame(U[:,:2].dot(_sigma.dot(Vt[:2,:])), index=V)"
   ]
  },
  {
   "cell_type": "code",
   "execution_count": 128,
   "metadata": {},
   "outputs": [
    {
     "data": {
      "text/html": [
       "<div>\n",
       "<style scoped>\n",
       "    .dataframe tbody tr th:only-of-type {\n",
       "        vertical-align: middle;\n",
       "    }\n",
       "\n",
       "    .dataframe tbody tr th {\n",
       "        vertical-align: top;\n",
       "    }\n",
       "\n",
       "    .dataframe thead th {\n",
       "        text-align: right;\n",
       "    }\n",
       "</style>\n",
       "<table border=\"1\" class=\"dataframe\">\n",
       "  <thead>\n",
       "    <tr style=\"text-align: right;\">\n",
       "      <th></th>\n",
       "      <th>0</th>\n",
       "      <th>1</th>\n",
       "      <th>2</th>\n",
       "      <th>3</th>\n",
       "      <th>4</th>\n",
       "      <th>5</th>\n",
       "    </tr>\n",
       "  </thead>\n",
       "  <tbody>\n",
       "    <tr>\n",
       "      <th>ship</th>\n",
       "      <td>1.000000e+00</td>\n",
       "      <td>-1.416560e-16</td>\n",
       "      <td>1.000000e+00</td>\n",
       "      <td>-9.262189e-17</td>\n",
       "      <td>-1.063636e-16</td>\n",
       "      <td>-7.348257e-17</td>\n",
       "    </tr>\n",
       "    <tr>\n",
       "      <th>boat</th>\n",
       "      <td>-9.202245e-17</td>\n",
       "      <td>1.000000e+00</td>\n",
       "      <td>-1.389379e-16</td>\n",
       "      <td>-4.073781e-17</td>\n",
       "      <td>2.709099e-16</td>\n",
       "      <td>-2.328651e-16</td>\n",
       "    </tr>\n",
       "    <tr>\n",
       "      <th>ocean</th>\n",
       "      <td>1.000000e+00</td>\n",
       "      <td>1.000000e+00</td>\n",
       "      <td>-6.218204e-16</td>\n",
       "      <td>2.517679e-16</td>\n",
       "      <td>-1.388439e-16</td>\n",
       "      <td>7.652643e-17</td>\n",
       "    </tr>\n",
       "    <tr>\n",
       "      <th>wood</th>\n",
       "      <td>1.000000e+00</td>\n",
       "      <td>2.759403e-16</td>\n",
       "      <td>-1.077270e-15</td>\n",
       "      <td>1.000000e+00</td>\n",
       "      <td>1.000000e+00</td>\n",
       "      <td>8.881328e-17</td>\n",
       "    </tr>\n",
       "    <tr>\n",
       "      <th>tree</th>\n",
       "      <td>-6.446619e-16</td>\n",
       "      <td>1.641829e-16</td>\n",
       "      <td>-3.923142e-16</td>\n",
       "      <td>1.000000e+00</td>\n",
       "      <td>2.088368e-18</td>\n",
       "      <td>1.000000e+00</td>\n",
       "    </tr>\n",
       "  </tbody>\n",
       "</table>\n",
       "</div>"
      ],
      "text/plain": [
       "                  0             1             2             3             4  \\\n",
       "ship   1.000000e+00 -1.416560e-16  1.000000e+00 -9.262189e-17 -1.063636e-16   \n",
       "boat  -9.202245e-17  1.000000e+00 -1.389379e-16 -4.073781e-17  2.709099e-16   \n",
       "ocean  1.000000e+00  1.000000e+00 -6.218204e-16  2.517679e-16 -1.388439e-16   \n",
       "wood   1.000000e+00  2.759403e-16 -1.077270e-15  1.000000e+00  1.000000e+00   \n",
       "tree  -6.446619e-16  1.641829e-16 -3.923142e-16  1.000000e+00  2.088368e-18   \n",
       "\n",
       "                  5  \n",
       "ship  -7.348257e-17  \n",
       "boat  -2.328651e-16  \n",
       "ocean  7.652643e-17  \n",
       "wood   8.881328e-17  \n",
       "tree   1.000000e+00  "
      ]
     },
     "execution_count": 128,
     "metadata": {},
     "output_type": "execute_result"
    }
   ],
   "source": [
    "pd.DataFrame(U.dot(np.diag(sigma)).dot(Vt),index=V)"
   ]
  },
  {
   "cell_type": "code",
   "execution_count": 129,
   "metadata": {},
   "outputs": [
    {
     "data": {
      "text/html": [
       "<div>\n",
       "<style scoped>\n",
       "    .dataframe tbody tr th:only-of-type {\n",
       "        vertical-align: middle;\n",
       "    }\n",
       "\n",
       "    .dataframe tbody tr th {\n",
       "        vertical-align: top;\n",
       "    }\n",
       "\n",
       "    .dataframe thead th {\n",
       "        text-align: right;\n",
       "    }\n",
       "</style>\n",
       "<table border=\"1\" class=\"dataframe\">\n",
       "  <thead>\n",
       "    <tr style=\"text-align: right;\">\n",
       "      <th></th>\n",
       "      <th>0</th>\n",
       "      <th>1</th>\n",
       "      <th>2</th>\n",
       "      <th>3</th>\n",
       "      <th>4</th>\n",
       "      <th>5</th>\n",
       "    </tr>\n",
       "  </thead>\n",
       "  <tbody>\n",
       "    <tr>\n",
       "      <th>ship</th>\n",
       "      <td>1</td>\n",
       "      <td>0</td>\n",
       "      <td>1</td>\n",
       "      <td>0</td>\n",
       "      <td>0</td>\n",
       "      <td>0</td>\n",
       "    </tr>\n",
       "    <tr>\n",
       "      <th>boat</th>\n",
       "      <td>0</td>\n",
       "      <td>1</td>\n",
       "      <td>0</td>\n",
       "      <td>0</td>\n",
       "      <td>0</td>\n",
       "      <td>0</td>\n",
       "    </tr>\n",
       "    <tr>\n",
       "      <th>ocean</th>\n",
       "      <td>1</td>\n",
       "      <td>1</td>\n",
       "      <td>0</td>\n",
       "      <td>0</td>\n",
       "      <td>0</td>\n",
       "      <td>0</td>\n",
       "    </tr>\n",
       "    <tr>\n",
       "      <th>wood</th>\n",
       "      <td>1</td>\n",
       "      <td>0</td>\n",
       "      <td>0</td>\n",
       "      <td>1</td>\n",
       "      <td>1</td>\n",
       "      <td>0</td>\n",
       "    </tr>\n",
       "    <tr>\n",
       "      <th>tree</th>\n",
       "      <td>0</td>\n",
       "      <td>0</td>\n",
       "      <td>0</td>\n",
       "      <td>1</td>\n",
       "      <td>0</td>\n",
       "      <td>1</td>\n",
       "    </tr>\n",
       "  </tbody>\n",
       "</table>\n",
       "</div>"
      ],
      "text/plain": [
       "       0  1  2  3  4  5\n",
       "ship   1  0  1  0  0  0\n",
       "boat   0  1  0  0  0  0\n",
       "ocean  1  1  0  0  0  0\n",
       "wood   1  0  0  1  1  0\n",
       "tree   0  0  0  1  0  1"
      ]
     },
     "execution_count": 129,
     "metadata": {},
     "output_type": "execute_result"
    }
   ],
   "source": [
    "# 위의 세 개 다 같아야함 \n",
    "pd.DataFrame(C,index=V)"
   ]
  },
  {
   "cell_type": "markdown",
   "metadata": {},
   "source": [
    "U * sigma는 어떤 단어가 latent semantic에서 중요한지 알 수 있고,\n",
    "\n",
    "sigma * Vt는 어떤 문서가 latent semantic에서 중요한지 알 수 있다."
   ]
  },
  {
   "cell_type": "code",
   "execution_count": 130,
   "metadata": {},
   "outputs": [
    {
     "data": {
      "text/plain": [
       "(array([[ 4.40347480e-01, -2.96174360e-01, -5.69497581e-01,\n",
       "          5.77350269e-01, -2.46402144e-01],\n",
       "        [ 1.29346349e-01, -3.31450692e-01,  5.87021697e-01,\n",
       "          1.11022302e-16, -7.27197008e-01],\n",
       "        [ 4.75530263e-01, -5.11115242e-01,  3.67689978e-01,\n",
       "          1.11022302e-16,  6.14358412e-01],\n",
       "        [ 7.03020318e-01,  3.50572409e-01, -1.54905878e-01,\n",
       "         -5.77350269e-01, -1.59788154e-01],\n",
       "        [ 2.62672838e-01,  6.46746769e-01,  4.14591704e-01,\n",
       "          5.77350269e-01,  8.66139898e-02]]),\n",
       " array([2.16250096, 1.59438237, 1.27529025, 1.        , 0.39391525]),\n",
       " array([[ 7.48623048e-01,  2.79711603e-01,  2.03628802e-01,\n",
       "          4.46563110e-01,  3.25095956e-01,  1.21467154e-01],\n",
       "        [-2.86453991e-01, -5.28459139e-01, -1.85761186e-01,\n",
       "          6.25520701e-01,  2.19879758e-01,  4.05640944e-01],\n",
       "        [-2.79711603e-01,  7.48623048e-01, -4.46563110e-01,\n",
       "          2.03628802e-01, -1.21467154e-01,  3.25095956e-01],\n",
       "        [-4.99600361e-16,  2.22044605e-16,  5.77350269e-01,\n",
       "          1.38777878e-16, -5.77350269e-01,  5.77350269e-01],\n",
       "        [ 5.28459139e-01, -2.86453991e-01, -6.25520701e-01,\n",
       "         -1.85761186e-01, -4.05640944e-01,  2.19879758e-01]]))"
      ]
     },
     "execution_count": 130,
     "metadata": {},
     "output_type": "execute_result"
    }
   ],
   "source": [
    "U, sigma, Vt"
   ]
  },
  {
   "cell_type": "code",
   "execution_count": 134,
   "metadata": {},
   "outputs": [
    {
     "data": {
      "text/plain": [
       "((5, 5), (5, 5))"
      ]
     },
     "execution_count": 134,
     "metadata": {},
     "output_type": "execute_result"
    }
   ],
   "source": [
    "U.shape, np.diag(sigma).shape"
   ]
  },
  {
   "cell_type": "code",
   "execution_count": 135,
   "metadata": {},
   "outputs": [],
   "source": [
    "# latent semantic 차원에서의 단어의 중요도\n",
    "_U = U.dot(np.diag(sigma))"
   ]
  },
  {
   "cell_type": "code",
   "execution_count": 138,
   "metadata": {},
   "outputs": [
    {
     "data": {
      "text/plain": [
       "array([[ 1., -0., -1.,  1., -0.],\n",
       "       [ 0., -1.,  1.,  0., -0.],\n",
       "       [ 1., -1.,  0.,  0.,  0.],\n",
       "       [ 2.,  1., -0., -1., -0.],\n",
       "       [ 1.,  1.,  1.,  1.,  0.]])"
      ]
     },
     "execution_count": 138,
     "metadata": {},
     "output_type": "execute_result"
    }
   ],
   "source": [
    "np.round(_U)"
   ]
  },
  {
   "cell_type": "code",
   "execution_count": 141,
   "metadata": {},
   "outputs": [
    {
     "data": {
      "text/html": [
       "<div>\n",
       "<style scoped>\n",
       "    .dataframe tbody tr th:only-of-type {\n",
       "        vertical-align: middle;\n",
       "    }\n",
       "\n",
       "    .dataframe tbody tr th {\n",
       "        vertical-align: top;\n",
       "    }\n",
       "\n",
       "    .dataframe thead th {\n",
       "        text-align: right;\n",
       "    }\n",
       "</style>\n",
       "<table border=\"1\" class=\"dataframe\">\n",
       "  <thead>\n",
       "    <tr style=\"text-align: right;\">\n",
       "      <th></th>\n",
       "      <th>ship</th>\n",
       "      <th>boat</th>\n",
       "      <th>ocean</th>\n",
       "      <th>wood</th>\n",
       "      <th>tree</th>\n",
       "    </tr>\n",
       "  </thead>\n",
       "  <tbody>\n",
       "    <tr>\n",
       "      <th>ship</th>\n",
       "      <td>1.000000e+00</td>\n",
       "      <td>-4.264405e-17</td>\n",
       "      <td>5.000000e-01</td>\n",
       "      <td>4.082483e-01</td>\n",
       "      <td>-4.565534e-16</td>\n",
       "    </tr>\n",
       "    <tr>\n",
       "      <th>boat</th>\n",
       "      <td>-4.264405e-17</td>\n",
       "      <td>1.000000e+00</td>\n",
       "      <td>7.071068e-01</td>\n",
       "      <td>-1.451691e-16</td>\n",
       "      <td>-4.124721e-16</td>\n",
       "    </tr>\n",
       "    <tr>\n",
       "      <th>ocean</th>\n",
       "      <td>5.000000e-01</td>\n",
       "      <td>7.071068e-01</td>\n",
       "      <td>1.000000e+00</td>\n",
       "      <td>4.082483e-01</td>\n",
       "      <td>-2.536438e-16</td>\n",
       "    </tr>\n",
       "    <tr>\n",
       "      <th>wood</th>\n",
       "      <td>4.082483e-01</td>\n",
       "      <td>-1.451691e-16</td>\n",
       "      <td>4.082483e-01</td>\n",
       "      <td>1.000000e+00</td>\n",
       "      <td>4.082483e-01</td>\n",
       "    </tr>\n",
       "    <tr>\n",
       "      <th>tree</th>\n",
       "      <td>-4.565534e-16</td>\n",
       "      <td>-4.124721e-16</td>\n",
       "      <td>-2.536438e-16</td>\n",
       "      <td>4.082483e-01</td>\n",
       "      <td>1.000000e+00</td>\n",
       "    </tr>\n",
       "  </tbody>\n",
       "</table>\n",
       "</div>"
      ],
      "text/plain": [
       "               ship          boat         ocean          wood          tree\n",
       "ship   1.000000e+00 -4.264405e-17  5.000000e-01  4.082483e-01 -4.565534e-16\n",
       "boat  -4.264405e-17  1.000000e+00  7.071068e-01 -1.451691e-16 -4.124721e-16\n",
       "ocean  5.000000e-01  7.071068e-01  1.000000e+00  4.082483e-01 -2.536438e-16\n",
       "wood   4.082483e-01 -1.451691e-16  4.082483e-01  1.000000e+00  4.082483e-01\n",
       "tree  -4.565534e-16 -4.124721e-16 -2.536438e-16  4.082483e-01  1.000000e+00"
      ]
     },
     "execution_count": 141,
     "metadata": {},
     "output_type": "execute_result"
    }
   ],
   "source": [
    "# Cosine similarity\n",
    "pd.DataFrame(_U.dot(_U.T) / (np.linalg.norm(_U, axis=1).reshape(5,1) * np.linalg.norm(_U.T, axis=0).reshape(1,5)),index=V,columns=V)"
   ]
  },
  {
   "cell_type": "code",
   "execution_count": 181,
   "metadata": {},
   "outputs": [],
   "source": [
    "# K = 2 바꾸기\n",
    "# detail을 조금 잘라낸 것 \n",
    "# K차원을 낮추니 애매했던 것들이 명확해짐 \n",
    "_U = U[:,:2].dot(_sigma)"
   ]
  },
  {
   "cell_type": "code",
   "execution_count": 143,
   "metadata": {},
   "outputs": [
    {
     "data": {
      "text/html": [
       "<div>\n",
       "<style scoped>\n",
       "    .dataframe tbody tr th:only-of-type {\n",
       "        vertical-align: middle;\n",
       "    }\n",
       "\n",
       "    .dataframe tbody tr th {\n",
       "        vertical-align: top;\n",
       "    }\n",
       "\n",
       "    .dataframe thead th {\n",
       "        text-align: right;\n",
       "    }\n",
       "</style>\n",
       "<table border=\"1\" class=\"dataframe\">\n",
       "  <thead>\n",
       "    <tr style=\"text-align: right;\">\n",
       "      <th></th>\n",
       "      <th>ship</th>\n",
       "      <th>boat</th>\n",
       "      <th>ocean</th>\n",
       "      <th>wood</th>\n",
       "      <th>tree</th>\n",
       "    </tr>\n",
       "  </thead>\n",
       "  <tbody>\n",
       "    <tr>\n",
       "      <th>ship</th>\n",
       "      <td>1.000000</td>\n",
       "      <td>0.811764</td>\n",
       "      <td>0.978079</td>\n",
       "      <td>0.687557</td>\n",
       "      <td>0.043137</td>\n",
       "    </tr>\n",
       "    <tr>\n",
       "      <th>boat</th>\n",
       "      <td>0.811764</td>\n",
       "      <td>1.000000</td>\n",
       "      <td>0.915575</td>\n",
       "      <td>0.134084</td>\n",
       "      <td>-0.548426</td>\n",
       "    </tr>\n",
       "    <tr>\n",
       "      <th>ocean</th>\n",
       "      <td>0.978079</td>\n",
       "      <td>0.915575</td>\n",
       "      <td>1.000000</td>\n",
       "      <td>0.521280</td>\n",
       "      <td>-0.165849</td>\n",
       "    </tr>\n",
       "    <tr>\n",
       "      <th>wood</th>\n",
       "      <td>0.687557</td>\n",
       "      <td>0.134084</td>\n",
       "      <td>0.521280</td>\n",
       "      <td>1.000000</td>\n",
       "      <td>0.755113</td>\n",
       "    </tr>\n",
       "    <tr>\n",
       "      <th>tree</th>\n",
       "      <td>0.043137</td>\n",
       "      <td>-0.548426</td>\n",
       "      <td>-0.165849</td>\n",
       "      <td>0.755113</td>\n",
       "      <td>1.000000</td>\n",
       "    </tr>\n",
       "  </tbody>\n",
       "</table>\n",
       "</div>"
      ],
      "text/plain": [
       "           ship      boat     ocean      wood      tree\n",
       "ship   1.000000  0.811764  0.978079  0.687557  0.043137\n",
       "boat   0.811764  1.000000  0.915575  0.134084 -0.548426\n",
       "ocean  0.978079  0.915575  1.000000  0.521280 -0.165849\n",
       "wood   0.687557  0.134084  0.521280  1.000000  0.755113\n",
       "tree   0.043137 -0.548426 -0.165849  0.755113  1.000000"
      ]
     },
     "execution_count": 143,
     "metadata": {},
     "output_type": "execute_result"
    }
   ],
   "source": [
    "pd.DataFrame(_U.dot(_U.T) / (np.linalg.norm(_U, axis=1).reshape(5,1) * np.linalg.norm(_U.T, axis=0).reshape(1,5)),index=V,columns=V)"
   ]
  },
  {
   "cell_type": "code",
   "execution_count": 169,
   "metadata": {},
   "outputs": [],
   "source": [
    "_U = np.diag(sigma).dot(Vt)"
   ]
  },
  {
   "cell_type": "code",
   "execution_count": 170,
   "metadata": {},
   "outputs": [
    {
     "data": {
      "text/plain": [
       "(5, 6)"
      ]
     },
     "execution_count": 170,
     "metadata": {},
     "output_type": "execute_result"
    }
   ],
   "source": [
    "# 열이 문서차원 \n",
    "_U.shape"
   ]
  },
  {
   "cell_type": "code",
   "execution_count": 171,
   "metadata": {},
   "outputs": [
    {
     "data": {
      "text/html": [
       "<div>\n",
       "<style scoped>\n",
       "    .dataframe tbody tr th:only-of-type {\n",
       "        vertical-align: middle;\n",
       "    }\n",
       "\n",
       "    .dataframe tbody tr th {\n",
       "        vertical-align: top;\n",
       "    }\n",
       "\n",
       "    .dataframe thead th {\n",
       "        text-align: right;\n",
       "    }\n",
       "</style>\n",
       "<table border=\"1\" class=\"dataframe\">\n",
       "  <thead>\n",
       "    <tr style=\"text-align: right;\">\n",
       "      <th></th>\n",
       "      <th>0</th>\n",
       "      <th>1</th>\n",
       "      <th>2</th>\n",
       "      <th>3</th>\n",
       "      <th>4</th>\n",
       "      <th>5</th>\n",
       "    </tr>\n",
       "  </thead>\n",
       "  <tbody>\n",
       "    <tr>\n",
       "      <th>0</th>\n",
       "      <td>1.000000e+00</td>\n",
       "      <td>4.082483e-01</td>\n",
       "      <td>5.773503e-01</td>\n",
       "      <td>4.082483e-01</td>\n",
       "      <td>5.773503e-01</td>\n",
       "      <td>-5.626024e-16</td>\n",
       "    </tr>\n",
       "    <tr>\n",
       "      <th>1</th>\n",
       "      <td>4.082483e-01</td>\n",
       "      <td>1.000000e+00</td>\n",
       "      <td>-6.806529e-16</td>\n",
       "      <td>1.615013e-16</td>\n",
       "      <td>9.033418e-17</td>\n",
       "      <td>1.104590e-18</td>\n",
       "    </tr>\n",
       "    <tr>\n",
       "      <th>2</th>\n",
       "      <td>5.773503e-01</td>\n",
       "      <td>-6.806529e-16</td>\n",
       "      <td>1.000000e+00</td>\n",
       "      <td>-8.310377e-16</td>\n",
       "      <td>-1.065977e-15</td>\n",
       "      <td>-2.697315e-16</td>\n",
       "    </tr>\n",
       "    <tr>\n",
       "      <th>3</th>\n",
       "      <td>4.082483e-01</td>\n",
       "      <td>1.615013e-16</td>\n",
       "      <td>-8.310377e-16</td>\n",
       "      <td>1.000000e+00</td>\n",
       "      <td>7.071068e-01</td>\n",
       "      <td>7.071068e-01</td>\n",
       "    </tr>\n",
       "    <tr>\n",
       "      <th>4</th>\n",
       "      <td>5.773503e-01</td>\n",
       "      <td>9.033418e-17</td>\n",
       "      <td>-1.065977e-15</td>\n",
       "      <td>7.071068e-01</td>\n",
       "      <td>1.000000e+00</td>\n",
       "      <td>-1.489724e-16</td>\n",
       "    </tr>\n",
       "    <tr>\n",
       "      <th>5</th>\n",
       "      <td>-5.626024e-16</td>\n",
       "      <td>1.104590e-18</td>\n",
       "      <td>-2.697315e-16</td>\n",
       "      <td>7.071068e-01</td>\n",
       "      <td>-1.489724e-16</td>\n",
       "      <td>1.000000e+00</td>\n",
       "    </tr>\n",
       "  </tbody>\n",
       "</table>\n",
       "</div>"
      ],
      "text/plain": [
       "              0             1             2             3             4  \\\n",
       "0  1.000000e+00  4.082483e-01  5.773503e-01  4.082483e-01  5.773503e-01   \n",
       "1  4.082483e-01  1.000000e+00 -6.806529e-16  1.615013e-16  9.033418e-17   \n",
       "2  5.773503e-01 -6.806529e-16  1.000000e+00 -8.310377e-16 -1.065977e-15   \n",
       "3  4.082483e-01  1.615013e-16 -8.310377e-16  1.000000e+00  7.071068e-01   \n",
       "4  5.773503e-01  9.033418e-17 -1.065977e-15  7.071068e-01  1.000000e+00   \n",
       "5 -5.626024e-16  1.104590e-18 -2.697315e-16  7.071068e-01 -1.489724e-16   \n",
       "\n",
       "              5  \n",
       "0 -5.626024e-16  \n",
       "1  1.104590e-18  \n",
       "2 -2.697315e-16  \n",
       "3  7.071068e-01  \n",
       "4 -1.489724e-16  \n",
       "5  1.000000e+00  "
      ]
     },
     "execution_count": 171,
     "metadata": {},
     "output_type": "execute_result"
    }
   ],
   "source": [
    "# 문서 \n",
    "pd.DataFrame(_U.T.dot(_U) / (np.linalg.norm(_U.T, axis=1).reshape(6,1) * np.linalg.norm(_U, axis=0).reshape(1,6)))"
   ]
  },
  {
   "cell_type": "code",
   "execution_count": 180,
   "metadata": {},
   "outputs": [
    {
     "data": {
      "text/plain": [
       "(2, 6)"
      ]
     },
     "execution_count": 180,
     "metadata": {},
     "output_type": "execute_result"
    }
   ],
   "source": [
    "# K = 2 바꾸기\n",
    "_U = _sigma.dot(Vt[:2,:])\n",
    "_U.shape"
   ]
  },
  {
   "cell_type": "code",
   "execution_count": 177,
   "metadata": {
    "scrolled": true
   },
   "outputs": [
    {
     "data": {
      "text/html": [
       "<div>\n",
       "<style scoped>\n",
       "    .dataframe tbody tr th:only-of-type {\n",
       "        vertical-align: middle;\n",
       "    }\n",
       "\n",
       "    .dataframe tbody tr th {\n",
       "        vertical-align: top;\n",
       "    }\n",
       "\n",
       "    .dataframe thead th {\n",
       "        text-align: right;\n",
       "    }\n",
       "</style>\n",
       "<table border=\"1\" class=\"dataframe\">\n",
       "  <thead>\n",
       "    <tr style=\"text-align: right;\">\n",
       "      <th></th>\n",
       "      <th>0</th>\n",
       "      <th>1</th>\n",
       "      <th>2</th>\n",
       "      <th>3</th>\n",
       "      <th>4</th>\n",
       "      <th>5</th>\n",
       "    </tr>\n",
       "  </thead>\n",
       "  <tbody>\n",
       "    <tr>\n",
       "      <th>0</th>\n",
       "      <td>1.000000</td>\n",
       "      <td>0.781837</td>\n",
       "      <td>0.950136</td>\n",
       "      <td>0.474432</td>\n",
       "      <td>0.740118</td>\n",
       "      <td>0.110596</td>\n",
       "    </tr>\n",
       "    <tr>\n",
       "      <th>1</th>\n",
       "      <td>0.781837</td>\n",
       "      <td>1.000000</td>\n",
       "      <td>0.937276</td>\n",
       "      <td>-0.177918</td>\n",
       "      <td>0.159375</td>\n",
       "      <td>-0.533190</td>\n",
       "    </tr>\n",
       "    <tr>\n",
       "      <th>2</th>\n",
       "      <td>0.950136</td>\n",
       "      <td>0.937276</td>\n",
       "      <td>1.000000</td>\n",
       "      <td>0.176269</td>\n",
       "      <td>0.493512</td>\n",
       "      <td>-0.204841</td>\n",
       "    </tr>\n",
       "    <tr>\n",
       "      <th>3</th>\n",
       "      <td>0.474432</td>\n",
       "      <td>-0.177918</td>\n",
       "      <td>0.176269</td>\n",
       "      <td>1.000000</td>\n",
       "      <td>0.943112</td>\n",
       "      <td>0.927362</td>\n",
       "    </tr>\n",
       "    <tr>\n",
       "      <th>4</th>\n",
       "      <td>0.740118</td>\n",
       "      <td>0.159375</td>\n",
       "      <td>0.493512</td>\n",
       "      <td>0.943112</td>\n",
       "      <td>1.000000</td>\n",
       "      <td>0.750205</td>\n",
       "    </tr>\n",
       "    <tr>\n",
       "      <th>5</th>\n",
       "      <td>0.110596</td>\n",
       "      <td>-0.533190</td>\n",
       "      <td>-0.204841</td>\n",
       "      <td>0.927362</td>\n",
       "      <td>0.750205</td>\n",
       "      <td>1.000000</td>\n",
       "    </tr>\n",
       "  </tbody>\n",
       "</table>\n",
       "</div>"
      ],
      "text/plain": [
       "          0         1         2         3         4         5\n",
       "0  1.000000  0.781837  0.950136  0.474432  0.740118  0.110596\n",
       "1  0.781837  1.000000  0.937276 -0.177918  0.159375 -0.533190\n",
       "2  0.950136  0.937276  1.000000  0.176269  0.493512 -0.204841\n",
       "3  0.474432 -0.177918  0.176269  1.000000  0.943112  0.927362\n",
       "4  0.740118  0.159375  0.493512  0.943112  1.000000  0.750205\n",
       "5  0.110596 -0.533190 -0.204841  0.927362  0.750205  1.000000"
      ]
     },
     "execution_count": 177,
     "metadata": {},
     "output_type": "execute_result"
    }
   ],
   "source": [
    "# 1,2문서가 가까움 \n",
    "# 차원을 줄이면서 정보를 버리게 되면서 관계를 찾아내게 됨.\n",
    "pd.DataFrame(_U.T.dot(_U) / (np.linalg.norm(_U.T, axis=1).reshape(6,1) * np.linalg.norm(_U, axis=0).reshape(1,6)))"
   ]
  },
  {
   "cell_type": "code",
   "execution_count": 183,
   "metadata": {},
   "outputs": [],
   "source": [
    "_U = U[:,:2].dot(_sigma)"
   ]
  },
  {
   "cell_type": "code",
   "execution_count": 185,
   "metadata": {},
   "outputs": [
    {
     "data": {
      "text/html": [
       "<div>\n",
       "<style scoped>\n",
       "    .dataframe tbody tr th:only-of-type {\n",
       "        vertical-align: middle;\n",
       "    }\n",
       "\n",
       "    .dataframe tbody tr th {\n",
       "        vertical-align: top;\n",
       "    }\n",
       "\n",
       "    .dataframe thead th {\n",
       "        text-align: right;\n",
       "    }\n",
       "</style>\n",
       "<table border=\"1\" class=\"dataframe\">\n",
       "  <thead>\n",
       "    <tr style=\"text-align: right;\">\n",
       "      <th></th>\n",
       "      <th>0</th>\n",
       "      <th>1</th>\n",
       "    </tr>\n",
       "  </thead>\n",
       "  <tbody>\n",
       "    <tr>\n",
       "      <th>ship</th>\n",
       "      <td>0.952252</td>\n",
       "      <td>-0.472215</td>\n",
       "    </tr>\n",
       "    <tr>\n",
       "      <th>boat</th>\n",
       "      <td>0.279712</td>\n",
       "      <td>-0.528459</td>\n",
       "    </tr>\n",
       "    <tr>\n",
       "      <th>ocean</th>\n",
       "      <td>1.028335</td>\n",
       "      <td>-0.814913</td>\n",
       "    </tr>\n",
       "    <tr>\n",
       "      <th>wood</th>\n",
       "      <td>1.520282</td>\n",
       "      <td>0.558946</td>\n",
       "    </tr>\n",
       "    <tr>\n",
       "      <th>tree</th>\n",
       "      <td>0.568030</td>\n",
       "      <td>1.031162</td>\n",
       "    </tr>\n",
       "  </tbody>\n",
       "</table>\n",
       "</div>"
      ],
      "text/plain": [
       "              0         1\n",
       "ship   0.952252 -0.472215\n",
       "boat   0.279712 -0.528459\n",
       "ocean  1.028335 -0.814913\n",
       "wood   1.520282  0.558946\n",
       "tree   0.568030  1.031162"
      ]
     },
     "execution_count": 185,
     "metadata": {},
     "output_type": "execute_result"
    }
   ],
   "source": [
    "cluster = pd.DataFrame(_U,index=V)\n",
    "cluster"
   ]
  },
  {
   "cell_type": "code",
   "execution_count": 193,
   "metadata": {},
   "outputs": [
    {
     "data": {
      "text/plain": [
       "{'tree': 1.031161645026429, 'wood': 0.5589464674814446}"
      ]
     },
     "execution_count": 193,
     "metadata": {},
     "output_type": "execute_result"
    }
   ],
   "source": [
    "temp = cluster.sort_values(by=[1],ascending=False)\n",
    "temp[temp[1] > 0 ][1].to_dict()"
   ]
  },
  {
   "cell_type": "code",
   "execution_count": 196,
   "metadata": {},
   "outputs": [
    {
     "data": {
      "text/plain": [
       "{'wood': 1.5202821146385515,\n",
       " 'ocean': 1.0283346514510259,\n",
       " 'ship': 0.9522518499797586,\n",
       " 'tree': 0.5680302646587934,\n",
       " 'boat': 0.2797116034996999}"
      ]
     },
     "execution_count": 196,
     "metadata": {},
     "output_type": "execute_result"
    }
   ],
   "source": [
    "temp = cluster.sort_values(by=[0],ascending=False)\n",
    "temp[temp[0] > 0 ][0].to_dict()"
   ]
  },
  {
   "attachments": {
    "image.png": {
     "image/png": "[encoded data removed]"
    }
   },
   "cell_type": "markdown",
   "metadata": {},
   "source": [
    "# 새로운 데이터 \n",
    "\n",
    "1. SVD => U , Sigma, Vt   (M,N) / 위는 (N,M) N개의 문서와 M개의 단어로 이루어짐\n",
    "\n",
    "2. U * Sigma / U[:,:K] * Sigma[:K]  => Latent Semantic 차원에서 어느 문서가 중요한지 \n",
    "\n",
    "3. Sigma * Vt / Sigma[:K] * Vt[:K,:]  => Latent Semantic 차원에서 어느 단어가 중요한지 \n",
    "\n",
    "4. 2에서 각 문서가 어느 문서와 유사한지 ( Latent Semantic Dimensions ) \n",
    "\n",
    "5. 3에서 각 단어가 어느 단어와 유사한지 ( Latent Semantic Dimensions ) \n",
    "\n",
    "![image.png](attachment:image.png)"
   ]
  },
  {
   "cell_type": "code",
   "execution_count": 301,
   "metadata": {},
   "outputs": [],
   "source": [
    "# DTM\n",
    "voca = ['cute','kitty','eat','rice','cake','hamster','bread']\n",
    "docu = ['A','B','C','D','E','F']\n",
    "D = np.array([[1,1,0,0,0,0,0],\n",
    "            [0,0,1,1,1,0,0],\n",
    "            [0,1,0,0,0,1,0],\n",
    "            [0,0,1,0,0,0,1],\n",
    "            [0,0,0,1,1,0,1],\n",
    "            [1,0,1,0,1,1,1]])"
   ]
  },
  {
   "cell_type": "code",
   "execution_count": 302,
   "metadata": {},
   "outputs": [],
   "source": [
    "U,sigma,Vt = np.linalg.svd(D.T,full_matrices=False)"
   ]
  },
  {
   "cell_type": "code",
   "execution_count": 303,
   "metadata": {},
   "outputs": [
    {
     "data": {
      "text/plain": [
       "((7, 6), (6,), (6, 6))"
      ]
     },
     "execution_count": 303,
     "metadata": {},
     "output_type": "execute_result"
    }
   ],
   "source": [
    "U.shape, sigma.shape, Vt.shape"
   ]
  },
  {
   "cell_type": "code",
   "execution_count": 304,
   "metadata": {},
   "outputs": [
    {
     "data": {
      "text/plain": [
       "(6, 6)"
      ]
     },
     "execution_count": 304,
     "metadata": {},
     "output_type": "execute_result"
    }
   ],
   "source": [
    "_sigma = np.diag(sigma)\n",
    "_sigma.shape"
   ]
  },
  {
   "cell_type": "code",
   "execution_count": 306,
   "metadata": {},
   "outputs": [
    {
     "data": {
      "text/html": [
       "<div>\n",
       "<style scoped>\n",
       "    .dataframe tbody tr th:only-of-type {\n",
       "        vertical-align: middle;\n",
       "    }\n",
       "\n",
       "    .dataframe tbody tr th {\n",
       "        vertical-align: top;\n",
       "    }\n",
       "\n",
       "    .dataframe thead th {\n",
       "        text-align: right;\n",
       "    }\n",
       "</style>\n",
       "<table border=\"1\" class=\"dataframe\">\n",
       "  <thead>\n",
       "    <tr style=\"text-align: right;\">\n",
       "      <th></th>\n",
       "      <th>A</th>\n",
       "      <th>B</th>\n",
       "      <th>C</th>\n",
       "      <th>D</th>\n",
       "      <th>E</th>\n",
       "      <th>F</th>\n",
       "    </tr>\n",
       "  </thead>\n",
       "  <tbody>\n",
       "    <tr>\n",
       "      <th>cute</th>\n",
       "      <td>1.0</td>\n",
       "      <td>-0.0</td>\n",
       "      <td>-0.0</td>\n",
       "      <td>-0.0</td>\n",
       "      <td>-0.0</td>\n",
       "      <td>1.0</td>\n",
       "    </tr>\n",
       "    <tr>\n",
       "      <th>kitty</th>\n",
       "      <td>1.0</td>\n",
       "      <td>-0.0</td>\n",
       "      <td>1.0</td>\n",
       "      <td>0.0</td>\n",
       "      <td>-0.0</td>\n",
       "      <td>0.0</td>\n",
       "    </tr>\n",
       "    <tr>\n",
       "      <th>eat</th>\n",
       "      <td>0.0</td>\n",
       "      <td>1.0</td>\n",
       "      <td>-0.0</td>\n",
       "      <td>1.0</td>\n",
       "      <td>0.0</td>\n",
       "      <td>1.0</td>\n",
       "    </tr>\n",
       "    <tr>\n",
       "      <th>rice</th>\n",
       "      <td>-0.0</td>\n",
       "      <td>1.0</td>\n",
       "      <td>-0.0</td>\n",
       "      <td>0.0</td>\n",
       "      <td>1.0</td>\n",
       "      <td>0.0</td>\n",
       "    </tr>\n",
       "    <tr>\n",
       "      <th>cake</th>\n",
       "      <td>-0.0</td>\n",
       "      <td>1.0</td>\n",
       "      <td>-0.0</td>\n",
       "      <td>0.0</td>\n",
       "      <td>1.0</td>\n",
       "      <td>1.0</td>\n",
       "    </tr>\n",
       "    <tr>\n",
       "      <th>hamster</th>\n",
       "      <td>0.0</td>\n",
       "      <td>0.0</td>\n",
       "      <td>1.0</td>\n",
       "      <td>0.0</td>\n",
       "      <td>0.0</td>\n",
       "      <td>1.0</td>\n",
       "    </tr>\n",
       "    <tr>\n",
       "      <th>bread</th>\n",
       "      <td>0.0</td>\n",
       "      <td>0.0</td>\n",
       "      <td>-0.0</td>\n",
       "      <td>1.0</td>\n",
       "      <td>1.0</td>\n",
       "      <td>1.0</td>\n",
       "    </tr>\n",
       "  </tbody>\n",
       "</table>\n",
       "</div>"
      ],
      "text/plain": [
       "           A    B    C    D    E    F\n",
       "cute     1.0 -0.0 -0.0 -0.0 -0.0  1.0\n",
       "kitty    1.0 -0.0  1.0  0.0 -0.0  0.0\n",
       "eat      0.0  1.0 -0.0  1.0  0.0  1.0\n",
       "rice    -0.0  1.0 -0.0  0.0  1.0  0.0\n",
       "cake    -0.0  1.0 -0.0  0.0  1.0  1.0\n",
       "hamster  0.0  0.0  1.0  0.0  0.0  1.0\n",
       "bread    0.0  0.0 -0.0  1.0  1.0  1.0"
      ]
     },
     "execution_count": 306,
     "metadata": {},
     "output_type": "execute_result"
    }
   ],
   "source": [
    "_D = np.round(U.dot(_sigma.dot(Vt)))\n",
    "pd.DataFrame(_D,index=voca,columns=docu)"
   ]
  },
  {
   "cell_type": "code",
   "execution_count": 307,
   "metadata": {},
   "outputs": [
    {
     "data": {
      "text/plain": [
       "(7, 6)"
      ]
     },
     "execution_count": 307,
     "metadata": {},
     "output_type": "execute_result"
    }
   ],
   "source": [
    "U.shape"
   ]
  },
  {
   "cell_type": "code",
   "execution_count": 308,
   "metadata": {},
   "outputs": [
    {
     "data": {
      "text/html": [
       "<div>\n",
       "<style scoped>\n",
       "    .dataframe tbody tr th:only-of-type {\n",
       "        vertical-align: middle;\n",
       "    }\n",
       "\n",
       "    .dataframe tbody tr th {\n",
       "        vertical-align: top;\n",
       "    }\n",
       "\n",
       "    .dataframe thead th {\n",
       "        text-align: right;\n",
       "    }\n",
       "</style>\n",
       "<table border=\"1\" class=\"dataframe\">\n",
       "  <thead>\n",
       "    <tr style=\"text-align: right;\">\n",
       "      <th></th>\n",
       "      <th>A</th>\n",
       "      <th>B</th>\n",
       "      <th>C</th>\n",
       "      <th>D</th>\n",
       "      <th>E</th>\n",
       "      <th>F</th>\n",
       "    </tr>\n",
       "  </thead>\n",
       "  <tbody>\n",
       "    <tr>\n",
       "      <th>cute</th>\n",
       "      <td>-0.805857</td>\n",
       "      <td>0.869863</td>\n",
       "      <td>-0.049325</td>\n",
       "      <td>-7.457939e-16</td>\n",
       "      <td>-7.071068e-01</td>\n",
       "      <td>-0.302490</td>\n",
       "    </tr>\n",
       "    <tr>\n",
       "      <th>kitty</th>\n",
       "      <td>-0.234822</td>\n",
       "      <td>1.138337</td>\n",
       "      <td>0.640451</td>\n",
       "      <td>7.457939e-16</td>\n",
       "      <td>4.773959e-15</td>\n",
       "      <td>0.488744</td>\n",
       "    </tr>\n",
       "    <tr>\n",
       "      <th>eat</th>\n",
       "      <td>-1.459347</td>\n",
       "      <td>-0.131908</td>\n",
       "      <td>-0.519923</td>\n",
       "      <td>-7.071068e-01</td>\n",
       "      <td>3.330669e-15</td>\n",
       "      <td>0.287377</td>\n",
       "    </tr>\n",
       "    <tr>\n",
       "      <th>rice</th>\n",
       "      <td>-0.883220</td>\n",
       "      <td>-0.715663</td>\n",
       "      <td>0.825868</td>\n",
       "      <td>-1.110223e-16</td>\n",
       "      <td>1.276756e-15</td>\n",
       "      <td>0.160283</td>\n",
       "    </tr>\n",
       "    <tr>\n",
       "      <th>cake</th>\n",
       "      <td>-1.571666</td>\n",
       "      <td>-0.414968</td>\n",
       "      <td>0.456318</td>\n",
       "      <td>-5.728015e-16</td>\n",
       "      <td>-3.941292e-15</td>\n",
       "      <td>-0.386578</td>\n",
       "    </tr>\n",
       "    <tr>\n",
       "      <th>hamster</th>\n",
       "      <td>-0.805857</td>\n",
       "      <td>0.869863</td>\n",
       "      <td>-0.049325</td>\n",
       "      <td>-2.574246e-16</td>\n",
       "      <td>7.071068e-01</td>\n",
       "      <td>-0.302490</td>\n",
       "    </tr>\n",
       "    <tr>\n",
       "      <th>bread</th>\n",
       "      <td>-1.459347</td>\n",
       "      <td>-0.131908</td>\n",
       "      <td>-0.519923</td>\n",
       "      <td>7.071068e-01</td>\n",
       "      <td>2.997602e-15</td>\n",
       "      <td>0.287377</td>\n",
       "    </tr>\n",
       "  </tbody>\n",
       "</table>\n",
       "</div>"
      ],
      "text/plain": [
       "                A         B         C             D             E         F\n",
       "cute    -0.805857  0.869863 -0.049325 -7.457939e-16 -7.071068e-01 -0.302490\n",
       "kitty   -0.234822  1.138337  0.640451  7.457939e-16  4.773959e-15  0.488744\n",
       "eat     -1.459347 -0.131908 -0.519923 -7.071068e-01  3.330669e-15  0.287377\n",
       "rice    -0.883220 -0.715663  0.825868 -1.110223e-16  1.276756e-15  0.160283\n",
       "cake    -1.571666 -0.414968  0.456318 -5.728015e-16 -3.941292e-15 -0.386578\n",
       "hamster -0.805857  0.869863 -0.049325 -2.574246e-16  7.071068e-01 -0.302490\n",
       "bread   -1.459347 -0.131908 -0.519923  7.071068e-01  2.997602e-15  0.287377"
      ]
     },
     "execution_count": 308,
     "metadata": {},
     "output_type": "execute_result"
    }
   ],
   "source": [
    "pd.DataFrame(U.dot(_sigma),index=voca,columns=docu)"
   ]
  },
  {
   "cell_type": "code",
   "execution_count": 309,
   "metadata": {},
   "outputs": [
    {
     "data": {
      "text/plain": [
       "array([[2.9771718 , 0.        ],\n",
       "       [0.        , 1.87837842]])"
      ]
     },
     "execution_count": 309,
     "metadata": {},
     "output_type": "execute_result"
    }
   ],
   "source": [
    "_sigma = np.diag(sigma[:2])\n",
    "_sigma"
   ]
  },
  {
   "cell_type": "code",
   "execution_count": 310,
   "metadata": {},
   "outputs": [
    {
     "data": {
      "text/plain": [
       "array([[-0.8058567 ,  0.8698632 ],\n",
       "       [-0.23482206,  1.13833682],\n",
       "       [-1.45934746, -0.1319077 ],\n",
       "       [-0.88321998, -0.71566271],\n",
       "       [-1.57166566, -0.41496792],\n",
       "       [-0.8058567 ,  0.8698632 ],\n",
       "       [-1.45934746, -0.1319077 ]])"
      ]
     },
     "execution_count": 310,
     "metadata": {},
     "output_type": "execute_result"
    }
   ],
   "source": [
    "U[:,:2].dot(_sigma)"
   ]
  },
  {
   "cell_type": "code",
   "execution_count": 311,
   "metadata": {},
   "outputs": [
    {
     "data": {
      "text/html": [
       "<div>\n",
       "<style scoped>\n",
       "    .dataframe tbody tr th:only-of-type {\n",
       "        vertical-align: middle;\n",
       "    }\n",
       "\n",
       "    .dataframe tbody tr th {\n",
       "        vertical-align: top;\n",
       "    }\n",
       "\n",
       "    .dataframe thead th {\n",
       "        text-align: right;\n",
       "    }\n",
       "</style>\n",
       "<table border=\"1\" class=\"dataframe\">\n",
       "  <thead>\n",
       "    <tr style=\"text-align: right;\">\n",
       "      <th></th>\n",
       "      <th>A</th>\n",
       "      <th>B</th>\n",
       "      <th>C</th>\n",
       "      <th>D</th>\n",
       "      <th>E</th>\n",
       "      <th>F</th>\n",
       "    </tr>\n",
       "  </thead>\n",
       "  <tbody>\n",
       "    <tr>\n",
       "      <th>cute</th>\n",
       "      <td>0.589715</td>\n",
       "      <td>0.044610</td>\n",
       "      <td>0.589715</td>\n",
       "      <td>0.200321</td>\n",
       "      <td>0.044610</td>\n",
       "      <td>0.816352</td>\n",
       "    </tr>\n",
       "    <tr>\n",
       "      <th>kitty</th>\n",
       "      <td>0.675476</td>\n",
       "      <td>-0.303633</td>\n",
       "      <td>0.675476</td>\n",
       "      <td>-0.007790</td>\n",
       "      <td>-0.303633</td>\n",
       "      <td>0.503954</td>\n",
       "    </tr>\n",
       "    <tr>\n",
       "      <th>eat</th>\n",
       "      <td>0.096266</td>\n",
       "      <td>0.691663</td>\n",
       "      <td>0.096266</td>\n",
       "      <td>0.490414</td>\n",
       "      <td>0.691663</td>\n",
       "      <td>0.965017</td>\n",
       "    </tr>\n",
       "    <tr>\n",
       "      <th>rice</th>\n",
       "      <td>-0.303633</td>\n",
       "      <td>0.646125</td>\n",
       "      <td>-0.303633</td>\n",
       "      <td>0.344348</td>\n",
       "      <td>0.646125</td>\n",
       "      <td>0.392853</td>\n",
       "    </tr>\n",
       "    <tr>\n",
       "      <th>cake</th>\n",
       "      <td>-0.051656</td>\n",
       "      <td>0.842552</td>\n",
       "      <td>-0.051656</td>\n",
       "      <td>0.548564</td>\n",
       "      <td>0.842552</td>\n",
       "      <td>0.957228</td>\n",
       "    </tr>\n",
       "    <tr>\n",
       "      <th>hamster</th>\n",
       "      <td>0.589715</td>\n",
       "      <td>0.044610</td>\n",
       "      <td>0.589715</td>\n",
       "      <td>0.200321</td>\n",
       "      <td>0.044610</td>\n",
       "      <td>0.816352</td>\n",
       "    </tr>\n",
       "    <tr>\n",
       "      <th>bread</th>\n",
       "      <td>0.096266</td>\n",
       "      <td>0.691663</td>\n",
       "      <td>0.096266</td>\n",
       "      <td>0.490414</td>\n",
       "      <td>0.691663</td>\n",
       "      <td>0.965017</td>\n",
       "    </tr>\n",
       "  </tbody>\n",
       "</table>\n",
       "</div>"
      ],
      "text/plain": [
       "                A         B         C         D         E         F\n",
       "cute     0.589715  0.044610  0.589715  0.200321  0.044610  0.816352\n",
       "kitty    0.675476 -0.303633  0.675476 -0.007790 -0.303633  0.503954\n",
       "eat      0.096266  0.691663  0.096266  0.490414  0.691663  0.965017\n",
       "rice    -0.303633  0.646125 -0.303633  0.344348  0.646125  0.392853\n",
       "cake    -0.051656  0.842552 -0.051656  0.548564  0.842552  0.957228\n",
       "hamster  0.589715  0.044610  0.589715  0.200321  0.044610  0.816352\n",
       "bread    0.096266  0.691663  0.096266  0.490414  0.691663  0.965017"
      ]
     },
     "execution_count": 311,
     "metadata": {},
     "output_type": "execute_result"
    }
   ],
   "source": [
    "# K = 2\n",
    "pd.DataFrame(U[:,:2].dot(_sigma.dot(Vt[:2,:])), index=voca,columns=docu)"
   ]
  },
  {
   "cell_type": "code",
   "execution_count": 313,
   "metadata": {
    "scrolled": true
   },
   "outputs": [
    {
     "data": {
      "text/html": [
       "<div>\n",
       "<style scoped>\n",
       "    .dataframe tbody tr th:only-of-type {\n",
       "        vertical-align: middle;\n",
       "    }\n",
       "\n",
       "    .dataframe tbody tr th {\n",
       "        vertical-align: top;\n",
       "    }\n",
       "\n",
       "    .dataframe thead th {\n",
       "        text-align: right;\n",
       "    }\n",
       "</style>\n",
       "<table border=\"1\" class=\"dataframe\">\n",
       "  <thead>\n",
       "    <tr style=\"text-align: right;\">\n",
       "      <th></th>\n",
       "      <th>A</th>\n",
       "      <th>B</th>\n",
       "      <th>C</th>\n",
       "      <th>D</th>\n",
       "      <th>E</th>\n",
       "      <th>F</th>\n",
       "    </tr>\n",
       "  </thead>\n",
       "  <tbody>\n",
       "    <tr>\n",
       "      <th>cute</th>\n",
       "      <td>1.000000e+00</td>\n",
       "      <td>-1.675601e-16</td>\n",
       "      <td>-6.677030e-16</td>\n",
       "      <td>-1.387636e-15</td>\n",
       "      <td>-2.191352e-16</td>\n",
       "      <td>1.000000e+00</td>\n",
       "    </tr>\n",
       "    <tr>\n",
       "      <th>kitty</th>\n",
       "      <td>1.000000e+00</td>\n",
       "      <td>-2.557817e-16</td>\n",
       "      <td>1.000000e+00</td>\n",
       "      <td>1.630330e-16</td>\n",
       "      <td>8.011864e-18</td>\n",
       "      <td>-2.544172e-17</td>\n",
       "    </tr>\n",
       "    <tr>\n",
       "      <th>eat</th>\n",
       "      <td>2.041953e-16</td>\n",
       "      <td>1.000000e+00</td>\n",
       "      <td>-2.440161e-16</td>\n",
       "      <td>1.000000e+00</td>\n",
       "      <td>5.670057e-16</td>\n",
       "      <td>1.000000e+00</td>\n",
       "    </tr>\n",
       "    <tr>\n",
       "      <th>rice</th>\n",
       "      <td>-3.597266e-16</td>\n",
       "      <td>1.000000e+00</td>\n",
       "      <td>-3.926756e-16</td>\n",
       "      <td>5.158151e-16</td>\n",
       "      <td>1.000000e+00</td>\n",
       "      <td>1.918621e-16</td>\n",
       "    </tr>\n",
       "    <tr>\n",
       "      <th>cake</th>\n",
       "      <td>-1.770751e-16</td>\n",
       "      <td>1.000000e+00</td>\n",
       "      <td>-9.008718e-17</td>\n",
       "      <td>4.956498e-16</td>\n",
       "      <td>1.000000e+00</td>\n",
       "      <td>1.000000e+00</td>\n",
       "    </tr>\n",
       "    <tr>\n",
       "      <th>hamster</th>\n",
       "      <td>4.614016e-16</td>\n",
       "      <td>5.073249e-16</td>\n",
       "      <td>1.000000e+00</td>\n",
       "      <td>1.579954e-15</td>\n",
       "      <td>2.822774e-16</td>\n",
       "      <td>1.000000e+00</td>\n",
       "    </tr>\n",
       "    <tr>\n",
       "      <th>bread</th>\n",
       "      <td>1.580568e-16</td>\n",
       "      <td>5.896033e-17</td>\n",
       "      <td>-3.734214e-16</td>\n",
       "      <td>1.000000e+00</td>\n",
       "      <td>1.000000e+00</td>\n",
       "      <td>1.000000e+00</td>\n",
       "    </tr>\n",
       "  </tbody>\n",
       "</table>\n",
       "</div>"
      ],
      "text/plain": [
       "                    A             B             C             D             E  \\\n",
       "cute     1.000000e+00 -1.675601e-16 -6.677030e-16 -1.387636e-15 -2.191352e-16   \n",
       "kitty    1.000000e+00 -2.557817e-16  1.000000e+00  1.630330e-16  8.011864e-18   \n",
       "eat      2.041953e-16  1.000000e+00 -2.440161e-16  1.000000e+00  5.670057e-16   \n",
       "rice    -3.597266e-16  1.000000e+00 -3.926756e-16  5.158151e-16  1.000000e+00   \n",
       "cake    -1.770751e-16  1.000000e+00 -9.008718e-17  4.956498e-16  1.000000e+00   \n",
       "hamster  4.614016e-16  5.073249e-16  1.000000e+00  1.579954e-15  2.822774e-16   \n",
       "bread    1.580568e-16  5.896033e-17 -3.734214e-16  1.000000e+00  1.000000e+00   \n",
       "\n",
       "                    F  \n",
       "cute     1.000000e+00  \n",
       "kitty   -2.544172e-17  \n",
       "eat      1.000000e+00  \n",
       "rice     1.918621e-16  \n",
       "cake     1.000000e+00  \n",
       "hamster  1.000000e+00  \n",
       "bread    1.000000e+00  "
      ]
     },
     "execution_count": 313,
     "metadata": {},
     "output_type": "execute_result"
    }
   ],
   "source": [
    "# 원래 \n",
    "pd.DataFrame(U.dot(np.diag(sigma)).dot(Vt),index=voca,columns=docu)"
   ]
  },
  {
   "cell_type": "markdown",
   "metadata": {},
   "source": [
    "# 1. 단어 ~ 단어 Cosine similarity"
   ]
  },
  {
   "cell_type": "code",
   "execution_count": 314,
   "metadata": {},
   "outputs": [
    {
     "data": {
      "text/plain": [
       "(7, 6)"
      ]
     },
     "execution_count": 314,
     "metadata": {},
     "output_type": "execute_result"
    }
   ],
   "source": [
    "_U = U.dot(np.diag(sigma))\n",
    "_U.shape"
   ]
  },
  {
   "cell_type": "code",
   "execution_count": 315,
   "metadata": {
    "scrolled": true
   },
   "outputs": [
    {
     "data": {
      "text/html": [
       "<div>\n",
       "<style scoped>\n",
       "    .dataframe tbody tr th:only-of-type {\n",
       "        vertical-align: middle;\n",
       "    }\n",
       "\n",
       "    .dataframe tbody tr th {\n",
       "        vertical-align: top;\n",
       "    }\n",
       "\n",
       "    .dataframe thead th {\n",
       "        text-align: right;\n",
       "    }\n",
       "</style>\n",
       "<table border=\"1\" class=\"dataframe\">\n",
       "  <thead>\n",
       "    <tr style=\"text-align: right;\">\n",
       "      <th></th>\n",
       "      <th>cute</th>\n",
       "      <th>kitty</th>\n",
       "      <th>eat</th>\n",
       "      <th>rice</th>\n",
       "      <th>cake</th>\n",
       "      <th>hamster</th>\n",
       "      <th>bread</th>\n",
       "    </tr>\n",
       "  </thead>\n",
       "  <tbody>\n",
       "    <tr>\n",
       "      <th>cute</th>\n",
       "      <td>1.000000e+00</td>\n",
       "      <td>5.000000e-01</td>\n",
       "      <td>4.082483e-01</td>\n",
       "      <td>-2.117012e-16</td>\n",
       "      <td>4.082483e-01</td>\n",
       "      <td>5.000000e-01</td>\n",
       "      <td>4.082483e-01</td>\n",
       "    </tr>\n",
       "    <tr>\n",
       "      <th>kitty</th>\n",
       "      <td>5.000000e-01</td>\n",
       "      <td>1.000000e+00</td>\n",
       "      <td>1.716863e-16</td>\n",
       "      <td>-1.688315e-16</td>\n",
       "      <td>9.512810e-17</td>\n",
       "      <td>5.000000e-01</td>\n",
       "      <td>3.719689e-16</td>\n",
       "    </tr>\n",
       "    <tr>\n",
       "      <th>eat</th>\n",
       "      <td>4.082483e-01</td>\n",
       "      <td>1.716863e-16</td>\n",
       "      <td>1.000000e+00</td>\n",
       "      <td>4.082483e-01</td>\n",
       "      <td>6.666667e-01</td>\n",
       "      <td>4.082483e-01</td>\n",
       "      <td>6.666667e-01</td>\n",
       "    </tr>\n",
       "    <tr>\n",
       "      <th>rice</th>\n",
       "      <td>-2.117012e-16</td>\n",
       "      <td>-1.688315e-16</td>\n",
       "      <td>4.082483e-01</td>\n",
       "      <td>1.000000e+00</td>\n",
       "      <td>8.164966e-01</td>\n",
       "      <td>5.325727e-16</td>\n",
       "      <td>4.082483e-01</td>\n",
       "    </tr>\n",
       "    <tr>\n",
       "      <th>cake</th>\n",
       "      <td>4.082483e-01</td>\n",
       "      <td>9.512810e-17</td>\n",
       "      <td>6.666667e-01</td>\n",
       "      <td>8.164966e-01</td>\n",
       "      <td>1.000000e+00</td>\n",
       "      <td>4.082483e-01</td>\n",
       "      <td>6.666667e-01</td>\n",
       "    </tr>\n",
       "    <tr>\n",
       "      <th>hamster</th>\n",
       "      <td>5.000000e-01</td>\n",
       "      <td>5.000000e-01</td>\n",
       "      <td>4.082483e-01</td>\n",
       "      <td>5.325727e-16</td>\n",
       "      <td>4.082483e-01</td>\n",
       "      <td>1.000000e+00</td>\n",
       "      <td>4.082483e-01</td>\n",
       "    </tr>\n",
       "    <tr>\n",
       "      <th>bread</th>\n",
       "      <td>4.082483e-01</td>\n",
       "      <td>3.719689e-16</td>\n",
       "      <td>6.666667e-01</td>\n",
       "      <td>4.082483e-01</td>\n",
       "      <td>6.666667e-01</td>\n",
       "      <td>4.082483e-01</td>\n",
       "      <td>1.000000e+00</td>\n",
       "    </tr>\n",
       "  </tbody>\n",
       "</table>\n",
       "</div>"
      ],
      "text/plain": [
       "                 cute         kitty           eat          rice          cake  \\\n",
       "cute     1.000000e+00  5.000000e-01  4.082483e-01 -2.117012e-16  4.082483e-01   \n",
       "kitty    5.000000e-01  1.000000e+00  1.716863e-16 -1.688315e-16  9.512810e-17   \n",
       "eat      4.082483e-01  1.716863e-16  1.000000e+00  4.082483e-01  6.666667e-01   \n",
       "rice    -2.117012e-16 -1.688315e-16  4.082483e-01  1.000000e+00  8.164966e-01   \n",
       "cake     4.082483e-01  9.512810e-17  6.666667e-01  8.164966e-01  1.000000e+00   \n",
       "hamster  5.000000e-01  5.000000e-01  4.082483e-01  5.325727e-16  4.082483e-01   \n",
       "bread    4.082483e-01  3.719689e-16  6.666667e-01  4.082483e-01  6.666667e-01   \n",
       "\n",
       "              hamster         bread  \n",
       "cute     5.000000e-01  4.082483e-01  \n",
       "kitty    5.000000e-01  3.719689e-16  \n",
       "eat      4.082483e-01  6.666667e-01  \n",
       "rice     5.325727e-16  4.082483e-01  \n",
       "cake     4.082483e-01  6.666667e-01  \n",
       "hamster  1.000000e+00  4.082483e-01  \n",
       "bread    4.082483e-01  1.000000e+00  "
      ]
     },
     "execution_count": 315,
     "metadata": {},
     "output_type": "execute_result"
    }
   ],
   "source": [
    "# 단어간의 \n",
    "# Cosine similarity\n",
    "pd.DataFrame(_U.dot(_U.T) / (np.linalg.norm(_U, axis=1).reshape(7,1) * np.linalg.norm(_U.T, axis=0).reshape(1,7)),index=voca,columns=voca)"
   ]
  },
  {
   "cell_type": "markdown",
   "metadata": {},
   "source": [
    "## 1-1. K 바꾸기"
   ]
  },
  {
   "cell_type": "code",
   "execution_count": 316,
   "metadata": {},
   "outputs": [],
   "source": [
    "# K = 2\n",
    "# 단어 관계 찾기\n",
    "_U = U[:,:2].dot(_sigma)"
   ]
  },
  {
   "cell_type": "code",
   "execution_count": 317,
   "metadata": {},
   "outputs": [
    {
     "data": {
      "text/plain": [
       "(7, 2)"
      ]
     },
     "execution_count": 317,
     "metadata": {},
     "output_type": "execute_result"
    }
   ],
   "source": [
    "_U.shape"
   ]
  },
  {
   "cell_type": "code",
   "execution_count": 318,
   "metadata": {
    "scrolled": true
   },
   "outputs": [
    {
     "data": {
      "text/html": [
       "<div>\n",
       "<style scoped>\n",
       "    .dataframe tbody tr th:only-of-type {\n",
       "        vertical-align: middle;\n",
       "    }\n",
       "\n",
       "    .dataframe tbody tr th {\n",
       "        vertical-align: top;\n",
       "    }\n",
       "\n",
       "    .dataframe thead th {\n",
       "        text-align: right;\n",
       "    }\n",
       "</style>\n",
       "<table border=\"1\" class=\"dataframe\">\n",
       "  <thead>\n",
       "    <tr style=\"text-align: right;\">\n",
       "      <th></th>\n",
       "      <th>cute</th>\n",
       "      <th>kitty</th>\n",
       "      <th>eat</th>\n",
       "      <th>rice</th>\n",
       "      <th>cake</th>\n",
       "      <th>hamster</th>\n",
       "      <th>bread</th>\n",
       "    </tr>\n",
       "  </thead>\n",
       "  <tbody>\n",
       "    <tr>\n",
       "      <th>cute</th>\n",
       "      <td>1.000000</td>\n",
       "      <td>0.855755</td>\n",
       "      <td>0.610805</td>\n",
       "      <td>0.066189</td>\n",
       "      <td>0.469814</td>\n",
       "      <td>1.000000</td>\n",
       "      <td>0.610805</td>\n",
       "    </tr>\n",
       "    <tr>\n",
       "      <th>kitty</th>\n",
       "      <td>0.855755</td>\n",
       "      <td>1.000000</td>\n",
       "      <td>0.113046</td>\n",
       "      <td>-0.459606</td>\n",
       "      <td>-0.054681</td>\n",
       "      <td>0.855755</td>\n",
       "      <td>0.113046</td>\n",
       "    </tr>\n",
       "    <tr>\n",
       "      <th>eat</th>\n",
       "      <td>0.610805</td>\n",
       "      <td>0.113046</td>\n",
       "      <td>1.000000</td>\n",
       "      <td>0.830473</td>\n",
       "      <td>0.985922</td>\n",
       "      <td>0.610805</td>\n",
       "      <td>1.000000</td>\n",
       "    </tr>\n",
       "    <tr>\n",
       "      <th>rice</th>\n",
       "      <td>0.066189</td>\n",
       "      <td>-0.459606</td>\n",
       "      <td>0.830473</td>\n",
       "      <td>1.000000</td>\n",
       "      <td>0.911926</td>\n",
       "      <td>0.066189</td>\n",
       "      <td>0.830473</td>\n",
       "    </tr>\n",
       "    <tr>\n",
       "      <th>cake</th>\n",
       "      <td>0.469814</td>\n",
       "      <td>-0.054681</td>\n",
       "      <td>0.985922</td>\n",
       "      <td>0.911926</td>\n",
       "      <td>1.000000</td>\n",
       "      <td>0.469814</td>\n",
       "      <td>0.985922</td>\n",
       "    </tr>\n",
       "    <tr>\n",
       "      <th>hamster</th>\n",
       "      <td>1.000000</td>\n",
       "      <td>0.855755</td>\n",
       "      <td>0.610805</td>\n",
       "      <td>0.066189</td>\n",
       "      <td>0.469814</td>\n",
       "      <td>1.000000</td>\n",
       "      <td>0.610805</td>\n",
       "    </tr>\n",
       "    <tr>\n",
       "      <th>bread</th>\n",
       "      <td>0.610805</td>\n",
       "      <td>0.113046</td>\n",
       "      <td>1.000000</td>\n",
       "      <td>0.830473</td>\n",
       "      <td>0.985922</td>\n",
       "      <td>0.610805</td>\n",
       "      <td>1.000000</td>\n",
       "    </tr>\n",
       "  </tbody>\n",
       "</table>\n",
       "</div>"
      ],
      "text/plain": [
       "             cute     kitty       eat      rice      cake   hamster     bread\n",
       "cute     1.000000  0.855755  0.610805  0.066189  0.469814  1.000000  0.610805\n",
       "kitty    0.855755  1.000000  0.113046 -0.459606 -0.054681  0.855755  0.113046\n",
       "eat      0.610805  0.113046  1.000000  0.830473  0.985922  0.610805  1.000000\n",
       "rice     0.066189 -0.459606  0.830473  1.000000  0.911926  0.066189  0.830473\n",
       "cake     0.469814 -0.054681  0.985922  0.911926  1.000000  0.469814  0.985922\n",
       "hamster  1.000000  0.855755  0.610805  0.066189  0.469814  1.000000  0.610805\n",
       "bread    0.610805  0.113046  1.000000  0.830473  0.985922  0.610805  1.000000"
      ]
     },
     "execution_count": 318,
     "metadata": {},
     "output_type": "execute_result"
    }
   ],
   "source": [
    "pd.DataFrame(_U.dot(_U.T) / (np.linalg.norm(_U, axis=1).reshape(7,1) * np.linalg.norm(_U.T, axis=0).reshape(1,7)),index=voca,columns=voca)"
   ]
  },
  {
   "cell_type": "markdown",
   "metadata": {},
   "source": [
    "# 2. 문서 ~ 문서 Cosine similarity"
   ]
  },
  {
   "cell_type": "code",
   "execution_count": 264,
   "metadata": {},
   "outputs": [],
   "source": [
    "_U = np.diag(sigma).dot(Vt)"
   ]
  },
  {
   "cell_type": "code",
   "execution_count": 265,
   "metadata": {},
   "outputs": [
    {
     "data": {
      "text/plain": [
       "(6, 6)"
      ]
     },
     "execution_count": 265,
     "metadata": {},
     "output_type": "execute_result"
    }
   ],
   "source": [
    "# 열이 문서차원 \n",
    "_U.shape"
   ]
  },
  {
   "cell_type": "code",
   "execution_count": 300,
   "metadata": {
    "scrolled": false
   },
   "outputs": [
    {
     "data": {
      "text/html": [
       "<div>\n",
       "<style scoped>\n",
       "    .dataframe tbody tr th:only-of-type {\n",
       "        vertical-align: middle;\n",
       "    }\n",
       "\n",
       "    .dataframe tbody tr th {\n",
       "        vertical-align: top;\n",
       "    }\n",
       "\n",
       "    .dataframe thead th {\n",
       "        text-align: right;\n",
       "    }\n",
       "</style>\n",
       "<table border=\"1\" class=\"dataframe\">\n",
       "  <thead>\n",
       "    <tr style=\"text-align: right;\">\n",
       "      <th></th>\n",
       "      <th>A</th>\n",
       "      <th>B</th>\n",
       "      <th>C</th>\n",
       "      <th>D</th>\n",
       "      <th>E</th>\n",
       "      <th>F</th>\n",
       "    </tr>\n",
       "  </thead>\n",
       "  <tbody>\n",
       "    <tr>\n",
       "      <th>A</th>\n",
       "      <td>1.000000</td>\n",
       "      <td>-0.155954</td>\n",
       "      <td>1.000000</td>\n",
       "      <td>0.172833</td>\n",
       "      <td>-0.155954</td>\n",
       "      <td>0.552114</td>\n",
       "    </tr>\n",
       "    <tr>\n",
       "      <th>B</th>\n",
       "      <td>-0.155954</td>\n",
       "      <td>1.000000</td>\n",
       "      <td>-0.155954</td>\n",
       "      <td>0.945945</td>\n",
       "      <td>1.000000</td>\n",
       "      <td>0.737462</td>\n",
       "    </tr>\n",
       "    <tr>\n",
       "      <th>C</th>\n",
       "      <td>1.000000</td>\n",
       "      <td>-0.155954</td>\n",
       "      <td>1.000000</td>\n",
       "      <td>0.172833</td>\n",
       "      <td>-0.155954</td>\n",
       "      <td>0.552114</td>\n",
       "    </tr>\n",
       "    <tr>\n",
       "      <th>D</th>\n",
       "      <td>0.172833</td>\n",
       "      <td>0.945945</td>\n",
       "      <td>0.172833</td>\n",
       "      <td>1.000000</td>\n",
       "      <td>0.945945</td>\n",
       "      <td>0.916645</td>\n",
       "    </tr>\n",
       "    <tr>\n",
       "      <th>E</th>\n",
       "      <td>-0.155954</td>\n",
       "      <td>1.000000</td>\n",
       "      <td>-0.155954</td>\n",
       "      <td>0.945945</td>\n",
       "      <td>1.000000</td>\n",
       "      <td>0.737462</td>\n",
       "    </tr>\n",
       "    <tr>\n",
       "      <th>F</th>\n",
       "      <td>0.552114</td>\n",
       "      <td>0.737462</td>\n",
       "      <td>0.552114</td>\n",
       "      <td>0.916645</td>\n",
       "      <td>0.737462</td>\n",
       "      <td>1.000000</td>\n",
       "    </tr>\n",
       "  </tbody>\n",
       "</table>\n",
       "</div>"
      ],
      "text/plain": [
       "          A         B         C         D         E         F\n",
       "A  1.000000 -0.155954  1.000000  0.172833 -0.155954  0.552114\n",
       "B -0.155954  1.000000 -0.155954  0.945945  1.000000  0.737462\n",
       "C  1.000000 -0.155954  1.000000  0.172833 -0.155954  0.552114\n",
       "D  0.172833  0.945945  0.172833  1.000000  0.945945  0.916645\n",
       "E -0.155954  1.000000 -0.155954  0.945945  1.000000  0.737462\n",
       "F  0.552114  0.737462  0.552114  0.916645  0.737462  1.000000"
      ]
     },
     "execution_count": 300,
     "metadata": {},
     "output_type": "execute_result"
    }
   ],
   "source": [
    "# 문서에 대해서 \n",
    "pd.DataFrame(_U.T.dot(_U) / (np.linalg.norm(_U.T, axis=1).reshape(6,1) * np.linalg.norm(_U, axis=0).reshape(1,6)),index=docu,columns=docu)"
   ]
  },
  {
   "cell_type": "markdown",
   "metadata": {},
   "source": [
    "## 2-2. K 바꾸기"
   ]
  },
  {
   "cell_type": "code",
   "execution_count": 298,
   "metadata": {},
   "outputs": [
    {
     "data": {
      "text/plain": [
       "(2, 6)"
      ]
     },
     "execution_count": 298,
     "metadata": {},
     "output_type": "execute_result"
    }
   ],
   "source": [
    "# K = 2 바꾸기\n",
    "_U = _sigma.dot(Vt[:2,:])\n",
    "_U.shape"
   ]
  },
  {
   "cell_type": "code",
   "execution_count": 299,
   "metadata": {
    "scrolled": true
   },
   "outputs": [
    {
     "data": {
      "text/html": [
       "<div>\n",
       "<style scoped>\n",
       "    .dataframe tbody tr th:only-of-type {\n",
       "        vertical-align: middle;\n",
       "    }\n",
       "\n",
       "    .dataframe tbody tr th {\n",
       "        vertical-align: top;\n",
       "    }\n",
       "\n",
       "    .dataframe thead th {\n",
       "        text-align: right;\n",
       "    }\n",
       "</style>\n",
       "<table border=\"1\" class=\"dataframe\">\n",
       "  <thead>\n",
       "    <tr style=\"text-align: right;\">\n",
       "      <th></th>\n",
       "      <th>A</th>\n",
       "      <th>B</th>\n",
       "      <th>C</th>\n",
       "      <th>D</th>\n",
       "      <th>E</th>\n",
       "      <th>F</th>\n",
       "    </tr>\n",
       "  </thead>\n",
       "  <tbody>\n",
       "    <tr>\n",
       "      <th>A</th>\n",
       "      <td>1.000000</td>\n",
       "      <td>-0.155954</td>\n",
       "      <td>1.000000</td>\n",
       "      <td>0.172833</td>\n",
       "      <td>-0.155954</td>\n",
       "      <td>0.552114</td>\n",
       "    </tr>\n",
       "    <tr>\n",
       "      <th>B</th>\n",
       "      <td>-0.155954</td>\n",
       "      <td>1.000000</td>\n",
       "      <td>-0.155954</td>\n",
       "      <td>0.945945</td>\n",
       "      <td>1.000000</td>\n",
       "      <td>0.737462</td>\n",
       "    </tr>\n",
       "    <tr>\n",
       "      <th>C</th>\n",
       "      <td>1.000000</td>\n",
       "      <td>-0.155954</td>\n",
       "      <td>1.000000</td>\n",
       "      <td>0.172833</td>\n",
       "      <td>-0.155954</td>\n",
       "      <td>0.552114</td>\n",
       "    </tr>\n",
       "    <tr>\n",
       "      <th>D</th>\n",
       "      <td>0.172833</td>\n",
       "      <td>0.945945</td>\n",
       "      <td>0.172833</td>\n",
       "      <td>1.000000</td>\n",
       "      <td>0.945945</td>\n",
       "      <td>0.916645</td>\n",
       "    </tr>\n",
       "    <tr>\n",
       "      <th>E</th>\n",
       "      <td>-0.155954</td>\n",
       "      <td>1.000000</td>\n",
       "      <td>-0.155954</td>\n",
       "      <td>0.945945</td>\n",
       "      <td>1.000000</td>\n",
       "      <td>0.737462</td>\n",
       "    </tr>\n",
       "    <tr>\n",
       "      <th>F</th>\n",
       "      <td>0.552114</td>\n",
       "      <td>0.737462</td>\n",
       "      <td>0.552114</td>\n",
       "      <td>0.916645</td>\n",
       "      <td>0.737462</td>\n",
       "      <td>1.000000</td>\n",
       "    </tr>\n",
       "  </tbody>\n",
       "</table>\n",
       "</div>"
      ],
      "text/plain": [
       "          A         B         C         D         E         F\n",
       "A  1.000000 -0.155954  1.000000  0.172833 -0.155954  0.552114\n",
       "B -0.155954  1.000000 -0.155954  0.945945  1.000000  0.737462\n",
       "C  1.000000 -0.155954  1.000000  0.172833 -0.155954  0.552114\n",
       "D  0.172833  0.945945  0.172833  1.000000  0.945945  0.916645\n",
       "E -0.155954  1.000000 -0.155954  0.945945  1.000000  0.737462\n",
       "F  0.552114  0.737462  0.552114  0.916645  0.737462  1.000000"
      ]
     },
     "execution_count": 299,
     "metadata": {},
     "output_type": "execute_result"
    }
   ],
   "source": [
    "# 1,3 / 3,5문서가 가까움 \n",
    "# 차원을 줄이면서 정보를 버리게 되면서 관계를 찾아내게 됨.\n",
    "pd.DataFrame(_U.T.dot(_U) / (np.linalg.norm(_U.T, axis=1).reshape(6,1) * np.linalg.norm(_U, axis=0).reshape(1,6)),index=docu,columns=docu)"
   ]
  },
  {
   "cell_type": "markdown",
   "metadata": {},
   "source": [
    "# 문서내의 단어간의 유사도"
   ]
  },
  {
   "cell_type": "code",
   "execution_count": 285,
   "metadata": {},
   "outputs": [],
   "source": [
    "# K = 2\n",
    "_sigma = np.diag(sigma[:2])\n",
    "_U = U[:,:2].dot(_sigma)"
   ]
  },
  {
   "cell_type": "code",
   "execution_count": 286,
   "metadata": {
    "scrolled": true
   },
   "outputs": [
    {
     "data": {
      "text/html": [
       "<div>\n",
       "<style scoped>\n",
       "    .dataframe tbody tr th:only-of-type {\n",
       "        vertical-align: middle;\n",
       "    }\n",
       "\n",
       "    .dataframe tbody tr th {\n",
       "        vertical-align: top;\n",
       "    }\n",
       "\n",
       "    .dataframe thead th {\n",
       "        text-align: right;\n",
       "    }\n",
       "</style>\n",
       "<table border=\"1\" class=\"dataframe\">\n",
       "  <thead>\n",
       "    <tr style=\"text-align: right;\">\n",
       "      <th></th>\n",
       "      <th>0</th>\n",
       "      <th>1</th>\n",
       "    </tr>\n",
       "  </thead>\n",
       "  <tbody>\n",
       "    <tr>\n",
       "      <th>cute</th>\n",
       "      <td>-0.805857</td>\n",
       "      <td>0.869863</td>\n",
       "    </tr>\n",
       "    <tr>\n",
       "      <th>kitty</th>\n",
       "      <td>-0.234822</td>\n",
       "      <td>1.138337</td>\n",
       "    </tr>\n",
       "    <tr>\n",
       "      <th>eat</th>\n",
       "      <td>-1.459347</td>\n",
       "      <td>-0.131908</td>\n",
       "    </tr>\n",
       "    <tr>\n",
       "      <th>rice</th>\n",
       "      <td>-0.883220</td>\n",
       "      <td>-0.715663</td>\n",
       "    </tr>\n",
       "    <tr>\n",
       "      <th>cake</th>\n",
       "      <td>-1.571666</td>\n",
       "      <td>-0.414968</td>\n",
       "    </tr>\n",
       "    <tr>\n",
       "      <th>hamster</th>\n",
       "      <td>-0.805857</td>\n",
       "      <td>0.869863</td>\n",
       "    </tr>\n",
       "    <tr>\n",
       "      <th>bread</th>\n",
       "      <td>-1.459347</td>\n",
       "      <td>-0.131908</td>\n",
       "    </tr>\n",
       "  </tbody>\n",
       "</table>\n",
       "</div>"
      ],
      "text/plain": [
       "                0         1\n",
       "cute    -0.805857  0.869863\n",
       "kitty   -0.234822  1.138337\n",
       "eat     -1.459347 -0.131908\n",
       "rice    -0.883220 -0.715663\n",
       "cake    -1.571666 -0.414968\n",
       "hamster -0.805857  0.869863\n",
       "bread   -1.459347 -0.131908"
      ]
     },
     "execution_count": 286,
     "metadata": {},
     "output_type": "execute_result"
    }
   ],
   "source": [
    "cluster = pd.DataFrame(_U,index=voca)\n",
    "cluster"
   ]
  },
  {
   "cell_type": "markdown",
   "metadata": {},
   "source": [
    "통상적으로는 첫 번째 컬럼이 변별력이 없기 때문에 버린다"
   ]
  },
  {
   "cell_type": "code",
   "execution_count": 287,
   "metadata": {},
   "outputs": [
    {
     "data": {
      "text/plain": [
       "{'kitty': 1.1383368215998813,\n",
       " 'hamster': 0.8698632014931696,\n",
       " 'cute': 0.8698632014931686}"
      ]
     },
     "execution_count": 287,
     "metadata": {},
     "output_type": "execute_result"
    }
   ],
   "source": [
    "temp = cluster.sort_values(by=[1],ascending=False)\n",
    "temp[temp[1] > 0 ][1].to_dict()"
   ]
  },
  {
   "cell_type": "code",
   "execution_count": 319,
   "metadata": {},
   "outputs": [
    {
     "data": {
      "text/plain": [
       "{'eat': -0.13190770045543182,\n",
       " 'bread': -0.13190770045543182,\n",
       " 'cake': -0.41496792414637645,\n",
       " 'rice': -0.7156627148396051}"
      ]
     },
     "execution_count": 319,
     "metadata": {},
     "output_type": "execute_result"
    }
   ],
   "source": [
    "# 다 -라 값이 나오지 않음 \n",
    "temp = cluster.sort_values(by=[1],ascending=False)\n",
    "temp[temp[1] < 0][1].to_dict()"
   ]
  },
  {
   "cell_type": "markdown",
   "metadata": {},
   "source": [
    "클러스터의 갯수가 더 많으면 음수로 분류할 수는 없다!"
   ]
  }
 ],
 "metadata": {
  "kernelspec": {
   "display_name": "Python 3",
   "language": "python",
   "name": "python3"
  },
  "language_info": {
   "codemirror_mode": {
    "name": "ipython",
    "version": 3
   },
   "file_extension": ".py",
   "mimetype": "text/x-python",
   "name": "python",
   "nbconvert_exporter": "python",
   "pygments_lexer": "ipython3",
   "version": "3.7.2"
  }
 },
 "nbformat": 4,
 "nbformat_minor": 2
}
