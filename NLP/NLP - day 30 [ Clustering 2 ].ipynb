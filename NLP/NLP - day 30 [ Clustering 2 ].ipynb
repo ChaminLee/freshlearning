{
 "cells": [
  {
   "cell_type": "markdown",
   "metadata": {},
   "source": [
    "# Clustering 2\n",
    "\n",
    "## 문서에 적용하기"
   ]
  },
  {
   "cell_type": "code",
   "execution_count": 582,
   "metadata": {},
   "outputs": [],
   "source": [
    "documents = [\n",
    "    \"This little kitty came to play when I was eating at a restaurant.\",\n",
    "    \"Merley has the best squooshy kitten belly.\",\n",
    "    \"Google Translate app is incredivle.\",\n",
    "    \"If you open 100 tab in google you get a smiley face.\",\n",
    "    \"Best cat photo I've ever taken.\",\n",
    "    \"Climbing ninja cat.\",\n",
    "    \"Impressed with google map feedback.\",\n",
    "    \"Key promoter extension for Google Chrome.\"\n",
    "]"
   ]
  },
  {
   "cell_type": "code",
   "execution_count": 583,
   "metadata": {},
   "outputs": [],
   "source": [
    "# 다차원에 이용하기 위해서 변경\n",
    "def euclidean(x,y):\n",
    "    _sum = 0.0\n",
    "    for i in range(len(x)):\n",
    "        _sum += (x[i]-y[i]) ** 2  \n",
    "    return sqrt(_sum)"
   ]
  },
  {
   "cell_type": "code",
   "execution_count": 584,
   "metadata": {},
   "outputs": [],
   "source": [
    "def cosine(x,y):\n",
    "    _sum = 0.0\n",
    "    xLength =0.0\n",
    "    yLength = 0.0\n",
    "    \n",
    "    for i in range(len(x)):\n",
    "        _sum += x[i]*y[i]\n",
    "        \n",
    "    return _sum / (euclidean(x,[0 for _ in range(len(x))]) * euclidean(y,[0 for _ in range(len(x))]))"
   ]
  },
  {
   "cell_type": "markdown",
   "metadata": {},
   "source": [
    "## 전처리"
   ]
  },
  {
   "cell_type": "code",
   "execution_count": 585,
   "metadata": {},
   "outputs": [],
   "source": [
    "from nltk.tokenize import word_tokenize\n",
    "from nltk.corpus import stopwords\n",
    "from string import punctuation\n",
    "import re\n",
    "from collections import defaultdict"
   ]
  },
  {
   "cell_type": "code",
   "execution_count": 586,
   "metadata": {},
   "outputs": [],
   "source": [
    "# DTM 만들기\n",
    "# key : doc / val (Term:Freq)\n",
    "DTM = defaultdict(lambda: defaultdict(int))\n",
    "# key : Term / val (Doc:Freq)\n",
    "TDM = defaultdict(lambda: defaultdict(int))\n",
    "# key : Term / val (Doc:Weight)\n",
    "TWM = defaultdict(lambda: defaultdict(float))\n",
    "\n",
    "stopList = stopwords.words('english')"
   ]
  },
  {
   "cell_type": "code",
   "execution_count": 587,
   "metadata": {},
   "outputs": [],
   "source": [
    "# i번째 doucument 내용 d\n",
    "for i,d in enumerate(documents):\n",
    "    for t in word_tokenize(d.lower()):  # 소문자로 변환된 구두점도 잘린 어절 리스트 \n",
    "        if t not in stopList and not re.match(r\"[{0}]\".format(re.escape(punctuation)), t):\n",
    "            DTM[i][t] += 1\n",
    "            \n",
    "for d, termList in DTM.items():\n",
    "    for t,f in termList.items():\n",
    "        TDM[t][d] = f\n",
    "        \n",
    "N = len(DTM)\n",
    "V = len(TDM)\n",
    "\n",
    "# TF-IDF\n",
    "# TF : f / maxF\n",
    "# IDF : N / df ( docList의 갯수)\n",
    "from math import log\n",
    "\n",
    "for t, docList in TDM.items():\n",
    "    df = len(docList)\n",
    "    for d,f in docList.items():\n",
    "        maxtf = max(DTM[d].values())\n",
    "        TWM[t][d] = (f/maxtf) * (log(N/df))"
   ]
  },
  {
   "cell_type": "code",
   "execution_count": 588,
   "metadata": {
    "scrolled": true
   },
   "outputs": [
    {
     "data": {
      "text/plain": [
       "defaultdict(<function __main__.<lambda>()>,\n",
       "            {'little': defaultdict(float, {0: 2.0794415416798357}),\n",
       "             'kitty': defaultdict(float, {0: 2.0794415416798357}),\n",
       "             'came': defaultdict(float, {0: 2.0794415416798357}),\n",
       "             'play': defaultdict(float, {0: 2.0794415416798357}),\n",
       "             'eating': defaultdict(float, {0: 2.0794415416798357}),\n",
       "             'restaurant': defaultdict(float, {0: 2.0794415416798357}),\n",
       "             'merley': defaultdict(float, {1: 2.0794415416798357}),\n",
       "             'best': defaultdict(float,\n",
       "                         {1: 1.3862943611198906, 4: 1.3862943611198906}),\n",
       "             'squooshy': defaultdict(float, {1: 2.0794415416798357}),\n",
       "             'kitten': defaultdict(float, {1: 2.0794415416798357}),\n",
       "             'belly': defaultdict(float, {1: 2.0794415416798357}),\n",
       "             'google': defaultdict(float,\n",
       "                         {2: 0.6931471805599453,\n",
       "                          3: 0.6931471805599453,\n",
       "                          6: 0.6931471805599453,\n",
       "                          7: 0.6931471805599453}),\n",
       "             'translate': defaultdict(float, {2: 2.0794415416798357}),\n",
       "             'app': defaultdict(float, {2: 2.0794415416798357}),\n",
       "             'incredivle': defaultdict(float, {2: 2.0794415416798357}),\n",
       "             'open': defaultdict(float, {3: 2.0794415416798357}),\n",
       "             '100': defaultdict(float, {3: 2.0794415416798357}),\n",
       "             'tab': defaultdict(float, {3: 2.0794415416798357}),\n",
       "             'get': defaultdict(float, {3: 2.0794415416798357}),\n",
       "             'smiley': defaultdict(float, {3: 2.0794415416798357}),\n",
       "             'face': defaultdict(float, {3: 2.0794415416798357}),\n",
       "             'cat': defaultdict(float,\n",
       "                         {4: 1.3862943611198906, 5: 1.3862943611198906}),\n",
       "             'photo': defaultdict(float, {4: 2.0794415416798357}),\n",
       "             'ever': defaultdict(float, {4: 2.0794415416798357}),\n",
       "             'taken': defaultdict(float, {4: 2.0794415416798357}),\n",
       "             'climbing': defaultdict(float, {5: 2.0794415416798357}),\n",
       "             'ninja': defaultdict(float, {5: 2.0794415416798357}),\n",
       "             'impressed': defaultdict(float, {6: 2.0794415416798357}),\n",
       "             'map': defaultdict(float, {6: 2.0794415416798357}),\n",
       "             'feedback': defaultdict(float, {6: 2.0794415416798357}),\n",
       "             'key': defaultdict(float, {7: 2.0794415416798357}),\n",
       "             'promoter': defaultdict(float, {7: 2.0794415416798357}),\n",
       "             'extension': defaultdict(float, {7: 2.0794415416798357}),\n",
       "             'chrome': defaultdict(float, {7: 2.0794415416798357})})"
      ]
     },
     "execution_count": 588,
     "metadata": {},
     "output_type": "execute_result"
    }
   ],
   "source": [
    "TWM"
   ]
  },
  {
   "cell_type": "code",
   "execution_count": 589,
   "metadata": {},
   "outputs": [],
   "source": [
    "K = 2 "
   ]
  },
  {
   "cell_type": "code",
   "execution_count": 590,
   "metadata": {},
   "outputs": [],
   "source": [
    "# Vectorize \n",
    "# doc = [(0)*V] * N   # 특정 인덱스에만 값을 채워넣을 것.\n",
    "# d1 = (0,0)\n",
    "\n",
    "docVector = list(list(0.0 for _ in range(V)) for _ in range(N))"
   ]
  },
  {
   "cell_type": "code",
   "execution_count": 591,
   "metadata": {
    "scrolled": true
   },
   "outputs": [
    {
     "data": {
      "text/plain": [
       "(8, 34)"
      ]
     },
     "execution_count": 591,
     "metadata": {},
     "output_type": "execute_result"
    }
   ],
   "source": [
    "len(docVector), len(docVector[0])"
   ]
  },
  {
   "cell_type": "code",
   "execution_count": 592,
   "metadata": {},
   "outputs": [],
   "source": [
    "# TWM에서 문서개수만큼 돌기\n",
    "# 행 : 문서 Idx\n",
    "# 열 : 단어 idx\n",
    "\n",
    "for i in range(N):\n",
    "    for j,t in enumerate(TDM.keys()):\n",
    "        docVector[i][j] = TWM[t][i]"
   ]
  },
  {
   "cell_type": "code",
   "execution_count": 593,
   "metadata": {},
   "outputs": [
    {
     "data": {
      "text/plain": [
       "34"
      ]
     },
     "execution_count": 593,
     "metadata": {},
     "output_type": "execute_result"
    }
   ],
   "source": [
    "len(docVector[0])"
   ]
  },
  {
   "cell_type": "code",
   "execution_count": 594,
   "metadata": {},
   "outputs": [],
   "source": [
    "from random import sample\n",
    "from random import randrange\n",
    "cluster = sample(docVector,K)\n",
    "# 단어가 없을 경우를 대비해서 뭐라도 하나 있게 만들어줌\n",
    "# cluster = list()\n",
    "\n",
    "# for i in range(K):\n",
    "#     cluster.append(list(randrange(1,3) for _ in range(V)))"
   ]
  },
  {
   "cell_type": "code",
   "execution_count": 595,
   "metadata": {},
   "outputs": [
    {
     "data": {
      "text/plain": [
       "(2, 34)"
      ]
     },
     "execution_count": 595,
     "metadata": {},
     "output_type": "execute_result"
    }
   ],
   "source": [
    "K = 2 \n",
    "# 2개의 cluster에 대한 centroid\n",
    "len(cluster), len(cluster[0])"
   ]
  },
  {
   "cell_type": "code",
   "execution_count": 596,
   "metadata": {},
   "outputs": [],
   "source": [
    "from math import sqrt\n",
    "\n",
    "def expectation(data, clusters,k,cos=True):\n",
    "    distance = list()\n",
    "    metric = cosine if cos else euclidean\n",
    "    rvalue = max if cos else min\n",
    "    \n",
    "    for i in range(k):\n",
    "#         print(len(data)), print(len(clusters[i]))\n",
    "        distance.append(metric(data,clusters[i]))\n",
    "        \n",
    "    return distance.index(rvalue(distance))  # cosine이어서 Min이 아니라 Max / euclidean : min\n",
    "\n",
    "\n"
   ]
  },
  {
   "cell_type": "code",
   "execution_count": 597,
   "metadata": {},
   "outputs": [],
   "source": [
    "def maximization(data):\n",
    "    N = len(data)\n",
    "    _sum = list(0 for _ in range(len(data[0])))\n",
    "    \n",
    "    for _ in data:\n",
    "        for i in range(len(_)):\n",
    "            _sum[i] += _[i]\n",
    "        \n",
    "    return tuple(_/N for _ in _sum)  # x,y 좌표를 평균낸 것 "
   ]
  },
  {
   "cell_type": "code",
   "execution_count": 598,
   "metadata": {},
   "outputs": [],
   "source": [
    "def sse(data,centroid):   # sum squared error\n",
    "    _sum = 0.0\n",
    "    \n",
    "    for _ in data:\n",
    "        _sum += euclidean(_,centroid)\n",
    "        \n",
    "    return _sum "
   ]
  },
  {
   "cell_type": "code",
   "execution_count": 599,
   "metadata": {},
   "outputs": [],
   "source": [
    "sseList = list()\n",
    "\n",
    "for _ in range(10):\n",
    "    rnk = list(list(0 for _ in range(K)) for _ in range(N))\n",
    "    \n",
    "    for i,d in enumerate(docVector):\n",
    "        c = expectation(d,cluster,K,False)\n",
    "        rnk[i][c] = 1\n",
    "        \n",
    "    _sum = 0.0\n",
    "    \n",
    "    for j ,c in enumerate(cluster):\n",
    "        dataset = [docVector[i] for i in range(N) if rnk[i][j]]\n",
    "        _sum += sse(dataset,c)        \n",
    "        cluster[j] = maximization(dataset)\n",
    "  \n",
    "    sseList.append(_sum)"
   ]
  },
  {
   "cell_type": "code",
   "execution_count": 600,
   "metadata": {},
   "outputs": [
    {
     "data": {
      "text/plain": [
       "[[0, 1], [0, 1], [1, 0], [1, 0], [0, 1], [0, 1], [1, 0], [1, 0]]"
      ]
     },
     "execution_count": 600,
     "metadata": {},
     "output_type": "execute_result"
    }
   ],
   "source": [
    "rnk"
   ]
  },
  {
   "cell_type": "code",
   "execution_count": 601,
   "metadata": {},
   "outputs": [
    {
     "data": {
      "image/png": "[encoded data removed]",
      "text/plain": [
       "<Figure size 432x288 with 1 Axes>"
      ]
     },
     "metadata": {
      "needs_background": "light"
     },
     "output_type": "display_data"
    }
   ],
   "source": [
    "import matplotlib.pyplot as plt\n",
    "\n",
    "plt.plot(range(1,11),sseList,'r-')\n",
    "plt.show()"
   ]
  },
  {
   "cell_type": "code",
   "execution_count": 602,
   "metadata": {},
   "outputs": [],
   "source": [
    "clusterDataset = list()\n",
    "for j ,c in enumerate(cluster):\n",
    "    dataset = [i for i in range(N) if rnk[i][j]]\n",
    "    clusterDataset.append(dataset)"
   ]
  },
  {
   "cell_type": "code",
   "execution_count": 603,
   "metadata": {},
   "outputs": [
    {
     "data": {
      "text/plain": [
       "(2, [2, 3, 6, 7])"
      ]
     },
     "execution_count": 603,
     "metadata": {},
     "output_type": "execute_result"
    }
   ],
   "source": [
    "len(clusterDataset), clusterDataset[0]"
   ]
  },
  {
   "cell_type": "code",
   "execution_count": 604,
   "metadata": {},
   "outputs": [],
   "source": [
    "voca = list(TWM.keys())"
   ]
  },
  {
   "cell_type": "code",
   "execution_count": 605,
   "metadata": {},
   "outputs": [
    {
     "data": {
      "text/plain": [
       "'little'"
      ]
     },
     "execution_count": 605,
     "metadata": {},
     "output_type": "execute_result"
    }
   ],
   "source": [
    "list(voca)[0]"
   ]
  },
  {
   "cell_type": "code",
   "execution_count": 606,
   "metadata": {},
   "outputs": [],
   "source": [
    "topic = list()\n",
    "for c in cluster:\n",
    "    wordList = defaultdict(float)\n",
    "    for i ,w in enumerate(c):\n",
    "        wordList[voca[i]] = w\n",
    "    topic.append(dict(sorted(wordList.items(), key=lambda x:x[1], reverse=True )[:5]))"
   ]
  },
  {
   "cell_type": "code",
   "execution_count": 607,
   "metadata": {},
   "outputs": [
    {
     "data": {
      "text/plain": [
       "[{'google': 0.6931471805599453,\n",
       "  'translate': 0.5198603854199589,\n",
       "  'app': 0.5198603854199589,\n",
       "  'incredivle': 0.5198603854199589,\n",
       "  'open': 0.5198603854199589},\n",
       " {'best': 0.6931471805599453,\n",
       "  'cat': 0.6931471805599453,\n",
       "  'little': 0.5198603854199589,\n",
       "  'kitty': 0.5198603854199589,\n",
       "  'came': 0.5198603854199589}]"
      ]
     },
     "execution_count": 607,
     "metadata": {},
     "output_type": "execute_result"
    }
   ],
   "source": [
    "topic"
   ]
  },
  {
   "cell_type": "code",
   "execution_count": 608,
   "metadata": {},
   "outputs": [
    {
     "data": {
      "image/png": "[encoded data removed]",
      "text/plain": [
       "<PIL.Image.Image image mode=RGB size=400x200 at 0x1193F9278>"
      ]
     },
     "execution_count": 608,
     "metadata": {},
     "output_type": "execute_result"
    }
   ],
   "source": [
    "from wordcloud import WordCloud\n",
    "\n",
    "fontPath = \"/Library/Fonts/AppleGothic.ttf\"\n",
    "wc = WordCloud(font_path=fontPath,background_color='white')\n",
    "wc.generate_from_frequencies(topic[0])  # dict 형태여야함 \n",
    "wc.to_image() "
   ]
  },
  {
   "cell_type": "markdown",
   "metadata": {},
   "source": [
    "# 뉴스데이터에 적용하기 "
   ]
  },
  {
   "cell_type": "code",
   "execution_count": 1450,
   "metadata": {},
   "outputs": [],
   "source": [
    "import os \n",
    "corpus = list()\n",
    "for file in os.listdir('./News'):\n",
    "    if file.startswith('세계'):\n",
    "        with open('./News/'+file,encoding='utf-8') as f:\n",
    "            corpus.append(f.read())"
   ]
  },
  {
   "cell_type": "code",
   "execution_count": 1451,
   "metadata": {
    "scrolled": true
   },
   "outputs": [],
   "source": [
    "corpus2 = list()\n",
    "pattern = re.compile(r'[%s]' % re.escape(punctuation))\n",
    "\n",
    "for i in range(len(corpus)):\n",
    "    corpus[i] = pattern.sub('',corpus[i])\n",
    "    corpus2.append(corpus[i])"
   ]
  },
  {
   "cell_type": "code",
   "execution_count": 1452,
   "metadata": {},
   "outputs": [],
   "source": [
    "from konlpy.tag import Kkma"
   ]
  },
  {
   "cell_type": "code",
   "execution_count": 1453,
   "metadata": {},
   "outputs": [],
   "source": [
    "# DTM 만들기\n",
    "# key : doc / val (Term:Freq)\n",
    "DTM = defaultdict(lambda: defaultdict(int))\n",
    "# key : Term / val (Doc:Freq)\n",
    "TDM = defaultdict(lambda: defaultdict(int))\n",
    "# key : Term / val (Doc:Weight)\n",
    "TWM = defaultdict(lambda: defaultdict(float))\n",
    "\n",
    "stopList = stopwords.words('english')"
   ]
  },
  {
   "cell_type": "code",
   "execution_count": 1454,
   "metadata": {},
   "outputs": [],
   "source": [
    "# N으로 끝나는것  / 앞의 글자수가 1을 넘게 해서 명사 거르기 \n",
    "\n",
    "dictNoun = list()\n",
    "\n",
    "for i in range(len(corpus2)):\n",
    "    for t in Kkma().pos(corpus2[i]):\n",
    "        if len(t[0]) > 1 and t[1].startswith('N'):\n",
    "            dictNoun.append(t[0])\n",
    "            \n",
    "        DTM[i][t[0]] += 1\n",
    "    \n",
    "for d, termList in DTM.items():\n",
    "    for t,f in termList.items():\n",
    "        TDM[t][d] = f\n",
    "        \n",
    "N = len(DTM)\n",
    "V = len(TDM)\n",
    "\n",
    "# TF-IDF\n",
    "# TF : f / maxF\n",
    "# IDF : N / df ( docList의 갯수)\n",
    "from math import log\n",
    "\n",
    "for t, docList in TDM.items():\n",
    "    df = len(docList)\n",
    "    for d,f in docList.items():\n",
    "        maxtf = max(DTM[d].values())\n",
    "        TWM[t][d] = (f/maxtf) * (log(N/df))"
   ]
  },
  {
   "cell_type": "code",
   "execution_count": 1455,
   "metadata": {},
   "outputs": [],
   "source": [
    "K=2\n",
    "\n",
    "docVector = list(list(0.0 for _ in range(V)) for _ in range(N))\n",
    "\n",
    "cluster = sample(docVector,K)\n",
    "# cluster = list()\n",
    "\n",
    "# for i in range(K):\n",
    "#     cluster.append(list(randrange(1,3) for _ in range(V)))"
   ]
  },
  {
   "cell_type": "code",
   "execution_count": 1456,
   "metadata": {},
   "outputs": [],
   "source": [
    "for i in range(N):\n",
    "    for j,t in enumerate(TDM.keys()):\n",
    "        docVector[i][j] = TWM[t][i]"
   ]
  },
  {
   "cell_type": "code",
   "execution_count": 1457,
   "metadata": {},
   "outputs": [
    {
     "data": {
      "text/plain": [
       "(2, 3615)"
      ]
     },
     "execution_count": 1457,
     "metadata": {},
     "output_type": "execute_result"
    }
   ],
   "source": [
    "len(cluster), len(cluster[0])"
   ]
  },
  {
   "cell_type": "code",
   "execution_count": 1458,
   "metadata": {},
   "outputs": [
    {
     "data": {
      "text/plain": [
       "(31, 3615)"
      ]
     },
     "execution_count": 1458,
     "metadata": {},
     "output_type": "execute_result"
    }
   ],
   "source": [
    "len(docVector), len(docVector[-1])"
   ]
  },
  {
   "cell_type": "code",
   "execution_count": 1459,
   "metadata": {},
   "outputs": [
    {
     "data": {
      "text/plain": [
       "3615"
      ]
     },
     "execution_count": 1459,
     "metadata": {},
     "output_type": "execute_result"
    }
   ],
   "source": [
    "len(list(enumerate(docVector))[0][1])"
   ]
  },
  {
   "cell_type": "code",
   "execution_count": 1460,
   "metadata": {},
   "outputs": [],
   "source": [
    "from math import sqrt\n",
    "\n",
    "def expectation(data, clusters,k,cos=True):\n",
    "    distance = list()\n",
    "    metric = cosine if cos else euclidean\n",
    "    rvalue = max if cos else min\n",
    "    \n",
    "    for i in range(k):\n",
    "#         print(len(data)), print(len(clusters[i]))\n",
    "        distance.append(metric(data,clusters[i]))\n",
    "        \n",
    "    return distance.index(rvalue(distance))  # cosine이어서 Min이 아니라 Max / euclidean : min\n",
    "\n",
    "\n",
    "\n"
   ]
  },
  {
   "cell_type": "code",
   "execution_count": 1461,
   "metadata": {},
   "outputs": [],
   "source": [
    "def maximization(data):\n",
    "    N = len(data)\n",
    "    _sum = list(0 for _ in range(len(data[0])))\n",
    "    \n",
    "    for _ in data:\n",
    "        for i in range(len(_)):\n",
    "            _sum[i] += _[i]\n",
    "        \n",
    "    return tuple(_/N for _ in _sum)  # x,y 좌표를 평균낸 것 "
   ]
  },
  {
   "cell_type": "code",
   "execution_count": 1462,
   "metadata": {},
   "outputs": [],
   "source": [
    "sseList = list()\n",
    "cluster = sample(docVector,K)\n",
    "\n",
    "for _ in range(10):\n",
    "    rnk = list(list(0 for _ in range(K)) for _ in range(N))\n",
    "    \n",
    "    for i,d in enumerate(docVector):\n",
    "        c = expectation(d,cluster,K,False)\n",
    "        rnk[i][c] = 1\n",
    "        \n",
    "    _sum = 0.0\n",
    "    \n",
    "    for j ,c in enumerate(cluster):\n",
    "        dataset = [docVector[i] for i in range(N) if rnk[i][j]]\n",
    "      \n",
    "        _sum += sse(dataset,c)        \n",
    "        cluster[j] = maximization(dataset)\n",
    "    \n",
    "    sseList.append(_sum)"
   ]
  },
  {
   "cell_type": "code",
   "execution_count": 1463,
   "metadata": {},
   "outputs": [
    {
     "data": {
      "image/png": "[encoded data removed]",
      "text/plain": [
       "<Figure size 432x288 with 1 Axes>"
      ]
     },
     "metadata": {
      "needs_background": "light"
     },
     "output_type": "display_data"
    }
   ],
   "source": [
    "import matplotlib.pyplot as plt\n",
    "\n",
    "plt.plot(range(1,11),sseList,'r-')\n",
    "plt.show()"
   ]
  },
  {
   "cell_type": "code",
   "execution_count": 1464,
   "metadata": {},
   "outputs": [],
   "source": [
    "clusterDataset = list()\n",
    "for j ,c in enumerate(cluster):\n",
    "    dataset = [i for i in range(N) if rnk[i][j]]\n",
    "    clusterDataset.append(dataset)"
   ]
  },
  {
   "cell_type": "code",
   "execution_count": 1465,
   "metadata": {},
   "outputs": [],
   "source": [
    "voca = list(TWM.keys())\n",
    "topic = list()\n",
    "\n",
    "for c in cluster:\n",
    "    wordList = defaultdict(float)\n",
    "    for i ,w in enumerate(c):\n",
    "        wordList[voca[i]] = w\n",
    "    topic.append(dict(sorted(wordList.items(), key=lambda x:x[1], reverse=True )[:5]))"
   ]
  },
  {
   "cell_type": "code",
   "execution_count": 1466,
   "metadata": {},
   "outputs": [
    {
     "data": {
      "text/plain": [
       "{'F': 0.13305876757598126,\n",
       " '전투기': 0.12361531066213463,\n",
       " '35': 0.11598733504193623,\n",
       " '개복치': 0.113920382767827,\n",
       " '버스': 0.10508954224557927}"
      ]
     },
     "execution_count": 1466,
     "metadata": {},
     "output_type": "execute_result"
    }
   ],
   "source": [
    "dict(sorted(wordList.items(), key=lambda x:x[1], reverse=True )[:5])"
   ]
  },
  {
   "cell_type": "code",
   "execution_count": 1467,
   "metadata": {
    "scrolled": true
   },
   "outputs": [],
   "source": [
    "a = list(topic[0].keys())\n",
    "dictNoun = list()\n",
    "for i in a:\n",
    "    dictNoun.extend([noun for noun in Kkma().nouns(i) if len(noun) > 1])"
   ]
  },
  {
   "cell_type": "code",
   "execution_count": 1468,
   "metadata": {},
   "outputs": [
    {
     "data": {
      "text/plain": [
       "{'F': 0.13305876757598126,\n",
       " '전투기': 0.12361531066213463,\n",
       " '35': 0.11598733504193623,\n",
       " '개복치': 0.113920382767827,\n",
       " '버스': 0.10508954224557927}"
      ]
     },
     "execution_count": 1468,
     "metadata": {},
     "output_type": "execute_result"
    }
   ],
   "source": [
    "topic[1]"
   ]
  },
  {
   "cell_type": "code",
   "execution_count": 1469,
   "metadata": {},
   "outputs": [
    {
     "data": {
      "text/plain": [
       "<wordcloud.wordcloud.WordCloud at 0x11d499be0>"
      ]
     },
     "execution_count": 1469,
     "metadata": {},
     "output_type": "execute_result"
    }
   ],
   "source": [
    "from wordcloud import WordCloud\n",
    "\n",
    "fontPath = \"/Library/Fonts/AppleGothic.ttf\"\n",
    "\n",
    "wc = WordCloud(font_path=fontPath,background_color='white')\n",
    "wc.generate_from_frequencies(topic[1])  # dict 형태여야함 \n"
   ]
  },
  {
   "cell_type": "code",
   "execution_count": 1348,
   "metadata": {},
   "outputs": [
    {
     "data": {
      "image/png": "[encoded data removed]",
      "text/plain": [
       "<PIL.Image.Image image mode=RGB size=400x200 at 0x146593E80>"
      ]
     },
     "execution_count": 1348,
     "metadata": {},
     "output_type": "execute_result"
    }
   ],
   "source": [
    "# IT과학\n",
    "wc.to_image() "
   ]
  },
  {
   "cell_type": "code",
   "execution_count": 1382,
   "metadata": {},
   "outputs": [
    {
     "data": {
      "image/png": "[encoded data removed]",
      "text/plain": [
       "<PIL.Image.Image image mode=RGB size=400x200 at 0x11D6F1A20>"
      ]
     },
     "execution_count": 1382,
     "metadata": {},
     "output_type": "execute_result"
    }
   ],
   "source": [
    "# 정치 \n",
    "wc.to_image() "
   ]
  },
  {
   "cell_type": "code",
   "execution_count": 1404,
   "metadata": {},
   "outputs": [
    {
     "data": {
      "image/png": "[encoded data removed]",
      "text/plain": [
       "<PIL.Image.Image image mode=RGB size=400x200 at 0x142EAA940>"
      ]
     },
     "execution_count": 1404,
     "metadata": {},
     "output_type": "execute_result"
    }
   ],
   "source": [
    "# 사회\n",
    "wc.to_image() "
   ]
  },
  {
   "cell_type": "code",
   "execution_count": 1425,
   "metadata": {},
   "outputs": [
    {
     "data": {
      "image/png": "[encoded data removed]",
      "text/plain": [
       "<PIL.Image.Image image mode=RGB size=400x200 at 0x142AEB550>"
      ]
     },
     "execution_count": 1425,
     "metadata": {},
     "output_type": "execute_result"
    }
   ],
   "source": [
    "# 경제\n",
    "wc.to_image() "
   ]
  },
  {
   "cell_type": "code",
   "execution_count": 1449,
   "metadata": {},
   "outputs": [
    {
     "data": {
      "image/png": "[encoded data removed]",
      "text/plain": [
       "<PIL.Image.Image image mode=RGB size=400x200 at 0x143B0ACF8>"
      ]
     },
     "execution_count": 1449,
     "metadata": {},
     "output_type": "execute_result"
    }
   ],
   "source": [
    "# 생활문화\n",
    "wc.to_image() "
   ]
  },
  {
   "cell_type": "code",
   "execution_count": 1470,
   "metadata": {},
   "outputs": [
    {
     "data": {
      "image/png": "[encoded data removed]",
      "text/plain": [
       "<PIL.Image.Image image mode=RGB size=400x200 at 0x11BDF9C50>"
      ]
     },
     "execution_count": 1470,
     "metadata": {},
     "output_type": "execute_result"
    }
   ],
   "source": [
    "# 세계\n",
    "wc.to_image() "
   ]
  }
 ],
 "metadata": {
  "kernelspec": {
   "display_name": "Python 3",
   "language": "python",
   "name": "python3"
  },
  "language_info": {
   "codemirror_mode": {
    "name": "ipython",
    "version": 3
   },
   "file_extension": ".py",
   "mimetype": "text/x-python",
   "name": "python",
   "nbconvert_exporter": "python",
   "pygments_lexer": "ipython3",
   "version": "3.7.2"
  }
 },
 "nbformat": 4,
 "nbformat_minor": 2
}
