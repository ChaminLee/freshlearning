{
 "cells": [
  {
   "cell_type": "markdown",
   "metadata": {},
   "source": [
    "# Deeplearning 특강\n",
    "\n",
    "\n",
    "\n",
    "바로 실습으로 넘어가자!\n",
    "\n",
    "Tensorflow & Keras의 기초에 대해 알아보자."
   ]
  },
  {
   "cell_type": "markdown",
   "metadata": {},
   "source": [
    "# Tensorflow"
   ]
  },
  {
   "cell_type": "code",
   "execution_count": 1,
   "metadata": {},
   "outputs": [],
   "source": [
    "import tensorflow as tf"
   ]
  },
  {
   "cell_type": "code",
   "execution_count": 4,
   "metadata": {},
   "outputs": [
    {
     "name": "stdout",
     "output_type": "stream",
     "text": [
      "Tensor(\"add_2:0\", shape=(), dtype=float32)\n"
     ]
    }
   ],
   "source": [
    "a = tf.constant(3.0)\n",
    "b = tf.constant(4.0)\n",
    "c = tf.constant(5.0)\n",
    "d=a*b+c\n",
    "print(d)"
   ]
  },
  {
   "cell_type": "code",
   "execution_count": 5,
   "metadata": {},
   "outputs": [
    {
     "data": {
      "text/plain": [
       "17.0"
      ]
     },
     "execution_count": 5,
     "metadata": {},
     "output_type": "execute_result"
    }
   ],
   "source": [
    "# 노드와 엣지를 이용한 그래프를 그려 Session을 이용하여 출력하는 것.\n",
    "# 그래야 값이 출력됨.\n",
    "sess = tf.Session()\n",
    "sess.run(d)"
   ]
  },
  {
   "cell_type": "markdown",
   "metadata": {},
   "source": [
    "## Linear Regression"
   ]
  },
  {
   "cell_type": "code",
   "execution_count": 24,
   "metadata": {},
   "outputs": [],
   "source": [
    "# 입력 및 모델 정의 \n",
    "W = tf.Variable(tf.random_normal(shape=[1],name='W'))\n",
    "b = tf.Variable(tf.random_normal(shape=[1],name='b'))\n",
    "X = tf.placeholder(tf.float32)\n",
    "\n",
    "pred = W*X+b"
   ]
  },
  {
   "cell_type": "code",
   "execution_count": 25,
   "metadata": {},
   "outputs": [],
   "source": [
    "y = tf.placeholder(tf.float32)\n",
    "\n",
    "# MSE 이용\n",
    "loss = tf.reduce_mean(tf.square(pred - y))"
   ]
  },
  {
   "cell_type": "code",
   "execution_count": 26,
   "metadata": {},
   "outputs": [],
   "source": [
    "optimizer = tf.train.GradientDescentOptimizer(learning_rate=0.01)\n",
    "train = optimizer.minimize(loss)"
   ]
  },
  {
   "cell_type": "code",
   "execution_count": 27,
   "metadata": {},
   "outputs": [],
   "source": [
    "# 목표 모델  y=2x+1\n",
    "X_train = [1,2,3,4]\n",
    "y_train = [3,5,7,9]"
   ]
  },
  {
   "cell_type": "code",
   "execution_count": 28,
   "metadata": {},
   "outputs": [],
   "source": [
    "# W, b 파라미터 초기화 \n",
    "sess = tf.Session()\n",
    "result = sess.run(tf.global_variables_initializer())"
   ]
  },
  {
   "cell_type": "code",
   "execution_count": 29,
   "metadata": {},
   "outputs": [],
   "source": [
    "# 학습\n",
    "for i in range(1000):\n",
    "    sess.run(train,feed_dict={X:X_train,y:y_train})"
   ]
  },
  {
   "cell_type": "code",
   "execution_count": 30,
   "metadata": {},
   "outputs": [
    {
     "name": "stdout",
     "output_type": "stream",
     "text": [
      "[ 6.999756 10.991601 10.991601 12.987524]\n"
     ]
    }
   ],
   "source": [
    "# 테스트\n",
    "X_test = [3,5,5,6]\n",
    "print(sess.run(pred,feed_dict={X:X_test}))"
   ]
  },
  {
   "cell_type": "markdown",
   "metadata": {},
   "source": [
    "# Keras"
   ]
  },
  {
   "cell_type": "code",
   "execution_count": 32,
   "metadata": {},
   "outputs": [
    {
     "name": "stderr",
     "output_type": "stream",
     "text": [
      "Using TensorFlow backend.\n"
     ]
    },
    {
     "data": {
      "text/plain": [
       "'2.2.4'"
      ]
     },
     "execution_count": 32,
     "metadata": {},
     "output_type": "execute_result"
    }
   ],
   "source": [
    "import keras\n",
    "keras.__version__"
   ]
  },
  {
   "cell_type": "markdown",
   "metadata": {},
   "source": [
    "## EX 1 ) MNIST"
   ]
  },
  {
   "cell_type": "code",
   "execution_count": 33,
   "metadata": {},
   "outputs": [
    {
     "name": "stdout",
     "output_type": "stream",
     "text": [
      "Downloading data from https://s3.amazonaws.com/img-datasets/mnist.npz\n",
      "11493376/11490434 [==============================] - 9s 1us/step\n"
     ]
    }
   ],
   "source": [
    "# Keras version MNIST\n",
    "# MNIST datasets 준비하기\n",
    "from keras.datasets import mnist\n",
    "# train:test = 60,000 : 10,000\n",
    "(train_images, train_labels), (test_images,test_labels) = mnist.load_data()"
   ]
  },
  {
   "cell_type": "code",
   "execution_count": 35,
   "metadata": {},
   "outputs": [
    {
     "name": "stdout",
     "output_type": "stream",
     "text": [
      "(60000, 28, 28) [5 0 4 ... 5 6 8]\n"
     ]
    }
   ],
   "source": [
    "print(train_images.shape, train_labels)"
   ]
  },
  {
   "cell_type": "code",
   "execution_count": 42,
   "metadata": {},
   "outputs": [
    {
     "name": "stdout",
     "output_type": "stream",
     "text": [
      "5\n"
     ]
    },
    {
     "data": {
      "image/png": "[encoded data removed]",
      "text/plain": [
       "<Figure size 432x288 with 1 Axes>"
      ]
     },
     "metadata": {
      "needs_background": "light"
     },
     "output_type": "display_data"
    }
   ],
   "source": [
    "# 데이터 하나 출력해보기\n",
    "print(train_labels[0])\n",
    "import matplotlib.pyplot as plt\n",
    "plt.imshow(train_images[0], cmap=plt.cm.binary)\n",
    "plt.show()"
   ]
  },
  {
   "cell_type": "code",
   "execution_count": 43,
   "metadata": {},
   "outputs": [],
   "source": [
    "from keras import models\n",
    "from keras import layers\n",
    "\n",
    "# 레고 쌓듯이 쌓으면 됨\n",
    "network = models.Sequential()\n",
    "# Dense  = FullyConnectedLayer\n",
    "network.add(layers.Dense(512,activation='relu',input_shape=(28*28,)))\n",
    "network.add(layers.Dense(10,activation='softmax'))"
   ]
  },
  {
   "cell_type": "code",
   "execution_count": 44,
   "metadata": {},
   "outputs": [],
   "source": [
    "# network training\n",
    "network.compile(optimizer='rmsprop', loss='categorical_crossentropy',metrics=['accuracy'])"
   ]
  },
  {
   "cell_type": "code",
   "execution_count": 45,
   "metadata": {},
   "outputs": [],
   "source": [
    "train_images = train_images.reshape((60000,28*28))\n",
    "train_images = train_images.astype('float32') / 255  # 픽셀값을 0~1 사이로 만들어줌 ( 정규화 과정 )  # 흑백픽셀은 0~255 값을 가짐 \n",
    "\n",
    "test_images = test_images.reshape((10000,28*28))\n",
    "test_images = test_images.astype('float32') / 255   # 당연히 테스트 이미지도 정규화 해야함"
   ]
  },
  {
   "cell_type": "code",
   "execution_count": 46,
   "metadata": {},
   "outputs": [],
   "source": [
    "# 레이블을 범주형으로 인코딩\n",
    "# One-hot encoding을 하는 것과 유사.\n",
    "# 해당하는 곳은 1, 나머지는 0으로 표현 \n",
    "from keras.utils import to_categorical\n",
    "\n",
    "train_labels = to_categorical(train_labels)\n",
    "test_labels = to_categorical(test_labels)\n"
   ]
  },
  {
   "cell_type": "code",
   "execution_count": 50,
   "metadata": {},
   "outputs": [
    {
     "name": "stdout",
     "output_type": "stream",
     "text": [
      "Epoch 1/5\n",
      "60000/60000 [==============================] - 3s 46us/step - loss: 0.2583 - acc: 0.9252\n",
      "Epoch 2/5\n",
      "60000/60000 [==============================] - 2s 37us/step - loss: 0.1045 - acc: 0.9691\n",
      "Epoch 3/5\n",
      "60000/60000 [==============================] - 2s 37us/step - loss: 0.0701 - acc: 0.9789\n",
      "Epoch 4/5\n",
      "60000/60000 [==============================] - 2s 37us/step - loss: 0.0503 - acc: 0.9849\n",
      "Epoch 5/5\n",
      "60000/60000 [==============================] - 2s 37us/step - loss: 0.0379 - acc: 0.9886\n"
     ]
    },
    {
     "data": {
      "text/plain": [
       "<keras.callbacks.History at 0x1530f5ef0>"
      ]
     },
     "execution_count": 50,
     "metadata": {},
     "output_type": "execute_result"
    }
   ],
   "source": [
    "# 훈련\n",
    "# 총 5바퀴 도는 것 \n",
    "# 한 번에 128개씩(28 28 이미지를) 넣어서 진행하는 것  ( = 임의의 숫자 )\n",
    "network.fit(train_images,train_labels,epochs=5,batch_size=128)"
   ]
  },
  {
   "cell_type": "code",
   "execution_count": 53,
   "metadata": {},
   "outputs": [
    {
     "name": "stdout",
     "output_type": "stream",
     "text": [
      "10000/10000 [==============================] - 0s 40us/step\n"
     ]
    }
   ],
   "source": [
    "# Model evaluate\n",
    "test_loss, test_acc = network.evaluate(test_images,test_labels)"
   ]
  },
  {
   "cell_type": "code",
   "execution_count": 58,
   "metadata": {},
   "outputs": [
    {
     "name": "stdout",
     "output_type": "stream",
     "text": [
      "test_loss : 0.06686073924119118 test_acc: 0.9804\n"
     ]
    }
   ],
   "source": [
    "print(\"test_loss :\" ,test_loss,\"test_acc:\" ,test_acc)\n",
    "\n",
    "# Weight를 다르게 랜덤하게 시작하기 때문에 할 때마다 정확도가 다를 수 있다. \n",
    "# 반복 수를 늘리면 똑같은 값에 수렴할 수 있다. "
   ]
  },
  {
   "cell_type": "markdown",
   "metadata": {},
   "source": [
    "## EX 2 ) Classifying movie reviews"
   ]
  },
  {
   "cell_type": "code",
   "execution_count": 137,
   "metadata": {},
   "outputs": [],
   "source": [
    "# 50,000개의 양극단 리뷰로 구성 ( Positive / Negative )\n",
    "from keras.datasets import imdb\n",
    "\n",
    "(train_data,train_labels), (test_data,test_labels) = imdb.load_data(num_words=10000)"
   ]
  },
  {
   "cell_type": "code",
   "execution_count": 138,
   "metadata": {},
   "outputs": [
    {
     "data": {
      "text/plain": [
       "[1, 14, 22, 16, 43, 530, 973, 1622, 1385, 65]"
      ]
     },
     "execution_count": 138,
     "metadata": {},
     "output_type": "execute_result"
    }
   ],
   "source": [
    "# 리뷰 단어의 index로 매핑이 되어있는 것. \n",
    "# 훈련을 위해 숫자로 매핑이 되어있는 것 ( 1 ~ 10,000 )\n",
    "# 10개 단어만 보자\n",
    "train_data[0][:10]"
   ]
  },
  {
   "cell_type": "code",
   "execution_count": 139,
   "metadata": {},
   "outputs": [
    {
     "data": {
      "text/plain": [
       "1"
      ]
     },
     "execution_count": 139,
     "metadata": {},
     "output_type": "execute_result"
    }
   ],
   "source": [
    "# 1 = 긍정 / 0 = 부정\n",
    "train_labels[0]"
   ]
  },
  {
   "cell_type": "code",
   "execution_count": 140,
   "metadata": {},
   "outputs": [],
   "source": [
    "# word_index는 단어와 정수 인덱스를 매핑한 딕셔너리\n",
    "word_index = imdb.get_word_index()\n",
    "# 정수 인덱스와 단어를 매핑하도록 뒤집음\n",
    "reverse_word_index = dict([(value,key) for (key,value) in word_index.items()])\n",
    "# 리뷰를 디코딩\n",
    "# 0,1,2는 패딩, 문서시작, 사전에 없음을 위한 인덱스이므로 3을 뺀다. \n",
    "decoded_review = ' '.join([reverse_word_index.get(i-3,'?') for i in train_data[0]])"
   ]
  },
  {
   "cell_type": "code",
   "execution_count": 141,
   "metadata": {},
   "outputs": [
    {
     "data": {
      "text/plain": [
       "\"? this film was just brilliant casting location scenery story direction everyone's really suited the part they played and you could just imagine being there robert ? is an amazing actor and now the same being director ? father came from the same scottish island as myself so i loved the fact there was a real connection with this film the witty remarks throughout the film were great it was just brilliant so much that i bought the film as soon as it was released for ? and would recommend it to everyone to watch and the fly fishing was amazing really cried at the end it was so sad and you know what they say if you cry at a film it must have been good and this definitely was also ? to the two little boy's that played the ? of norman and paul they were just brilliant children are often left out of the ? list i think because the stars that play them all grown up are such a big profile for the whole film but these children are amazing and should be praised for what they have done don't you think the whole story was so lovely because it was true and was someone's life after all that was shared with us all\""
      ]
     },
     "execution_count": 141,
     "metadata": {},
     "output_type": "execute_result"
    }
   ],
   "source": [
    "# ?는 10,000 밖의 단어이다.\n",
    "decoded_review"
   ]
  },
  {
   "cell_type": "code",
   "execution_count": 142,
   "metadata": {},
   "outputs": [],
   "source": [
    "import numpy as np\n",
    "# 10000으로 설정한 것은 sparcity의 문제. \n",
    "# 강의실에서 사람 한 명을 찾는 것, 더 넓은 도시에서 사람 한 명을 찾는 것. 학습의 속도, 정보량의 차이 ( 10000은 사용자 설정 )\n",
    "# 얼마나 희소하게 만들 것인가. 수 가 줄 수록 단어를 decoding 할 수 있는게 줄어드는 것 \n",
    "\n",
    "def vectorize_sequences(sequences,dimension=10000):\n",
    "    results = np.zeros((len(sequences),dimension))     # 크기를 맞춰 0으로 채워진 행렬 구성\n",
    "    for i, sequence in enumerate(sequences):\n",
    "        results[i,sequence] = 1.      # result[i]에서 특정 index위치를 1로 만듬  / one-hot하는 거임 \n",
    "    return results\n",
    "\n",
    "# 학습을 하기 위해\n",
    "# 훈련 데이터 벡터로 변환\n",
    "X_train = vectorize_sequences(train_data)\n",
    "# 테스트 데이터를 벡터로 변환\n",
    "X_test = vectorize_sequences(test_data)"
   ]
  },
  {
   "cell_type": "code",
   "execution_count": 143,
   "metadata": {},
   "outputs": [],
   "source": [
    "# 레이블 벡터로 바꾸기\n",
    "# array로 만들되 type을 float32로 하는 것. \n",
    "y_train = np.asarray(train_labels).astype('float32')\n",
    "y_test = np.asarray(test_labels).astype('float32')"
   ]
  },
  {
   "cell_type": "code",
   "execution_count": 173,
   "metadata": {},
   "outputs": [
    {
     "name": "stdout",
     "output_type": "stream",
     "text": [
      "WARNING:tensorflow:From /Users/charming/anaconda3/lib/python3.7/site-packages/keras/backend/tensorflow_backend.py:3445: calling dropout (from tensorflow.python.ops.nn_ops) with keep_prob is deprecated and will be removed in a future version.\n",
      "Instructions for updating:\n",
      "Please use `rate` instead of `keep_prob`. Rate should be set to `rate = 1 - keep_prob`.\n"
     ]
    }
   ],
   "source": [
    "# 신경망 구성 \n",
    "from keras import models\n",
    "from keras import Sequential\n",
    "from keras.layers import Dropout\n",
    "\n",
    "# input 다음층부터 차근차근 쌓아올리는 것 \n",
    "model = models.Sequential()\n",
    "model.add(layers.Dense(64,activation='relu',input_shape=(10000,)))  # 뒤는 정해져있지 않다. (콤마 뒤에, 몇 개가 들어갈지 모르는 것 )\n",
    "model.add(layers.Dense(32,activation='relu'))\n",
    "model.add(Dropout(0.25))\n",
    "model.add(layers.Dense(16,activation='relu'))\n",
    "model.add(layers.Dense(1,activation='sigmoid'))\n",
    "# sigmoid라 결과가 확률로 나옴"
   ]
  },
  {
   "cell_type": "code",
   "execution_count": 174,
   "metadata": {},
   "outputs": [],
   "source": [
    "model.compile(optimizer='rmsprop',loss='binary_crossentropy',metrics=['accuracy'])"
   ]
  },
  {
   "cell_type": "markdown",
   "metadata": {},
   "source": [
    "# 다 똑같음\n",
    "from keras import optimizers\n",
    "\n",
    "optimizer = model.compile(optimizers.RMSprop(lr=0.001) ,loss='binary_crossentropy',metrics=['accuracy'])"
   ]
  },
  {
   "cell_type": "markdown",
   "metadata": {},
   "source": [
    "# 다 똑같음\n",
    "from keras import losses\n",
    "from keras import metrics\n",
    "\n",
    "optimizer = model.compile(optimizers.RMSprop(lr=0.001) ,loss=losses.binary_crossentropy,metrics=[metrics.binary_accuracy])\n"
   ]
  },
  {
   "cell_type": "code",
   "execution_count": 175,
   "metadata": {},
   "outputs": [],
   "source": [
    "# 훈련 검증\n",
    "# Validation Set 만들기\n",
    "X_val = X_train[:5000]\n",
    "partial_x_train = X_train[5000:]\n",
    "\n",
    "y_val = y_train[:5000]\n",
    "partial_y_train = y_train[5000:]"
   ]
  },
  {
   "cell_type": "code",
   "execution_count": 176,
   "metadata": {
    "scrolled": true
   },
   "outputs": [
    {
     "name": "stdout",
     "output_type": "stream",
     "text": [
      "Train on 20000 samples, validate on 5000 samples\n",
      "Epoch 1/20\n",
      "20000/20000 [==============================] - 5s 226us/step - loss: 0.4787 - acc: 0.7784 - val_loss: 0.3293 - val_acc: 0.8766\n",
      "Epoch 2/20\n",
      "20000/20000 [==============================] - 2s 94us/step - loss: 0.2684 - acc: 0.9004 - val_loss: 0.2820 - val_acc: 0.8900\n",
      "Epoch 3/20\n",
      "20000/20000 [==============================] - 2s 100us/step - loss: 0.2109 - acc: 0.9220 - val_loss: 0.2792 - val_acc: 0.8922\n",
      "Epoch 4/20\n",
      "20000/20000 [==============================] - 2s 98us/step - loss: 0.1658 - acc: 0.9428 - val_loss: 0.2980 - val_acc: 0.8864\n",
      "Epoch 5/20\n",
      "20000/20000 [==============================] - 2s 98us/step - loss: 0.1241 - acc: 0.9568 - val_loss: 0.3317 - val_acc: 0.8852\n",
      "Epoch 6/20\n",
      "20000/20000 [==============================] - 2s 93us/step - loss: 0.1013 - acc: 0.9654 - val_loss: 0.3564 - val_acc: 0.8846\n",
      "Epoch 7/20\n",
      "20000/20000 [==============================] - 2s 93us/step - loss: 0.0782 - acc: 0.9745 - val_loss: 0.4657 - val_acc: 0.8656\n",
      "Epoch 8/20\n",
      "20000/20000 [==============================] - 2s 94us/step - loss: 0.0565 - acc: 0.9819 - val_loss: 0.4668 - val_acc: 0.8802\n",
      "Epoch 9/20\n",
      "20000/20000 [==============================] - 2s 94us/step - loss: 0.0539 - acc: 0.9836 - val_loss: 0.4364 - val_acc: 0.8810\n",
      "Epoch 10/20\n",
      "20000/20000 [==============================] - 2s 93us/step - loss: 0.0306 - acc: 0.9921 - val_loss: 0.4997 - val_acc: 0.8794\n",
      "Epoch 11/20\n",
      "20000/20000 [==============================] - 2s 93us/step - loss: 0.0190 - acc: 0.9957 - val_loss: 0.6579 - val_acc: 0.8622\n",
      "Epoch 12/20\n",
      "20000/20000 [==============================] - 2s 94us/step - loss: 0.0086 - acc: 0.9983 - val_loss: 0.6505 - val_acc: 0.8806\n",
      "Epoch 13/20\n",
      "20000/20000 [==============================] - 2s 93us/step - loss: 0.0258 - acc: 0.9936 - val_loss: 0.6608 - val_acc: 0.8820\n",
      "Epoch 14/20\n",
      "20000/20000 [==============================] - 2s 94us/step - loss: 0.0294 - acc: 0.9933 - val_loss: 0.6702 - val_acc: 0.8802\n",
      "Epoch 15/20\n",
      "20000/20000 [==============================] - 2s 94us/step - loss: 0.0027 - acc: 0.9998 - val_loss: 0.7730 - val_acc: 0.8800\n",
      "Epoch 16/20\n",
      "20000/20000 [==============================] - 2s 93us/step - loss: 0.0246 - acc: 0.9950 - val_loss: 0.7843 - val_acc: 0.8792\n",
      "Epoch 17/20\n",
      "20000/20000 [==============================] - 2s 93us/step - loss: 0.0058 - acc: 0.9988 - val_loss: 0.8616 - val_acc: 0.8770\n",
      "Epoch 18/20\n",
      "20000/20000 [==============================] - 2s 94us/step - loss: 0.0014 - acc: 0.9997 - val_loss: 0.8986 - val_acc: 0.8784\n",
      "Epoch 19/20\n",
      "20000/20000 [==============================] - 2s 93us/step - loss: 0.0079 - acc: 0.9976 - val_loss: 1.2299 - val_acc: 0.8552\n",
      "Epoch 20/20\n",
      "20000/20000 [==============================] - 2s 94us/step - loss: 0.0044 - acc: 0.9992 - val_loss: 0.9684 - val_acc: 0.8774\n"
     ]
    }
   ],
   "source": [
    "history = model.fit(partial_x_train,partial_y_train,epochs=20,batch_size=512,validation_data=(X_val,y_val))"
   ]
  },
  {
   "cell_type": "code",
   "execution_count": 177,
   "metadata": {},
   "outputs": [
    {
     "data": {
      "text/plain": [
       "dict_keys(['val_loss', 'val_acc', 'loss', 'acc'])"
      ]
     },
     "execution_count": 177,
     "metadata": {},
     "output_type": "execute_result"
    }
   ],
   "source": [
    "# 케라스는 history가 남아있음 \n",
    "history_dict = history.history\n",
    "history_dict.keys()"
   ]
  },
  {
   "cell_type": "code",
   "execution_count": 178,
   "metadata": {},
   "outputs": [],
   "source": [
    "import matplotlib.pyplot as plt"
   ]
  },
  {
   "cell_type": "code",
   "execution_count": 179,
   "metadata": {},
   "outputs": [
    {
     "data": {
      "image/png": "[encoded data removed]",
      "text/plain": [
       "<Figure size 432x288 with 1 Axes>"
      ]
     },
     "metadata": {
      "needs_background": "light"
     },
     "output_type": "display_data"
    }
   ],
   "source": [
    "acc = history.history['acc']\n",
    "val_acc = history.history['val_acc']\n",
    "loss = history.history['loss']\n",
    "val_loss = history.history['val_loss']\n",
    "\n",
    "epochs = range(1, len(acc) + 1)\n",
    "\n",
    "# 파란점\n",
    "plt.plot(epochs, loss, 'b.',label='Training Loss')\n",
    "# 파란선\n",
    "plt.plot(epochs,val_loss,'b',label=\"Validation Loss\")\n",
    "\n",
    "plt.title(\"Training and Validation Loss\")\n",
    "plt.xlabel(\"Epochs\")\n",
    "plt.ylabel(\"Loss\")\n",
    "plt.legend()\n",
    "plt.show()"
   ]
  },
  {
   "cell_type": "code",
   "execution_count": 180,
   "metadata": {
    "scrolled": true
   },
   "outputs": [
    {
     "data": {
      "text/plain": [
       "array([[7.8040361e-04],\n",
       "       [1.0000000e+00],\n",
       "       [9.8393118e-01],\n",
       "       ...,\n",
       "       [1.6168952e-03],\n",
       "       [1.5429854e-03],\n",
       "       [9.9995941e-01]], dtype=float32)"
      ]
     },
     "execution_count": 180,
     "metadata": {},
     "output_type": "execute_result"
    }
   ],
   "source": [
    "# 예측하기\n",
    "# 확률 값으로 나오게 됨 \n",
    "model.predict(X_test)"
   ]
  },
  {
   "cell_type": "markdown",
   "metadata": {},
   "source": [
    "Training Lossd와 Validation Loss의 Gap이 벌어지는 모습을 통해 Overfitting 된 모습을 알 수 있다. \n",
    "모델, 데이터를 수정해서 새로 학습해야한다. \n",
    "\n",
    "dropout을 해도 큰 차이가 없다.... 다른 방법으로 Overfitting을 해결해야 할 것 같다. "
   ]
  }
 ],
 "metadata": {
  "kernelspec": {
   "display_name": "Python 3",
   "language": "python",
   "name": "python3"
  },
  "language_info": {
   "codemirror_mode": {
    "name": "ipython",
    "version": 3
   },
   "file_extension": ".py",
   "mimetype": "text/x-python",
   "name": "python",
   "nbconvert_exporter": "python",
   "pygments_lexer": "ipython3",
   "version": "3.7.2"
  }
 },
 "nbformat": 4,
 "nbformat_minor": 2
}
