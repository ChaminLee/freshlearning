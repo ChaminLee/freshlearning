{
 "cells": [
  {
   "cell_type": "markdown",
   "metadata": {},
   "source": [
    "# Naive Bayes\n",
    "\n",
    "MLE : 데이터만 가지고 ( 반드시 데이터가 있어야 추정 가능, 없으면 동작 X ) \n",
    "\n",
    "MAP : 데이터와 사전 정보를 가지고 ( 데이터가 없어도 사전 정보를 가지고 알아낼 수 있음 ) 조금 더 Optimal하다. \n",
    "\n",
    "Naive assumption : 입력데이터끼리 conditional independence 하다고 가정한다. ( 실생활에서느 그렇지 않지만 계산을 위해 ) \n",
    "\n",
    "Ex) 대출, 광고 모두 스팸이라면 둘 사이는 원래 강한 상관관계가 존재한다.\n",
    "\n",
    "Combination을 아래와 같이 구할 수 있는 것이다.\n",
    "\n",
    "( 특정 정보가 주어졌을 때, (사전 정보= 스팸이라고 알려줬을 때, 대출과 광고는 독립이다.) )\n",
    "\n",
    "\n",
    "\n",
    "$P(x_1|x_2,y) = P(x_1| y)$ 로 볼 수 있는 것이다. \n",
    "\n",
    "따라서 $P(x_1|x_2,y) = P(x_1| y)P(x_2| y)$이 성립하는 것이다. \n",
    "    \n",
    "    \n",
    "\n",
    "Naive bayes 문제점 : \n",
    "\n",
    "    확률 값을 정확히 예측 못함 \n",
    "\n",
    "    MLE에서는 데이터가 불충분할 때, MAP에서는 사전 정보가 좋지 못할 때.\n",
    "    \n",
    "    \n",
    "다 곱하는 것에서 log를 취해서 다 더하는 형태로 바꿔줌 ( 곱으로 진행하면 확률이 0에 수렴함, log를 통해 합으로 바꿔서 해결 )\n",
    "\n",
    "그리고 하나가 0이어도 사라지지 않는다. ( unknown data에 대해, prior knowledge가 영향을 미치게 되는 것이다 )\n",
    "\n",
    "\n",
    "\n"
   ]
  },
  {
   "cell_type": "code",
   "execution_count": 22,
   "metadata": {},
   "outputs": [],
   "source": [
    "# 코드로 구현하기 \n",
    "\n",
    "trainingSet = [\n",
    "    (1,\"Chinese Beijing Chinese\",\"yes\"),\n",
    "    (2,\"Chinese Chinese Shanghai\",\"yes\"),\n",
    "    (3,\"Chinese Macao\",\"yes\"),\n",
    "    (4,\"Tokyo Japan Chinese\",\"no\"),\n",
    "]\n",
    "\n",
    "testSet = [\n",
    "    (5,\"Chinese Chinese Chinese Tokyo Japan\")   \n",
    "]\n"
   ]
  },
  {
   "cell_type": "code",
   "execution_count": 23,
   "metadata": {},
   "outputs": [],
   "source": [
    "# \n",
    "trainingSetYes = [d for d in trainingSet if d[2] == \"yes\"]\n",
    "trainingSetNo = [d for d in trainingSet if d[2] == \"no\"]"
   ]
  },
  {
   "cell_type": "code",
   "execution_count": 24,
   "metadata": {},
   "outputs": [
    {
     "data": {
      "text/plain": [
       "([(1, 'Chinese Beijing Chinese', 'yes'),\n",
       "  (2, 'Chinese Chinese Shanghai', 'yes'),\n",
       "  (3, 'Chinese Macao', 'yes')],\n",
       " [(4, 'Tokyo Japan Chinese', 'no')])"
      ]
     },
     "execution_count": 24,
     "metadata": {},
     "output_type": "execute_result"
    }
   ],
   "source": [
    "trainingSetYes, trainingSetNo"
   ]
  },
  {
   "cell_type": "code",
   "execution_count": 25,
   "metadata": {},
   "outputs": [
    {
     "data": {
      "text/plain": [
       "4"
      ]
     },
     "execution_count": 25,
     "metadata": {},
     "output_type": "execute_result"
    }
   ],
   "source": [
    "# doc의 전체 갯수 구하기\n",
    "N = len(trainingSet)\n",
    "N"
   ]
  },
  {
   "cell_type": "code",
   "execution_count": 26,
   "metadata": {},
   "outputs": [],
   "source": [
    "# 사전 정보 구하기 prior[c]\n",
    "# MLE : 주어진 데이터를 이용해 확률값 추정 \n",
    "priorYes = len(trainingSetYes) / N\n",
    "priorNo = 1 - priorYes"
   ]
  },
  {
   "cell_type": "code",
   "execution_count": 27,
   "metadata": {},
   "outputs": [
    {
     "data": {
      "text/plain": [
       "(0.75, 0.25, 1.0)"
      ]
     },
     "execution_count": 27,
     "metadata": {},
     "output_type": "execute_result"
    }
   ],
   "source": [
    "# 확률이라 1이 되어야 한다. \n",
    "priorYes, priorNo, priorYes+priorNo"
   ]
  },
  {
   "cell_type": "code",
   "execution_count": 28,
   "metadata": {},
   "outputs": [],
   "source": [
    "# 확률을 누적시킬 것 \n",
    "from collections import defaultdict\n",
    "\n",
    "# 빈도를 이용할 것이므로 int\n",
    "tokensYes = defaultdict(int)\n",
    "tokensNo = defaultdict(int)\n",
    "\n",
    "for d in trainingSetYes:\n",
    "    for t in d[1].lower().split():  # 소문자로 / \n",
    "        tokensYes[t] += 1    # 나오는 것 하나씩 누적시킴\n",
    "    \n",
    "for d in trainingSetNo:\n",
    "    for t in d[1].lower().split():  # 소문자로 / \n",
    "        tokensNo[t] += 1 \n",
    "        \n",
    "# Unique한 word를 뽑는 과정 \n",
    "\n",
    "vocabulary = list(set(list(tokensYes.keys()) + list(tokensNo.keys())))"
   ]
  },
  {
   "cell_type": "code",
   "execution_count": 29,
   "metadata": {},
   "outputs": [
    {
     "data": {
      "text/plain": [
       "(defaultdict(int, {'chinese': 5, 'beijing': 1, 'shanghai': 1, 'macao': 1}),\n",
       " defaultdict(int, {'tokyo': 1, 'japan': 1, 'chinese': 1}))"
      ]
     },
     "execution_count": 29,
     "metadata": {},
     "output_type": "execute_result"
    }
   ],
   "source": [
    "tokensYes, tokensNo"
   ]
  },
  {
   "cell_type": "code",
   "execution_count": 30,
   "metadata": {},
   "outputs": [
    {
     "data": {
      "text/plain": [
       "['tokyo', 'japan', 'chinese', 'macao', 'beijing', 'shanghai']"
      ]
     },
     "execution_count": 30,
     "metadata": {},
     "output_type": "execute_result"
    }
   ],
   "source": [
    "# 전체의 unique한 단어 set \n",
    "vocabulary"
   ]
  },
  {
   "cell_type": "code",
   "execution_count": 31,
   "metadata": {},
   "outputs": [],
   "source": [
    "# 이제 조건부 확률을 구해야 함.\n",
    "# Conditional Probabilities\n",
    "\n",
    "sumYes = sum(tokensYes.values())\n",
    "sumNo = sum(tokensNo.values())"
   ]
  },
  {
   "cell_type": "code",
   "execution_count": 32,
   "metadata": {},
   "outputs": [
    {
     "data": {
      "text/plain": [
       "(8, 3)"
      ]
     },
     "execution_count": 32,
     "metadata": {},
     "output_type": "execute_result"
    }
   ],
   "source": [
    "# 각 클래스에 따른 단어의 갯수 \n",
    "sumYes, sumNo"
   ]
  },
  {
   "cell_type": "code",
   "execution_count": 34,
   "metadata": {},
   "outputs": [
    {
     "name": "stdout",
     "output_type": "stream",
     "text": [
      "tokyo\n",
      "Yes, -2.639057329615259 = 0+1 / 8+6\n",
      "No, -1.5040773967762742 = 1+1 / 3+6\n",
      "japan\n",
      "Yes, -2.639057329615259 = 0+1 / 8+6\n",
      "No, -1.5040773967762742 = 1+1 / 3+6\n",
      "chinese\n",
      "Yes, -0.8472978603872037 = 5+1 / 8+6\n",
      "No, -1.5040773967762742 = 1+1 / 3+6\n",
      "macao\n",
      "Yes, -1.9459101490553135 = 1+1 / 8+6\n",
      "No, -2.1972245773362196 = 0+1 / 3+6\n",
      "beijing\n",
      "Yes, -1.9459101490553135 = 1+1 / 8+6\n",
      "No, -2.1972245773362196 = 0+1 / 3+6\n",
      "shanghai\n",
      "Yes, -1.9459101490553135 = 1+1 / 8+6\n",
      "No, -2.1972245773362196 = 0+1 / 3+6\n"
     ]
    }
   ],
   "source": [
    "from math import log\n",
    "cpYes = defaultdict(float)\n",
    "cpNo = defaultdict(float)\n",
    "\n",
    "B = len(vocabulary)\n",
    "\n",
    "# token ( log를 미리 씌움 )\n",
    "for t in vocabulary:\n",
    "    cpYes[t] = log((tokensYes[t]+1) / (sumYes + B))  # 1 더해서 smoothing / 분모에 1씩더하는 것은 B를 더하면 됨 \n",
    "    cpNo[t] = log((tokensNo[t]+1) / (sumNo + B))\n",
    "    print(t)\n",
    "    print(\"Yes, {0} = {1}+1 / {2}+{3}\".format(cpYes[t],tokensYes[t],sumYes,B))\n",
    "    print(\"No, {0} = {1}+1 / {2}+{3}\".format(cpNo[t],tokensNo[t],sumNo,B))\n",
    "\n",
    "\n",
    "# for t,f in tokensNo.items():\n",
    "#     cpNo[t] = log((f+1) / (sumNo + B))\n",
    "#     print(t)\n",
    "#     print(\"{0} = {1} / {2}+{3}\".format(cpNo[t],f,sumNo,B))"
   ]
  },
  {
   "cell_type": "code",
   "execution_count": 35,
   "metadata": {},
   "outputs": [
    {
     "name": "stdout",
     "output_type": "stream",
     "text": [
      "tokyo\n",
      "Yes, -2.890371757896165 = 0+1 / 8+6\n",
      "No, -0.9808292530117262 = 1+1 / 3+6\n",
      "japan\n",
      "Yes, -2.890371757896165 = 0+1 / 8+6\n",
      "No, -0.9808292530117262 = 1+1 / 3+6\n",
      "chinese\n",
      "Yes, -0.49247648509779407 = 5+1 / 8+6\n",
      "No, -0.9808292530117262 = 1+1 / 3+6\n",
      "macao\n",
      "Yes, -1.791759469228055 = 1+1 / 8+6\n",
      "No, -2.0794415416798357 = 0+1 / 3+6\n",
      "beijing\n",
      "Yes, -1.791759469228055 = 1+1 / 8+6\n",
      "No, -2.0794415416798357 = 0+1 / 3+6\n",
      "shanghai\n",
      "Yes, -1.791759469228055 = 1+1 / 8+6\n",
      "No, -2.0794415416798357 = 0+1 / 3+6\n"
     ]
    }
   ],
   "source": [
    "# + Smoothing 기법 ( 라플라스 )\n",
    "\n",
    "cpYes = defaultdict(float)\n",
    "cpNo = defaultdict(float)\n",
    "\n",
    "K = 0.5\n",
    "\n",
    "# token ( log를 미리 씌움 )\n",
    "for t in vocabulary:\n",
    "    cpYes[t] = log((tokensYes[t]+ K) / (sumYes + K*2))  # 1 더해서 smoothing / 분모에 1씩더하는 것은 B를 더하면 됨 \n",
    "    cpNo[t] = log((tokensNo[t]+ K) / (sumNo + K*2))\n",
    "    print(t)\n",
    "    print(\"Yes, {0} = {1}+1 / {2}+{3}\".format(cpYes[t],tokensYes[t],sumYes,B))\n",
    "    print(\"No, {0} = {1}+1 / {2}+{3}\".format(cpNo[t],tokensNo[t],sumNo,B))\n",
    "\n",
    "\n",
    "# for t,f in tokensNo.items():\n",
    "#     cpNo[t] = log((f+1) / (sumNo + B))\n",
    "#     print(t)\n",
    "#     print(\"{0} = {1} / {2}+{3}\".format(cpNo[t],f,sumNo,B))"
   ]
  },
  {
   "cell_type": "code",
   "execution_count": 36,
   "metadata": {},
   "outputs": [
    {
     "data": {
      "text/plain": [
       "(defaultdict(float,\n",
       "             {'tokyo': -2.890371757896165,\n",
       "              'japan': -2.890371757896165,\n",
       "              'chinese': -0.49247648509779407,\n",
       "              'macao': -1.791759469228055,\n",
       "              'beijing': -1.791759469228055,\n",
       "              'shanghai': -1.791759469228055}),\n",
       " defaultdict(float,\n",
       "             {'tokyo': -0.9808292530117262,\n",
       "              'japan': -0.9808292530117262,\n",
       "              'chinese': -0.9808292530117262,\n",
       "              'macao': -2.0794415416798357,\n",
       "              'beijing': -2.0794415416798357,\n",
       "              'shanghai': -2.0794415416798357}))"
      ]
     },
     "execution_count": 36,
     "metadata": {},
     "output_type": "execute_result"
    }
   ],
   "source": [
    "cpYes, cpNo"
   ]
  },
  {
   "cell_type": "code",
   "execution_count": 37,
   "metadata": {},
   "outputs": [
    {
     "name": "stdout",
     "output_type": "stream",
     "text": [
      "0.0005282953563989228 0.0018539428710937502\n",
      "No\n"
     ]
    }
   ],
   "source": [
    "\n",
    "from math import log, exp\n",
    "\n",
    "for d in testSet:\n",
    "    scoreYes = log(priorYes)\n",
    "    scoreNo = log(priorNo)\n",
    "    \n",
    "    for t in d[1].lower().split():\n",
    "        # 원래는 곱셈인데 로그 취해서 + 가능 \n",
    "        scoreYes += cpYes[t]   \n",
    "        scoreNo += cpNo[t]\n",
    "        \n",
    "    print(exp(scoreYes), exp(scoreNo))  # 로그 상태로 지수 취해서 원래대로 나타냄\n",
    "    if scoreYes > scoreNo:\n",
    "        print(\"Yes\")\n",
    "    else:\n",
    "        print(\"No\")\n",
    "        \n",
    "# 빈도 수를 따라 training보고 판단했을 것. \n",
    "# testSet의 chinese를 하나로 줄이면 No를 반환함 "
   ]
  },
  {
   "cell_type": "markdown",
   "metadata": {},
   "source": [
    "# 스팸 수집 꿀팀\n",
    "\n",
    "selenium은 로그인 때문에 쓰는 것!\n",
    "\n",
    "데이터만 가로챌 것 \n"
   ]
  },
  {
   "cell_type": "code",
   "execution_count": 38,
   "metadata": {},
   "outputs": [],
   "source": [
    "from selenium import webdriver\n",
    "driver = webdriver.Chrome(executable_path='/Users/charming/Python/3. Koipa AI Learning/NLP/chromedriver')\n"
   ]
  },
  {
   "cell_type": "code",
   "execution_count": 39,
   "metadata": {},
   "outputs": [],
   "source": [
    "driver.get('https://nid.naver.com/nidlogin.login?url=http%3A%2F%2Fmail.naver.com%2F')"
   ]
  },
  {
   "cell_type": "code",
   "execution_count": 49,
   "metadata": {},
   "outputs": [],
   "source": [
    "# 쿠키값이 필요한 것 \n",
    "import requests\n",
    "\n",
    "cookie = driver.get_cookies()\n",
    "session = requests.Session()\n",
    "\n",
    "# cookie 는 dict 형태\n",
    "\n",
    "# for c in cookie:\n",
    "#     print(c['name'], c['value'])\n",
    "#     session.cookies.set(c['name'], c['value'])\n",
    "\n",
    "    # set으로 다 밀어넣으면됨"
   ]
  },
  {
   "cell_type": "code",
   "execution_count": 41,
   "metadata": {},
   "outputs": [],
   "source": [
    "# 이제 selenium 필요없음 \n",
    "# session.cookies"
   ]
  },
  {
   "cell_type": "code",
   "execution_count": 42,
   "metadata": {},
   "outputs": [],
   "source": [
    "# requests로 접근해야함 \n",
    "url = \"https://mail.naver.com/json/list/\"\n",
    "data={  \"page\":1,\n",
    "        \"sortField\":1,\n",
    "        \"sortType\":0,\n",
    "        \"folderSN\":0,\n",
    "        \"isUnread\":\"false\",\n",
    "        \"u\":\"trueman9512\"}\n",
    "\n",
    "# 로그인 안됨 \n",
    "# resp = requests.post(url,data)\n",
    "# resp.text\n",
    "\n",
    "# 쿠키만 있으면 로그인 가능 \n",
    "resp = session.post(url,data)\n",
    "# resp.text"
   ]
  },
  {
   "cell_type": "code",
   "execution_count": 43,
   "metadata": {},
   "outputs": [
    {
     "data": {
      "text/plain": [
       "str"
      ]
     },
     "execution_count": 43,
     "metadata": {},
     "output_type": "execute_result"
    }
   ],
   "source": [
    "type(resp.text)"
   ]
  },
  {
   "cell_type": "code",
   "execution_count": 45,
   "metadata": {},
   "outputs": [],
   "source": [
    "from bs4 import BeautifulSoup\n",
    "dom = BeautifulSoup(resp.content,\"lxml\")"
   ]
  },
  {
   "cell_type": "code",
   "execution_count": 46,
   "metadata": {},
   "outputs": [],
   "source": [
    "for tag in dom.select('subject'):\n",
    "    print(tag.text)"
   ]
  },
  {
   "cell_type": "code",
   "execution_count": 47,
   "metadata": {},
   "outputs": [],
   "source": [
    "for tag in dom.select(\"subject\"):\n",
    "    print(tag.text)"
   ]
  }
 ],
 "metadata": {
  "kernelspec": {
   "display_name": "Python 3",
   "language": "python",
   "name": "python3"
  },
  "language_info": {
   "codemirror_mode": {
    "name": "ipython",
    "version": 3
   },
   "file_extension": ".py",
   "mimetype": "text/x-python",
   "name": "python",
   "nbconvert_exporter": "python",
   "pygments_lexer": "ipython3",
   "version": "3.7.2"
  }
 },
 "nbformat": 4,
 "nbformat_minor": 2
}
