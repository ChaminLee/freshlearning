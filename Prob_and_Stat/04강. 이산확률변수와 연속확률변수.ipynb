{
 "cells": [
  {
   "cell_type": "markdown",
   "metadata": {},
   "source": [
    "# 제 04강. 이산확률변수와 연속확률변수\n",
    "\n",
    "Continuous Random Value. -> 셀 수 없는 ( uncountable 한 ) 것 을 말한다. \n",
    "\n",
    "다르게 말하면 특정한 값에서 특정한 확률 값을 갖지 못한다. \n",
    "\n",
    "결국 CDF에 대한 구간에 대한 확률만을 구할 수 있다. \n",
    "\n",
    "$\\lim_{∆x->0} P(x < X ≤ x + ∆x) = F_X(x+∆x) - F_X(x)$\n",
    "\n",
    "이를 $∆x$로 나누면\n",
    "\n",
    "$\\lim_{∆x->0} \\frac{P(x < X ≤ x + ∆x)}{∆x} = \\frac{F_X(x+∆x) - F_X(x)}{∆x} = F_X'(x)$\n",
    "\n",
    "어디서 많이 본듯한 미분의 모양으로 바뀌게 된다.\n",
    "\n",
    "이를 정리해보면 다음과 같다.\n",
    "\n",
    "$\\lim_{∆x->0} \\frac{F_X(x+∆x) - F_X(x)}{∆x}$\n",
    "\n",
    "이를 PDF ( Probability density function ) 이라고 한다.\n",
    "\n",
    "분자는 확률, 분모는 길이이다. 즉, \"단위 길이단 확률\", 밀도라고 한다.\n",
    "\n",
    "그리고 다음의 식들을 만족해야 한다.\n",
    "\n",
    "(1) $f_X(x) ≥0$\n",
    "\n",
    "$F_X(x)$ 는 증가하는 함수이다. \n",
    "\n",
    "$F_X'(x) = f_X(x)$ 이다. 이는 기울기이다. 증가함수의 기울기이기에 양수 값을 가지는 것이다.\n",
    "\n",
    "(2) $\\int_{-∞}^∞ f_X(x)dx = 1$\n",
    "\n",
    "위 두 가지 식을 동시에 만족시켜야 PDF가 되는 것이다. "
   ]
  },
  {
   "cell_type": "code",
   "execution_count": null,
   "metadata": {},
   "outputs": [],
   "source": []
  },
  {
   "cell_type": "code",
   "execution_count": null,
   "metadata": {},
   "outputs": [],
   "source": []
  }
 ],
 "metadata": {
  "kernelspec": {
   "display_name": "Python 3",
   "language": "python",
   "name": "python3"
  },
  "language_info": {
   "codemirror_mode": {
    "name": "ipython",
    "version": 3
   },
   "file_extension": ".py",
   "mimetype": "text/x-python",
   "name": "python",
   "nbconvert_exporter": "python",
   "pygments_lexer": "ipython3",
   "version": "3.7.2"
  }
 },
 "nbformat": 4,
 "nbformat_minor": 2
}
