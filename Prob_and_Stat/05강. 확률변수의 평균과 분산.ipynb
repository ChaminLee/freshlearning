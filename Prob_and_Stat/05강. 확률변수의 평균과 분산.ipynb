{
 "cells": [
  {
   "cell_type": "markdown",
   "metadata": {},
   "source": [
    "# 제 05강. 확률변수의 평균과 분산\n",
    "\n",
    "## Moments of Random Variables\n",
    "\n",
    "* Arithmetic average( 산술평균 )\n",
    "\n",
    "$\\bar{X} = \\frac{X_1+X_2+\\cdots+X_N}{N}$\n",
    "\n",
    "* for different frequencies \n",
    "\n",
    "$\\bar{X} = \\frac{w_1X_1 + w_2X_2 + \\cdots + w_NX_N}{w_1+w_2+\\cdots+w_N}$\n",
    "\n",
    "\n",
    "------\n",
    "\n",
    "$P_K(k) = \\frac{\\lambda^k}{k!} e^{-\\lambda}$ 이를 Poisson distribution(포아송 분포)라고 한다. \n",
    "\n",
    "$P_K(k) = k \\frac{\\lambda^k}{k!} e^{-\\lambda}$는 Taylor Series라고 하는데 이는 다음을 말한다. \n",
    "\n",
    "$\\sum_{k=0}^∞ \\frac{f^{(k)}(0)x^k}{k!}$와 같은데, 분자의 첫 번째는 f를 k번 미분한 것을 말한다. \n",
    "\n",
    "간단한 공식으로는 \n",
    "\n",
    "$E[ax+b] = aE[x] + b$로 나온다는 것을 알면된다. \n",
    "\n",
    "$E[(X-\\mu)^2] = \\sigma_x^2$ 이는 분산과 같은데 식을 전개하면 다음과 같다.\n",
    "\n",
    "$= E[X^2] - 2\\bar{X}E[X] + \\bar{X}^2$\n",
    "\n",
    "$E[X]=\\bar{X}$이기 때문에\n",
    "\n",
    "$=E[X^2] - \\bar{X}^2 $으로 정리된다. \n",
    "\n",
    "$P_K(k) = \\frac{\\lambda^k}{k!} e^{-\\lambda}$ 의 평균과 분산은 모두 $\\lambda$이다.\n",
    "\n",
    "$E[X^2] = \\lambda^2+\\lambda$로 나오기에 위의 식을 참고하면 분산을 구할 수 있다. "
   ]
  },
  {
   "cell_type": "code",
   "execution_count": null,
   "metadata": {},
   "outputs": [],
   "source": []
  },
  {
   "cell_type": "code",
   "execution_count": null,
   "metadata": {},
   "outputs": [],
   "source": []
  },
  {
   "cell_type": "code",
   "execution_count": null,
   "metadata": {},
   "outputs": [],
   "source": []
  }
 ],
 "metadata": {
  "kernelspec": {
   "display_name": "Python 3",
   "language": "python",
   "name": "python3"
  },
  "language_info": {
   "codemirror_mode": {
    "name": "ipython",
    "version": 3
   },
   "file_extension": ".py",
   "mimetype": "text/x-python",
   "name": "python",
   "nbconvert_exporter": "python",
   "pygments_lexer": "ipython3",
   "version": "3.7.2"
  }
 },
 "nbformat": 4,
 "nbformat_minor": 2
}
