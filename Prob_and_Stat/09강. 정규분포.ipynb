{
 "cells": [
  {
   "cell_type": "markdown",
   "metadata": {},
   "source": [
    "# 제 09강. 정규분포\n",
    "\n",
    "## Normal Distribution ( Gaussian ) \n",
    "\n",
    "Random Variable X : 연속적인 형태이다. \n",
    "\n",
    "pdf : $f_X(x) = \\frac{1}{\\sqrt{2 \\pi \\sigma_X^2}}e^{-\\frac{1}{2\\sigma_X^2}}(x-\\mu_X)^2$\n",
    "\n",
    "파라미터는 평균과 분산이다. \n",
    "\n",
    "$N(\\mu_X,\\sigma_X^2)$\n",
    "\n",
    "이는 평균을 기준으로 대칭적이고, 종 모양을 띄고있다. \n",
    "\n",
    "$\\sigma_X$가 크면 분포가 넓어지고 $\\sigma_X$가 작아지면 분포가 좁아진다. \n",
    "\n",
    "CDF : $F_X(x) = \\int_{-∞}^x \\frac{1}{\\sqrt{2 \\pi \\sigma_X^2}}e^{-\\frac{1}{2\\sigma_X^2}}(t-\\mu_X)^2 dt$\n",
    "\n",
    "$u = \\frac{t-\\mu_X}{\\sigma_X}$ 라고 가정하자.\n",
    "\n",
    "$ \\int_{-∞}^{ \\frac{x-\\mu_X}{\\sigma_X}} \\frac{1}{\\sqrt{2 \\pi}}e^{-\\frac{u^2}{2}} du = \\Phi(\\frac{x-\\mu_X}{\\sigma_X})$\n",
    "\n",
    "$\\Phi(-x) = 1 - \\Phi(x)$\n",
    "\n",
    "## Normal Approximation to Binomial Dist\n",
    "\n",
    "$B(n,p) -> N(np,np(1-p))$\n",
    "\n",
    "$P[a≤X≤b] = P[\\frac{a-np}{\\sqrt{np(a-p)}} ≤ Z ≤ \\frac{b-np}{\\sqrt{np(a-p)}}]$\n",
    "\n",
    "## Error Function \n",
    "\n",
    "$y = \\frac{x-\\mu_X}{\\sqrt{2}\\sigma_X}$\n",
    "\n",
    " $F_X(x) = \\int_{-∞}^x \\frac{1}{\\sqrt{2 \\pi \\sigma_X}}e^{-\\frac{(x-\\mu_X)^2}{2\\sigma_X^2}}dx$\n",
    " \n",
    " $ = \\frac{1}{\\sqrt{\\pi}} \\int_{-∞}^\\frac{x-\\mu_X}{\\sqrt{2 \\pi \\sigma_X}} e^{-y^2}dx$\n",
    " \n",
    "$erf(x) = \\frac{2}{\\sqrt{\\pi}} \\int_{-∞}^x e^{-y^2}dx$\n",
    "\n",
    "$erf^2(x) = 1$\n",
    "\n",
    "* Complementary error function\n",
    "\n",
    "$erf_C(x) = 1 - erf(x) =  \\frac{2}{\\sqrt{\\pi}} \\int_x^∞ e^{-y^2}dy$"
   ]
  },
  {
   "cell_type": "code",
   "execution_count": null,
   "metadata": {},
   "outputs": [],
   "source": []
  }
 ],
 "metadata": {
  "kernelspec": {
   "display_name": "Python 3",
   "language": "python",
   "name": "python3"
  },
  "language_info": {
   "codemirror_mode": {
    "name": "ipython",
    "version": 3
   },
   "file_extension": ".py",
   "mimetype": "text/x-python",
   "name": "python",
   "nbconvert_exporter": "python",
   "pygments_lexer": "ipython3",
   "version": "3.7.2"
  }
 },
 "nbformat": 4,
 "nbformat_minor": 2
}
