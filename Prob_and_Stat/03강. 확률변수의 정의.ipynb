{
 "cells": [
  {
   "cell_type": "markdown",
   "metadata": {},
   "source": [
    "# 제 03. 확률변수의 정의\n",
    "\n",
    "랜덤한 실험을 통해 나온 결과를 실수값(real value)에 mapping한 것을 R.V(확률변수)라고 한다. \n",
    "\n",
    "관습 상, 확률변수는 대문자로 / 실수 값은 소문자로 표기한다.\n",
    "\n",
    "\n",
    "* Probability assignment\n",
    "\n",
    "$P(X≤x) = P(\\{w|X(w) ≤ x\\})$\n",
    "\n",
    "$P(X>x) = 1 - P(X≤x)$\n",
    "\n",
    "위는 기본적이면서도 유용하게 쓰이는 법칙이다.\n",
    "\n",
    "### Distribution Functions\n",
    "\n",
    "* Cumulative Distribution Function ( CDF, 누적확률분포 )\n",
    "\n",
    "$F_X(x) = P[X≤x] = P(\\{w|X(w)≥x\\})$\n",
    "\n",
    "(1) if $x_1 < x_2$, then $F_(x_1) ≤ F(x_2)$\n",
    "\n",
    "(2) $0 ≤ F_X(x) ≤ 1$\n",
    "\n",
    "(3) $F_X(∞)=1$\n",
    "\n",
    "(4) $F_X(-∞) = 0$\n",
    "\n",
    "(5) $P[a<X≤b] = F_X(b) - F_X(a)$\n",
    "\n",
    "(6) $P[X>a] = 1 - F_X(a)$\n",
    "\n",
    "### Discrete Random Variables\n",
    "\n",
    "* Probability mass function ( Pmf )\n",
    "\n",
    "말 그대로 연속되지 않고 특정 값에서만 값을 가지는 분포 ( step function = 계단형 )\n",
    "\n",
    "$P_X(x) = P[X=x]$\n",
    "\n",
    "어쨌거나 모든 분포의 합의 결과는 1이다."
   ]
  },
  {
   "cell_type": "code",
   "execution_count": null,
   "metadata": {},
   "outputs": [],
   "source": []
  },
  {
   "cell_type": "code",
   "execution_count": null,
   "metadata": {},
   "outputs": [],
   "source": []
  },
  {
   "cell_type": "code",
   "execution_count": null,
   "metadata": {},
   "outputs": [],
   "source": []
  },
  {
   "cell_type": "code",
   "execution_count": null,
   "metadata": {},
   "outputs": [],
   "source": []
  },
  {
   "cell_type": "code",
   "execution_count": null,
   "metadata": {},
   "outputs": [],
   "source": []
  },
  {
   "cell_type": "code",
   "execution_count": null,
   "metadata": {},
   "outputs": [],
   "source": []
  },
  {
   "cell_type": "code",
   "execution_count": null,
   "metadata": {},
   "outputs": [],
   "source": []
  },
  {
   "cell_type": "code",
   "execution_count": null,
   "metadata": {},
   "outputs": [],
   "source": []
  },
  {
   "cell_type": "code",
   "execution_count": null,
   "metadata": {},
   "outputs": [],
   "source": []
  },
  {
   "cell_type": "code",
   "execution_count": null,
   "metadata": {},
   "outputs": [],
   "source": []
  },
  {
   "cell_type": "code",
   "execution_count": null,
   "metadata": {},
   "outputs": [],
   "source": []
  },
  {
   "cell_type": "code",
   "execution_count": null,
   "metadata": {},
   "outputs": [],
   "source": []
  },
  {
   "cell_type": "code",
   "execution_count": null,
   "metadata": {},
   "outputs": [],
   "source": []
  },
  {
   "cell_type": "code",
   "execution_count": null,
   "metadata": {},
   "outputs": [],
   "source": []
  }
 ],
 "metadata": {
  "kernelspec": {
   "display_name": "Python 3",
   "language": "python",
   "name": "python3"
  },
  "language_info": {
   "codemirror_mode": {
    "name": "ipython",
    "version": 3
   },
   "file_extension": ".py",
   "mimetype": "text/x-python",
   "name": "python",
   "nbconvert_exporter": "python",
   "pygments_lexer": "ipython3",
   "version": "3.7.2"
  }
 },
 "nbformat": 4,
 "nbformat_minor": 2
}
